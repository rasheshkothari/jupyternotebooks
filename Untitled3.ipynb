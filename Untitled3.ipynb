{
 "cells": [
  {
   "cell_type": "code",
   "execution_count": 1,
   "id": "human-leave",
   "metadata": {},
   "outputs": [],
   "source": [
    "import warnings\n",
    "warnings.filterwarnings('ignore')\n",
    "\n",
    "import pandas as pd\n",
    "import numpy as np\n",
    "import matplotlib.pyplot as plt\n",
    "import seaborn as sb\n",
    "from pylab import rcParams\n",
    "import os\n",
    "import re\n",
    "%matplotlib inline\n",
    "\n",
    "# from fuzzywuzzy import fuzz\n",
    "# from fuzzywuzzy import process\n",
    "from rapidfuzz import fuzz, process, utils\n",
    "import jellyfish\n",
    "import snowflake.connector\n",
    "# import torch\n",
    "# from sentence_transformers import SentenceTransformer, util\n",
    "# model = SentenceTransformer('stsb-roberta-large')\n",
    "\n",
    "# Imported the inaugural corpus from nltk.corpus\n",
    "import nltk\n",
    "from nltk.corpus import inaugural\n",
    "from nltk.tokenize import regexp_tokenize\n",
    "from nltk.stem import WordNetLemmatizer\n",
    "from nltk.corpus import stopwords\n",
    "\n",
    "from sklearn.model_selection import train_test_split\n",
    "from sklearn.feature_extraction.text import TfidfVectorizer\n",
    "from sklearn.preprocessing import LabelEncoder\n",
    "\n",
    "import gensim\n",
    "from gensim.utils import simple_preprocess\n",
    "from gensim.utils import simple_preprocess\n",
    "from gensim.models import Word2Vec\n",
    "from gensim.models import TfidfModel\n",
    "from gensim.corpora import Dictionary\n",
    "import num2words\n",
    "from num2words import num2words\n",
    "import time\n",
    "# from time import time\n",
    "\n",
    "pd.options.display.max_colwidth = 10000"
   ]
  },
  {
   "cell_type": "code",
   "execution_count": 4,
   "id": "coordinate-perspective",
   "metadata": {},
   "outputs": [],
   "source": [
    "import datetime\n",
    "from dateutil.rrule import rrule, MONTHLY\n",
    "\n",
    "strt_dt = datetime.date(2020,1,1)\n",
    "end_dt = datetime.date(2020,4,1)\n",
    "\n",
    "dates = [dt.strftime('%Y-%m-%d') for dt in rrule(MONTHLY, dtstart=strt_dt, until=end_dt)]"
   ]
  },
  {
   "cell_type": "code",
   "execution_count": null,
   "id": "proud-oxford",
   "metadata": {},
   "outputs": [
    {
     "name": "stdout",
     "output_type": "stream",
     "text": [
      "2020-01-01\n"
     ]
    }
   ],
   "source": [
    "for i in range(0,len(dates)-1): \n",
    "    print(dates[i])\n",
    "    q = '''SELECT  DISTINCT E.INVOICE_DATE,INVOICE_ITEM_FTS_ID,E.DISTRIBUTOR_FTS_ID,\n",
    "    D.DISTRIBUTOR_NAME, D.DISTRIBUTOR_ADDRESS, D.DISTRIBUTOR_CITY, D.DISTRIBUTOR_STATE, D.DISTRIBUTOR_ZIP,\n",
    "    INVOICE_ITEM_TOTAL_PRICE\n",
    "    FROM FDC_PROD_LIVE.FDC02.ENTITY_INVOICE E\n",
    "    inner join  FDC_PROD_LIVE.FDC02.ENTITY_DISTRIBUTOR D\n",
    "    ON D.DISTRIBUTOR_FTS_ID = E.DISTRIBUTOR_FTS_ID\n",
    "    WHERE E.INVOICE_DATE >= %(dstart)s  and E.INVOICE_DATE <= %(dends)s\n",
    "    \n",
    "    '''\n",
    "#     x = pd.read_sql(q,cnx,params={\"dstart\": dates[i], \"dends\": dates[i+1]})\n",
    "#     x.to_csv(\"~/Downloads/{}.csv\".format(dates[i]))              \n",
    "    \n",
    "    results = con.execute(q, params={\"dstart\": dates[i], \"dends\": dates[i+1]})\n",
    "    x = pd.DataFrame.from_records(iter(results), columns=[y[0] for y in results.description])\n",
    "    x.to_csv(\"~/Downloads/{}.csv\".format(dates[i]))\n",
    "    \n",
    "    "
   ]
  },
  {
   "cell_type": "code",
   "execution_count": null,
   "id": "colored-guidance",
   "metadata": {},
   "outputs": [],
   "source": []
  }
 ],
 "metadata": {
  "kernelspec": {
   "display_name": "Python 3",
   "language": "python",
   "name": "python3"
  },
  "language_info": {
   "codemirror_mode": {
    "name": "ipython",
    "version": 3
   },
   "file_extension": ".py",
   "mimetype": "text/x-python",
   "name": "python",
   "nbconvert_exporter": "python",
   "pygments_lexer": "ipython3",
   "version": "3.7.3"
  }
 },
 "nbformat": 4,
 "nbformat_minor": 5
}
