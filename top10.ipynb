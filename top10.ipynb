{
 "cells": [
  {
   "cell_type": "code",
   "execution_count": 1,
   "id": "emotional-halloween",
   "metadata": {},
   "outputs": [],
   "source": [
    "import warnings\n",
    "warnings.filterwarnings('ignore')\n",
    "\n",
    "import pandas as pd\n",
    "import numpy as np\n",
    "import matplotlib.pyplot as plt\n",
    "import seaborn as sb\n",
    "from pylab import rcParams\n",
    "import os\n",
    "import re\n",
    "%matplotlib inline\n",
    "\n",
    "from fuzzywuzzy import fuzz\n",
    "from fuzzywuzzy import process\n",
    "\n",
    "import jellyfish\n",
    "\n",
    "# import torch\n",
    "# from sentence_transformers import SentenceTransformer, util\n",
    "# model = SentenceTransformer('stsb-roberta-large')\n",
    "\n",
    "# Imported the inaugural corpus from nltk.corpus\n",
    "import nltk\n",
    "from nltk.corpus import inaugural\n",
    "from nltk.tokenize import regexp_tokenize\n",
    "from nltk.stem import WordNetLemmatizer\n",
    "from nltk.corpus import stopwords\n",
    "\n",
    "from sklearn.model_selection import train_test_split\n",
    "from sklearn.feature_extraction.text import TfidfVectorizer\n",
    "from sklearn.preprocessing import LabelEncoder\n",
    "\n",
    "import gensim\n",
    "from gensim.utils import simple_preprocess\n",
    "from gensim.utils import simple_preprocess\n",
    "from gensim.models import Word2Vec\n",
    "from gensim.models import TfidfModel\n",
    "from gensim.corpora import Dictionary\n",
    "import num2words\n",
    "from num2words import num2words\n",
    "import time\n",
    "# from time import time\n",
    "\n",
    "pd.options.display.max_colwidth = 10000"
   ]
  },
  {
   "cell_type": "code",
   "execution_count": 2,
   "id": "medical-testament",
   "metadata": {},
   "outputs": [],
   "source": [
    "# pip uninstall tensorflow --y"
   ]
  },
  {
   "cell_type": "code",
   "execution_count": 3,
   "id": "deluxe-worship",
   "metadata": {},
   "outputs": [],
   "source": [
    "masterkey_pdtdesc = pd.read_csv('~/Downloads/mapped_unique_masterkey_product_desc.csv', engine='python')"
   ]
  },
  {
   "cell_type": "code",
   "execution_count": 4,
   "id": "partial-dutch",
   "metadata": {},
   "outputs": [
    {
     "data": {
      "text/plain": [
       "53741"
      ]
     },
     "execution_count": 4,
     "metadata": {},
     "output_type": "execute_result"
    }
   ],
   "source": [
    "len(masterkey_pdtdesc)"
   ]
  },
  {
   "cell_type": "code",
   "execution_count": 5,
   "id": "circular-sport",
   "metadata": {},
   "outputs": [],
   "source": [
    "invoice_lessthan10_UPC_desc = pd.read_csv('~/Downloads/lessthan10_UPC_desc.csv', engine='python')"
   ]
  },
  {
   "cell_type": "code",
   "execution_count": 6,
   "id": "nearby-kidney",
   "metadata": {},
   "outputs": [],
   "source": [
    "masterkey_pdtdesc.sort_values(by = 'PRODUCT_DESCRIPTION', inplace = True)"
   ]
  },
  {
   "cell_type": "code",
   "execution_count": 7,
   "id": "scientific-adams",
   "metadata": {},
   "outputs": [],
   "source": [
    "invoice_lessthan10_UPC_desc.sort_values(by = 'INVOICE_PACKAGE_DESCRIPTION', inplace = True)"
   ]
  },
  {
   "cell_type": "code",
   "execution_count": 8,
   "id": "hearing-lunch",
   "metadata": {},
   "outputs": [
    {
     "data": {
      "text/plain": [
       "630036"
      ]
     },
     "execution_count": 8,
     "metadata": {},
     "output_type": "execute_result"
    }
   ],
   "source": [
    "len(invoice_lessthan10_UPC_desc)"
   ]
  },
  {
   "cell_type": "code",
   "execution_count": 22,
   "id": "civic-yorkshire",
   "metadata": {},
   "outputs": [],
   "source": [
    "subset_invoice = invoice_lessthan10_UPC_desc[:10]"
   ]
  },
  {
   "cell_type": "code",
   "execution_count": 23,
   "id": "sporting-turtle",
   "metadata": {},
   "outputs": [
    {
     "data": {
      "text/html": [
       "<div>\n",
       "<style scoped>\n",
       "    .dataframe tbody tr th:only-of-type {\n",
       "        vertical-align: middle;\n",
       "    }\n",
       "\n",
       "    .dataframe tbody tr th {\n",
       "        vertical-align: top;\n",
       "    }\n",
       "\n",
       "    .dataframe thead th {\n",
       "        text-align: right;\n",
       "    }\n",
       "</style>\n",
       "<table border=\"1\" class=\"dataframe\">\n",
       "  <thead>\n",
       "    <tr style=\"text-align: right;\">\n",
       "      <th></th>\n",
       "      <th>Unnamed: 0</th>\n",
       "      <th>INVOICE_PACKAGE_DESCRIPTION</th>\n",
       "    </tr>\n",
       "  </thead>\n",
       "  <tbody>\n",
       "    <tr>\n",
       "      <th>173592</th>\n",
       "      <td>173592</td>\n",
       "      <td>MAMAMANGO 750ML</td>\n",
       "    </tr>\n",
       "    <tr>\n",
       "      <th>219482</th>\n",
       "      <td>219482</td>\n",
       "      <td>SAY WHEN DOUBLE IPA 4 PACK</td>\n",
       "    </tr>\n",
       "    <tr>\n",
       "      <th>222877</th>\n",
       "      <td>222877</td>\n",
       "      <td>10% MARK UP</td>\n",
       "    </tr>\n",
       "    <tr>\n",
       "      <th>383737</th>\n",
       "      <td>383737</td>\n",
       "      <td>12 PACK BUD LIGHT CANS</td>\n",
       "    </tr>\n",
       "    <tr>\n",
       "      <th>628030</th>\n",
       "      <td>628030</td>\n",
       "      <td>16OZ H.PL. 20/50</td>\n",
       "    </tr>\n",
       "    <tr>\n",
       "      <th>67993</th>\n",
       "      <td>67993</td>\n",
       "      <td>2009 CH. ST. SATURNIN</td>\n",
       "    </tr>\n",
       "    <tr>\n",
       "      <th>342852</th>\n",
       "      <td>342852</td>\n",
       "      <td>2010 CH. QUEYRON PINDEFLEURS, ST. EMILION G.C.</td>\n",
       "    </tr>\n",
       "    <tr>\n",
       "      <th>263733</th>\n",
       "      <td>263733</td>\n",
       "      <td>2011 CH. QUEYRON PINDEFLEURS</td>\n",
       "    </tr>\n",
       "    <tr>\n",
       "      <th>129243</th>\n",
       "      <td>129243</td>\n",
       "      <td>2013 RION, CHAMBOLLE-MUSIGNY 'LES ECHEZEAUX'</td>\n",
       "    </tr>\n",
       "    <tr>\n",
       "      <th>287214</th>\n",
       "      <td>287214</td>\n",
       "      <td>2017 BELLAND, CHASSAGNE-MONTRACHET 1ER MORGEOT 'CLOS PITOIS' BLANC  375ML</td>\n",
       "    </tr>\n",
       "  </tbody>\n",
       "</table>\n",
       "</div>"
      ],
      "text/plain": [
       "        Unnamed: 0  \\\n",
       "173592      173592   \n",
       "219482      219482   \n",
       "222877      222877   \n",
       "383737      383737   \n",
       "628030      628030   \n",
       "67993        67993   \n",
       "342852      342852   \n",
       "263733      263733   \n",
       "129243      129243   \n",
       "287214      287214   \n",
       "\n",
       "                                                       INVOICE_PACKAGE_DESCRIPTION  \n",
       "173592                                                             MAMAMANGO 750ML  \n",
       "219482                                                  SAY WHEN DOUBLE IPA 4 PACK  \n",
       "222877                                                                 10% MARK UP  \n",
       "383737                                                     12 PACK BUD LIGHT CANS   \n",
       "628030                                                            16OZ H.PL. 20/50  \n",
       "67993                                                        2009 CH. ST. SATURNIN  \n",
       "342852                              2010 CH. QUEYRON PINDEFLEURS, ST. EMILION G.C.  \n",
       "263733                                                2011 CH. QUEYRON PINDEFLEURS  \n",
       "129243                                2013 RION, CHAMBOLLE-MUSIGNY 'LES ECHEZEAUX'  \n",
       "287214   2017 BELLAND, CHASSAGNE-MONTRACHET 1ER MORGEOT 'CLOS PITOIS' BLANC  375ML  "
      ]
     },
     "execution_count": 23,
     "metadata": {},
     "output_type": "execute_result"
    }
   ],
   "source": [
    "subset_invoice.head(100)"
   ]
  },
  {
   "cell_type": "code",
   "execution_count": 24,
   "id": "favorite-tooth",
   "metadata": {},
   "outputs": [],
   "source": [
    "subset_master = masterkey_pdtdesc[:100]"
   ]
  },
  {
   "cell_type": "code",
   "execution_count": 12,
   "id": "essential-reconstruction",
   "metadata": {},
   "outputs": [
    {
     "data": {
      "text/plain": [
       "Index(['Unnamed: 0', 'PRODUCT_MASTER_CATALOG_KEY', 'PRODUCT_DESCRIPTION'], dtype='object')"
      ]
     },
     "execution_count": 12,
     "metadata": {},
     "output_type": "execute_result"
    }
   ],
   "source": [
    "subset_master.columns"
   ]
  },
  {
   "cell_type": "code",
   "execution_count": 13,
   "id": "invalid-westminster",
   "metadata": {},
   "outputs": [],
   "source": [
    "start = time.time()"
   ]
  },
  {
   "cell_type": "code",
   "execution_count": 15,
   "id": "amateur-floating",
   "metadata": {},
   "outputs": [
    {
     "ename": "KeyboardInterrupt",
     "evalue": "",
     "output_type": "error",
     "traceback": [
      "\u001b[0;31m---------------------------------------------------------------------------\u001b[0m",
      "\u001b[0;31mKeyboardInterrupt\u001b[0m                         Traceback (most recent call last)",
      "\u001b[0;32m<ipython-input-15-08efa949b68d>\u001b[0m in \u001b[0;36m<module>\u001b[0;34m\u001b[0m\n\u001b[1;32m      6\u001b[0m     \u001b[0;32mfor\u001b[0m \u001b[0mj\u001b[0m \u001b[0;32min\u001b[0m \u001b[0msubset_master\u001b[0m\u001b[0;34m.\u001b[0m\u001b[0mindex\u001b[0m\u001b[0;34m:\u001b[0m\u001b[0;34m\u001b[0m\u001b[0;34m\u001b[0m\u001b[0m\n\u001b[1;32m      7\u001b[0m \u001b[0;34m\u001b[0m\u001b[0m\n\u001b[0;32m----> 8\u001b[0;31m         \u001b[0mratio\u001b[0m\u001b[0;34m.\u001b[0m\u001b[0mappend\u001b[0m\u001b[0;34m(\u001b[0m\u001b[0;34m[\u001b[0m\u001b[0msubset_master\u001b[0m\u001b[0;34m.\u001b[0m\u001b[0mloc\u001b[0m\u001b[0;34m[\u001b[0m\u001b[0mj\u001b[0m\u001b[0;34m,\u001b[0m\u001b[0;34m\"PRODUCT_MASTER_CATALOG_KEY\"\u001b[0m\u001b[0;34m]\u001b[0m\u001b[0;34m,\u001b[0m\u001b[0msubset_invoice\u001b[0m\u001b[0;34m.\u001b[0m\u001b[0mloc\u001b[0m\u001b[0;34m[\u001b[0m\u001b[0mi\u001b[0m\u001b[0;34m,\u001b[0m\u001b[0;34m\"INVOICE_PACKAGE_DESCRIPTION\"\u001b[0m\u001b[0;34m]\u001b[0m\u001b[0;34m,\u001b[0m\u001b[0msubset_master\u001b[0m\u001b[0;34m.\u001b[0m\u001b[0mloc\u001b[0m\u001b[0;34m[\u001b[0m\u001b[0mj\u001b[0m\u001b[0;34m,\u001b[0m\u001b[0;34m\"PRODUCT_DESCRIPTION\"\u001b[0m\u001b[0;34m]\u001b[0m\u001b[0;34m,\u001b[0m\u001b[0mfuzz\u001b[0m\u001b[0;34m.\u001b[0m\u001b[0mpartial_ratio\u001b[0m\u001b[0;34m(\u001b[0m\u001b[0msubset_invoice\u001b[0m\u001b[0;34m.\u001b[0m\u001b[0mloc\u001b[0m\u001b[0;34m[\u001b[0m\u001b[0mi\u001b[0m\u001b[0;34m,\u001b[0m\u001b[0;34m\"INVOICE_PACKAGE_DESCRIPTION\"\u001b[0m\u001b[0;34m]\u001b[0m\u001b[0;34m,\u001b[0m\u001b[0msubset_master\u001b[0m\u001b[0;34m.\u001b[0m\u001b[0mloc\u001b[0m\u001b[0;34m[\u001b[0m\u001b[0mj\u001b[0m\u001b[0;34m,\u001b[0m\u001b[0;34m\"PRODUCT_DESCRIPTION\"\u001b[0m\u001b[0;34m]\u001b[0m\u001b[0;34m)\u001b[0m\u001b[0;34m]\u001b[0m\u001b[0;34m)\u001b[0m\u001b[0;34m\u001b[0m\u001b[0;34m\u001b[0m\u001b[0m\n\u001b[0m\u001b[1;32m      9\u001b[0m \u001b[0;34m\u001b[0m\u001b[0m\n\u001b[1;32m     10\u001b[0m         \u001b[0mratiox\u001b[0m \u001b[0;34m=\u001b[0m \u001b[0mpd\u001b[0m\u001b[0;34m.\u001b[0m\u001b[0mDataFrame\u001b[0m\u001b[0;34m(\u001b[0m\u001b[0mratio\u001b[0m\u001b[0;34m,\u001b[0m \u001b[0mcolumns\u001b[0m\u001b[0;34m=\u001b[0m\u001b[0;34m(\u001b[0m\u001b[0;34m'PRODUCT_MASTER_CATALOG_KEY'\u001b[0m\u001b[0;34m,\u001b[0m\u001b[0;34m'INVOICE_PACKAGE_DESCRIPTION'\u001b[0m\u001b[0;34m,\u001b[0m\u001b[0;34m'PRODUCT_DESCRIPTION'\u001b[0m\u001b[0;34m,\u001b[0m\u001b[0;34m'ratio_score'\u001b[0m\u001b[0;34m)\u001b[0m\u001b[0;34m)\u001b[0m\u001b[0;34m.\u001b[0m\u001b[0msort_values\u001b[0m\u001b[0;34m(\u001b[0m\u001b[0;34m[\u001b[0m\u001b[0;34m'INVOICE_PACKAGE_DESCRIPTION'\u001b[0m\u001b[0;34m,\u001b[0m\u001b[0;34m'ratio_score'\u001b[0m\u001b[0;34m]\u001b[0m\u001b[0;34m,\u001b[0m\u001b[0mascending\u001b[0m\u001b[0;34m=\u001b[0m\u001b[0;32mFalse\u001b[0m\u001b[0;34m)\u001b[0m\u001b[0;34m.\u001b[0m\u001b[0mgroupby\u001b[0m\u001b[0;34m(\u001b[0m\u001b[0;34m\"INVOICE_PACKAGE_DESCRIPTION\"\u001b[0m\u001b[0;34m)\u001b[0m\u001b[0;34m.\u001b[0m\u001b[0mhead\u001b[0m\u001b[0;34m(\u001b[0m\u001b[0;36m10\u001b[0m\u001b[0;34m)\u001b[0m\u001b[0;34m.\u001b[0m\u001b[0mreset_index\u001b[0m\u001b[0;34m(\u001b[0m\u001b[0;34m)\u001b[0m\u001b[0;34m\u001b[0m\u001b[0;34m\u001b[0m\u001b[0m\n",
      "\u001b[0;32m~/.local/lib/python3.7/site-packages/fuzzywuzzy/utils.py\u001b[0m in \u001b[0;36mdecorator\u001b[0;34m(*args, **kwargs)\u001b[0m\n\u001b[1;32m     36\u001b[0m         \u001b[0;32mif\u001b[0m \u001b[0margs\u001b[0m\u001b[0;34m[\u001b[0m\u001b[0;36m0\u001b[0m\u001b[0;34m]\u001b[0m \u001b[0;32mis\u001b[0m \u001b[0;32mNone\u001b[0m \u001b[0;32mor\u001b[0m \u001b[0margs\u001b[0m\u001b[0;34m[\u001b[0m\u001b[0;36m1\u001b[0m\u001b[0;34m]\u001b[0m \u001b[0;32mis\u001b[0m \u001b[0;32mNone\u001b[0m\u001b[0;34m:\u001b[0m\u001b[0;34m\u001b[0m\u001b[0;34m\u001b[0m\u001b[0m\n\u001b[1;32m     37\u001b[0m             \u001b[0;32mreturn\u001b[0m \u001b[0;36m0\u001b[0m\u001b[0;34m\u001b[0m\u001b[0;34m\u001b[0m\u001b[0m\n\u001b[0;32m---> 38\u001b[0;31m         \u001b[0;32mreturn\u001b[0m \u001b[0mfunc\u001b[0m\u001b[0;34m(\u001b[0m\u001b[0;34m*\u001b[0m\u001b[0margs\u001b[0m\u001b[0;34m,\u001b[0m \u001b[0;34m**\u001b[0m\u001b[0mkwargs\u001b[0m\u001b[0;34m)\u001b[0m\u001b[0;34m\u001b[0m\u001b[0;34m\u001b[0m\u001b[0m\n\u001b[0m\u001b[1;32m     39\u001b[0m     \u001b[0;32mreturn\u001b[0m \u001b[0mdecorator\u001b[0m\u001b[0;34m\u001b[0m\u001b[0;34m\u001b[0m\u001b[0m\n\u001b[1;32m     40\u001b[0m \u001b[0;34m\u001b[0m\u001b[0m\n",
      "\u001b[0;32m~/.local/lib/python3.7/site-packages/fuzzywuzzy/utils.py\u001b[0m in \u001b[0;36mdecorator\u001b[0;34m(*args, **kwargs)\u001b[0m\n\u001b[1;32m     27\u001b[0m         \u001b[0;32mif\u001b[0m \u001b[0margs\u001b[0m\u001b[0;34m[\u001b[0m\u001b[0;36m0\u001b[0m\u001b[0;34m]\u001b[0m \u001b[0;34m==\u001b[0m \u001b[0margs\u001b[0m\u001b[0;34m[\u001b[0m\u001b[0;36m1\u001b[0m\u001b[0;34m]\u001b[0m\u001b[0;34m:\u001b[0m\u001b[0;34m\u001b[0m\u001b[0;34m\u001b[0m\u001b[0m\n\u001b[1;32m     28\u001b[0m             \u001b[0;32mreturn\u001b[0m \u001b[0;36m100\u001b[0m\u001b[0;34m\u001b[0m\u001b[0;34m\u001b[0m\u001b[0m\n\u001b[0;32m---> 29\u001b[0;31m         \u001b[0;32mreturn\u001b[0m \u001b[0mfunc\u001b[0m\u001b[0;34m(\u001b[0m\u001b[0;34m*\u001b[0m\u001b[0margs\u001b[0m\u001b[0;34m,\u001b[0m \u001b[0;34m**\u001b[0m\u001b[0mkwargs\u001b[0m\u001b[0;34m)\u001b[0m\u001b[0;34m\u001b[0m\u001b[0;34m\u001b[0m\u001b[0m\n\u001b[0m\u001b[1;32m     30\u001b[0m     \u001b[0;32mreturn\u001b[0m \u001b[0mdecorator\u001b[0m\u001b[0;34m\u001b[0m\u001b[0;34m\u001b[0m\u001b[0m\n\u001b[1;32m     31\u001b[0m \u001b[0;34m\u001b[0m\u001b[0m\n",
      "\u001b[0;32m~/.local/lib/python3.7/site-packages/fuzzywuzzy/utils.py\u001b[0m in \u001b[0;36mdecorator\u001b[0;34m(*args, **kwargs)\u001b[0m\n\u001b[1;32m     45\u001b[0m         \u001b[0;32mif\u001b[0m \u001b[0mlen\u001b[0m\u001b[0;34m(\u001b[0m\u001b[0margs\u001b[0m\u001b[0;34m[\u001b[0m\u001b[0;36m0\u001b[0m\u001b[0;34m]\u001b[0m\u001b[0;34m)\u001b[0m \u001b[0;34m==\u001b[0m \u001b[0;36m0\u001b[0m \u001b[0;32mor\u001b[0m \u001b[0mlen\u001b[0m\u001b[0;34m(\u001b[0m\u001b[0margs\u001b[0m\u001b[0;34m[\u001b[0m\u001b[0;36m1\u001b[0m\u001b[0;34m]\u001b[0m\u001b[0;34m)\u001b[0m \u001b[0;34m==\u001b[0m \u001b[0;36m0\u001b[0m\u001b[0;34m:\u001b[0m\u001b[0;34m\u001b[0m\u001b[0;34m\u001b[0m\u001b[0m\n\u001b[1;32m     46\u001b[0m             \u001b[0;32mreturn\u001b[0m \u001b[0;36m0\u001b[0m\u001b[0;34m\u001b[0m\u001b[0;34m\u001b[0m\u001b[0m\n\u001b[0;32m---> 47\u001b[0;31m         \u001b[0;32mreturn\u001b[0m \u001b[0mfunc\u001b[0m\u001b[0;34m(\u001b[0m\u001b[0;34m*\u001b[0m\u001b[0margs\u001b[0m\u001b[0;34m,\u001b[0m \u001b[0;34m**\u001b[0m\u001b[0mkwargs\u001b[0m\u001b[0;34m)\u001b[0m\u001b[0;34m\u001b[0m\u001b[0;34m\u001b[0m\u001b[0m\n\u001b[0m\u001b[1;32m     48\u001b[0m     \u001b[0;32mreturn\u001b[0m \u001b[0mdecorator\u001b[0m\u001b[0;34m\u001b[0m\u001b[0;34m\u001b[0m\u001b[0m\n\u001b[1;32m     49\u001b[0m \u001b[0;34m\u001b[0m\u001b[0m\n",
      "\u001b[0;32m~/.local/lib/python3.7/site-packages/fuzzywuzzy/fuzz.py\u001b[0m in \u001b[0;36mpartial_ratio\u001b[0;34m(s1, s2)\u001b[0m\n\u001b[1;32m     60\u001b[0m \u001b[0;34m\u001b[0m\u001b[0m\n\u001b[1;32m     61\u001b[0m         \u001b[0mm2\u001b[0m \u001b[0;34m=\u001b[0m \u001b[0mSequenceMatcher\u001b[0m\u001b[0;34m(\u001b[0m\u001b[0;32mNone\u001b[0m\u001b[0;34m,\u001b[0m \u001b[0mshorter\u001b[0m\u001b[0;34m,\u001b[0m \u001b[0mlong_substr\u001b[0m\u001b[0;34m)\u001b[0m\u001b[0;34m\u001b[0m\u001b[0;34m\u001b[0m\u001b[0m\n\u001b[0;32m---> 62\u001b[0;31m         \u001b[0mr\u001b[0m \u001b[0;34m=\u001b[0m \u001b[0mm2\u001b[0m\u001b[0;34m.\u001b[0m\u001b[0mratio\u001b[0m\u001b[0;34m(\u001b[0m\u001b[0;34m)\u001b[0m\u001b[0;34m\u001b[0m\u001b[0;34m\u001b[0m\u001b[0m\n\u001b[0m\u001b[1;32m     63\u001b[0m         \u001b[0;32mif\u001b[0m \u001b[0mr\u001b[0m \u001b[0;34m>\u001b[0m \u001b[0;36m.995\u001b[0m\u001b[0;34m:\u001b[0m\u001b[0;34m\u001b[0m\u001b[0;34m\u001b[0m\u001b[0m\n\u001b[1;32m     64\u001b[0m             \u001b[0;32mreturn\u001b[0m \u001b[0;36m100\u001b[0m\u001b[0;34m\u001b[0m\u001b[0;34m\u001b[0m\u001b[0m\n",
      "\u001b[0;32m/usr/lib/python3.7/difflib.py\u001b[0m in \u001b[0;36mratio\u001b[0;34m(self)\u001b[0m\n\u001b[1;32m    642\u001b[0m         \"\"\"\n\u001b[1;32m    643\u001b[0m \u001b[0;34m\u001b[0m\u001b[0m\n\u001b[0;32m--> 644\u001b[0;31m         \u001b[0mmatches\u001b[0m \u001b[0;34m=\u001b[0m \u001b[0msum\u001b[0m\u001b[0;34m(\u001b[0m\u001b[0mtriple\u001b[0m\u001b[0;34m[\u001b[0m\u001b[0;34m-\u001b[0m\u001b[0;36m1\u001b[0m\u001b[0;34m]\u001b[0m \u001b[0;32mfor\u001b[0m \u001b[0mtriple\u001b[0m \u001b[0;32min\u001b[0m \u001b[0mself\u001b[0m\u001b[0;34m.\u001b[0m\u001b[0mget_matching_blocks\u001b[0m\u001b[0;34m(\u001b[0m\u001b[0;34m)\u001b[0m\u001b[0;34m)\u001b[0m\u001b[0;34m\u001b[0m\u001b[0;34m\u001b[0m\u001b[0m\n\u001b[0m\u001b[1;32m    645\u001b[0m         \u001b[0;32mreturn\u001b[0m \u001b[0m_calculate_ratio\u001b[0m\u001b[0;34m(\u001b[0m\u001b[0mmatches\u001b[0m\u001b[0;34m,\u001b[0m \u001b[0mlen\u001b[0m\u001b[0;34m(\u001b[0m\u001b[0mself\u001b[0m\u001b[0;34m.\u001b[0m\u001b[0ma\u001b[0m\u001b[0;34m)\u001b[0m \u001b[0;34m+\u001b[0m \u001b[0mlen\u001b[0m\u001b[0;34m(\u001b[0m\u001b[0mself\u001b[0m\u001b[0;34m.\u001b[0m\u001b[0mb\u001b[0m\u001b[0;34m)\u001b[0m\u001b[0;34m)\u001b[0m\u001b[0;34m\u001b[0m\u001b[0;34m\u001b[0m\u001b[0m\n\u001b[1;32m    646\u001b[0m \u001b[0;34m\u001b[0m\u001b[0m\n",
      "\u001b[0;32m/usr/lib/python3.7/difflib.py\u001b[0m in \u001b[0;36mget_matching_blocks\u001b[0;34m(self)\u001b[0m\n\u001b[1;32m    477\u001b[0m         \u001b[0;32mwhile\u001b[0m \u001b[0mqueue\u001b[0m\u001b[0;34m:\u001b[0m\u001b[0;34m\u001b[0m\u001b[0;34m\u001b[0m\u001b[0m\n\u001b[1;32m    478\u001b[0m             \u001b[0malo\u001b[0m\u001b[0;34m,\u001b[0m \u001b[0mahi\u001b[0m\u001b[0;34m,\u001b[0m \u001b[0mblo\u001b[0m\u001b[0;34m,\u001b[0m \u001b[0mbhi\u001b[0m \u001b[0;34m=\u001b[0m \u001b[0mqueue\u001b[0m\u001b[0;34m.\u001b[0m\u001b[0mpop\u001b[0m\u001b[0;34m(\u001b[0m\u001b[0;34m)\u001b[0m\u001b[0;34m\u001b[0m\u001b[0;34m\u001b[0m\u001b[0m\n\u001b[0;32m--> 479\u001b[0;31m             \u001b[0mi\u001b[0m\u001b[0;34m,\u001b[0m \u001b[0mj\u001b[0m\u001b[0;34m,\u001b[0m \u001b[0mk\u001b[0m \u001b[0;34m=\u001b[0m \u001b[0mx\u001b[0m \u001b[0;34m=\u001b[0m \u001b[0mself\u001b[0m\u001b[0;34m.\u001b[0m\u001b[0mfind_longest_match\u001b[0m\u001b[0;34m(\u001b[0m\u001b[0malo\u001b[0m\u001b[0;34m,\u001b[0m \u001b[0mahi\u001b[0m\u001b[0;34m,\u001b[0m \u001b[0mblo\u001b[0m\u001b[0;34m,\u001b[0m \u001b[0mbhi\u001b[0m\u001b[0;34m)\u001b[0m\u001b[0;34m\u001b[0m\u001b[0;34m\u001b[0m\u001b[0m\n\u001b[0m\u001b[1;32m    480\u001b[0m             \u001b[0;31m# a[alo:i] vs b[blo:j] unknown\u001b[0m\u001b[0;34m\u001b[0m\u001b[0;34m\u001b[0m\u001b[0;34m\u001b[0m\u001b[0m\n\u001b[1;32m    481\u001b[0m             \u001b[0;31m# a[i:i+k] same as b[j:j+k]\u001b[0m\u001b[0;34m\u001b[0m\u001b[0;34m\u001b[0m\u001b[0;34m\u001b[0m\u001b[0m\n",
      "\u001b[0;32m/usr/lib/python3.7/difflib.py\u001b[0m in \u001b[0;36mfind_longest_match\u001b[0;34m(self, alo, ahi, blo, bhi)\u001b[0m\n\u001b[1;32m    402\u001b[0m             \u001b[0mj2lenget\u001b[0m \u001b[0;34m=\u001b[0m \u001b[0mj2len\u001b[0m\u001b[0;34m.\u001b[0m\u001b[0mget\u001b[0m\u001b[0;34m\u001b[0m\u001b[0;34m\u001b[0m\u001b[0m\n\u001b[1;32m    403\u001b[0m             \u001b[0mnewj2len\u001b[0m \u001b[0;34m=\u001b[0m \u001b[0;34m{\u001b[0m\u001b[0;34m}\u001b[0m\u001b[0;34m\u001b[0m\u001b[0;34m\u001b[0m\u001b[0m\n\u001b[0;32m--> 404\u001b[0;31m             \u001b[0;32mfor\u001b[0m \u001b[0mj\u001b[0m \u001b[0;32min\u001b[0m \u001b[0mb2j\u001b[0m\u001b[0;34m.\u001b[0m\u001b[0mget\u001b[0m\u001b[0;34m(\u001b[0m\u001b[0ma\u001b[0m\u001b[0;34m[\u001b[0m\u001b[0mi\u001b[0m\u001b[0;34m]\u001b[0m\u001b[0;34m,\u001b[0m \u001b[0mnothing\u001b[0m\u001b[0;34m)\u001b[0m\u001b[0;34m:\u001b[0m\u001b[0;34m\u001b[0m\u001b[0;34m\u001b[0m\u001b[0m\n\u001b[0m\u001b[1;32m    405\u001b[0m                 \u001b[0;31m# a[i] matches b[j]\u001b[0m\u001b[0;34m\u001b[0m\u001b[0;34m\u001b[0m\u001b[0;34m\u001b[0m\u001b[0m\n\u001b[1;32m    406\u001b[0m                 \u001b[0;32mif\u001b[0m \u001b[0mj\u001b[0m \u001b[0;34m<\u001b[0m \u001b[0mblo\u001b[0m\u001b[0;34m:\u001b[0m\u001b[0;34m\u001b[0m\u001b[0;34m\u001b[0m\u001b[0m\n",
      "\u001b[0;31mKeyboardInterrupt\u001b[0m: "
     ]
    }
   ],
   "source": [
    "ct = 0\n",
    "ratio = []\n",
    "n = 0\n",
    "for i in subset_invoice.index:\n",
    "    ct += 1\n",
    "    for j in subset_master.index:\n",
    "        \n",
    "        ratio.append([subset_master.loc[j,\"PRODUCT_MASTER_CATALOG_KEY\"],subset_invoice.loc[i,\"INVOICE_PACKAGE_DESCRIPTION\"],subset_master.loc[j,\"PRODUCT_DESCRIPTION\"],fuzz.partial_ratio(subset_invoice.loc[i,\"INVOICE_PACKAGE_DESCRIPTION\"],subset_master.loc[j,\"PRODUCT_DESCRIPTION\"])])\n",
    "\n",
    "        ratiox = pd.DataFrame(ratio, columns=('PRODUCT_MASTER_CATALOG_KEY','INVOICE_PACKAGE_DESCRIPTION','PRODUCT_DESCRIPTION','ratio_score')).sort_values(['INVOICE_PACKAGE_DESCRIPTION','ratio_score'],ascending=False).groupby(\"INVOICE_PACKAGE_DESCRIPTION\").head(10).reset_index()\n",
    "        export_file = ratiox\n",
    "    print(ct)\n",
    "    if ct == 10000:\n",
    "        n += 1\n",
    "        print(\"---->\", n)\n",
    "        file1 = open(\"Unmatched_fuzzymatch{}_top10_ratios.csv\".format(n), \"a\") \n",
    "        export_file.to_csv(file1, header=False)\n",
    "        file1.close()\n",
    "        ratio = []\n",
    "        del ratiox\n",
    "        ct =0\n",
    "\n",
    "    \n",
    "    "
   ]
  },
  {
   "cell_type": "code",
   "execution_count": null,
   "id": "least-contents",
   "metadata": {},
   "outputs": [],
   "source": []
  },
  {
   "cell_type": "code",
   "execution_count": null,
   "id": "complicated-player",
   "metadata": {},
   "outputs": [],
   "source": []
  },
  {
   "cell_type": "code",
   "execution_count": null,
   "id": "educational-choice",
   "metadata": {},
   "outputs": [],
   "source": []
  },
  {
   "cell_type": "code",
   "execution_count": null,
   "id": "promising-literature",
   "metadata": {},
   "outputs": [],
   "source": []
  },
  {
   "cell_type": "code",
   "execution_count": 81,
   "id": "threaded-myanmar",
   "metadata": {},
   "outputs": [],
   "source": [
    "def logic(invoice_desc,ct,n):\n",
    "\n",
    "    l =[]\n",
    "    l.append(invoice_desc)\n",
    "\n",
    "    compare = pd.MultiIndex.from_product([l, subset_master['PRODUCT_DESCRIPTION']]).to_series()\n",
    "    df_compare = compare.reset_index()\n",
    "    df_compare.rename(columns={ df_compare.columns[2]: \"concat\" }, inplace = True)\n",
    "    df_compare.dropna(axis='rows',inplace = True)\n",
    "#calling partial model for score     \n",
    "    df_compare['partial'], df_compare['set_ratio'] = df_compare['concat'].apply(partial)\n",
    "    df_compare.rename(columns={ df_compare.columns[0]: \"INVOICE_PACKAGE_DESCRIPTION\" }, inplace = True)\n",
    "    res = df_compare.sort_values('partial',ascending=False).head(10)\n",
    "    \n",
    "    if ct == 2:\n",
    "        print(\"--->\",n)\n",
    "        n += 1\n",
    "        export_file = res[['INVOICE_PACKAGE_DESCRIPTION','PRODUCT_DESCRIPTION','partial','set_ratio']]\n",
    "        file1 = open(\"N_unmatched_fuzzymatch_top10_ratios{}.csv\".format(n), \"a\") \n",
    "        export_file.to_csv(file1, header=False)\n",
    "        file1.close()\n",
    "        del df_compare\n",
    "        del res\n",
    "        ct = 0\n",
    "        "
   ]
  },
  {
   "cell_type": "code",
   "execution_count": 82,
   "id": "funny-terminology",
   "metadata": {},
   "outputs": [],
   "source": [
    "def partial(tup):\n",
    "    return pd.Series([fuzz.partial_ratio(*tup), fuzz.token_set_ratio(*tup)],['partial','set_ratio'])"
   ]
  },
  {
   "cell_type": "code",
   "execution_count": 83,
   "id": "broad-split",
   "metadata": {},
   "outputs": [
    {
     "ename": "KeyError",
     "evalue": "'partial'",
     "output_type": "error",
     "traceback": [
      "\u001b[0;31m---------------------------------------------------------------------------\u001b[0m",
      "\u001b[0;31mKeyError\u001b[0m                                  Traceback (most recent call last)",
      "\u001b[0;32m<ipython-input-83-e5ecc6c1f3ad>\u001b[0m in \u001b[0;36m<module>\u001b[0;34m\u001b[0m\n\u001b[1;32m      5\u001b[0m     \u001b[0mct\u001b[0m \u001b[0;34m+=\u001b[0m \u001b[0;36m1\u001b[0m\u001b[0;34m\u001b[0m\u001b[0;34m\u001b[0m\u001b[0m\n\u001b[1;32m      6\u001b[0m     \u001b[0mx\u001b[0m \u001b[0;34m=\u001b[0m \u001b[0msubset_invoice\u001b[0m\u001b[0;34m.\u001b[0m\u001b[0mloc\u001b[0m\u001b[0;34m[\u001b[0m\u001b[0mi\u001b[0m\u001b[0;34m,\u001b[0m \u001b[0;34m\"INVOICE_PACKAGE_DESCRIPTION\"\u001b[0m\u001b[0;34m]\u001b[0m\u001b[0;34m\u001b[0m\u001b[0;34m\u001b[0m\u001b[0m\n\u001b[0;32m----> 7\u001b[0;31m     \u001b[0mlogic\u001b[0m\u001b[0;34m(\u001b[0m\u001b[0mx\u001b[0m\u001b[0;34m,\u001b[0m\u001b[0mct\u001b[0m\u001b[0;34m,\u001b[0m\u001b[0mn\u001b[0m\u001b[0;34m)\u001b[0m\u001b[0;34m\u001b[0m\u001b[0;34m\u001b[0m\u001b[0m\n\u001b[0m\u001b[1;32m      8\u001b[0m \u001b[0;34m\u001b[0m\u001b[0m\n\u001b[1;32m      9\u001b[0m \u001b[0;34m\u001b[0m\u001b[0m\n",
      "\u001b[0;32m<ipython-input-81-616e8ace0f10>\u001b[0m in \u001b[0;36mlogic\u001b[0;34m(invoice_desc, ct, n)\u001b[0m\n\u001b[1;32m     10\u001b[0m     \u001b[0mdf_compare\u001b[0m\u001b[0;34m[\u001b[0m\u001b[0;34m'concat'\u001b[0m\u001b[0;34m]\u001b[0m\u001b[0;34m.\u001b[0m\u001b[0mapply\u001b[0m\u001b[0;34m(\u001b[0m\u001b[0mpartial\u001b[0m\u001b[0;34m)\u001b[0m\u001b[0;34m\u001b[0m\u001b[0;34m\u001b[0m\u001b[0m\n\u001b[1;32m     11\u001b[0m     \u001b[0mdf_compare\u001b[0m\u001b[0;34m.\u001b[0m\u001b[0mrename\u001b[0m\u001b[0;34m(\u001b[0m\u001b[0mcolumns\u001b[0m\u001b[0;34m=\u001b[0m\u001b[0;34m{\u001b[0m \u001b[0mdf_compare\u001b[0m\u001b[0;34m.\u001b[0m\u001b[0mcolumns\u001b[0m\u001b[0;34m[\u001b[0m\u001b[0;36m0\u001b[0m\u001b[0;34m]\u001b[0m\u001b[0;34m:\u001b[0m \u001b[0;34m\"INVOICE_PACKAGE_DESCRIPTION\"\u001b[0m \u001b[0;34m}\u001b[0m\u001b[0;34m,\u001b[0m \u001b[0minplace\u001b[0m \u001b[0;34m=\u001b[0m \u001b[0;32mTrue\u001b[0m\u001b[0;34m)\u001b[0m\u001b[0;34m\u001b[0m\u001b[0;34m\u001b[0m\u001b[0m\n\u001b[0;32m---> 12\u001b[0;31m     \u001b[0mres\u001b[0m \u001b[0;34m=\u001b[0m \u001b[0mdf_compare\u001b[0m\u001b[0;34m.\u001b[0m\u001b[0msort_values\u001b[0m\u001b[0;34m(\u001b[0m\u001b[0;34m'partial'\u001b[0m\u001b[0;34m,\u001b[0m\u001b[0mascending\u001b[0m\u001b[0;34m=\u001b[0m\u001b[0;32mFalse\u001b[0m\u001b[0;34m)\u001b[0m\u001b[0;34m.\u001b[0m\u001b[0mhead\u001b[0m\u001b[0;34m(\u001b[0m\u001b[0;36m10\u001b[0m\u001b[0;34m)\u001b[0m\u001b[0;34m\u001b[0m\u001b[0;34m\u001b[0m\u001b[0m\n\u001b[0m\u001b[1;32m     13\u001b[0m \u001b[0;34m\u001b[0m\u001b[0m\n\u001b[1;32m     14\u001b[0m     \u001b[0;32mif\u001b[0m \u001b[0mct\u001b[0m \u001b[0;34m==\u001b[0m \u001b[0;36m2\u001b[0m\u001b[0;34m:\u001b[0m\u001b[0;34m\u001b[0m\u001b[0;34m\u001b[0m\u001b[0m\n",
      "\u001b[0;32m/usr/local/lib/python3.7/dist-packages/pandas/core/frame.py\u001b[0m in \u001b[0;36msort_values\u001b[0;34m(self, by, axis, ascending, inplace, kind, na_position, ignore_index, key)\u001b[0m\n\u001b[1;32m   5450\u001b[0m \u001b[0;34m\u001b[0m\u001b[0m\n\u001b[1;32m   5451\u001b[0m             \u001b[0mby\u001b[0m \u001b[0;34m=\u001b[0m \u001b[0mby\u001b[0m\u001b[0;34m[\u001b[0m\u001b[0;36m0\u001b[0m\u001b[0;34m]\u001b[0m\u001b[0;34m\u001b[0m\u001b[0;34m\u001b[0m\u001b[0m\n\u001b[0;32m-> 5452\u001b[0;31m             \u001b[0mk\u001b[0m \u001b[0;34m=\u001b[0m \u001b[0mself\u001b[0m\u001b[0;34m.\u001b[0m\u001b[0m_get_label_or_level_values\u001b[0m\u001b[0;34m(\u001b[0m\u001b[0mby\u001b[0m\u001b[0;34m,\u001b[0m \u001b[0maxis\u001b[0m\u001b[0;34m=\u001b[0m\u001b[0maxis\u001b[0m\u001b[0;34m)\u001b[0m\u001b[0;34m\u001b[0m\u001b[0;34m\u001b[0m\u001b[0m\n\u001b[0m\u001b[1;32m   5453\u001b[0m \u001b[0;34m\u001b[0m\u001b[0m\n\u001b[1;32m   5454\u001b[0m             \u001b[0;31m# need to rewrap column in Series to apply key function\u001b[0m\u001b[0;34m\u001b[0m\u001b[0;34m\u001b[0m\u001b[0;34m\u001b[0m\u001b[0m\n",
      "\u001b[0;32m/usr/local/lib/python3.7/dist-packages/pandas/core/generic.py\u001b[0m in \u001b[0;36m_get_label_or_level_values\u001b[0;34m(self, key, axis)\u001b[0m\n\u001b[1;32m   1681\u001b[0m             \u001b[0mvalues\u001b[0m \u001b[0;34m=\u001b[0m \u001b[0mself\u001b[0m\u001b[0;34m.\u001b[0m\u001b[0maxes\u001b[0m\u001b[0;34m[\u001b[0m\u001b[0maxis\u001b[0m\u001b[0;34m]\u001b[0m\u001b[0;34m.\u001b[0m\u001b[0mget_level_values\u001b[0m\u001b[0;34m(\u001b[0m\u001b[0mkey\u001b[0m\u001b[0;34m)\u001b[0m\u001b[0;34m.\u001b[0m\u001b[0m_values\u001b[0m\u001b[0;34m\u001b[0m\u001b[0;34m\u001b[0m\u001b[0m\n\u001b[1;32m   1682\u001b[0m         \u001b[0;32melse\u001b[0m\u001b[0;34m:\u001b[0m\u001b[0;34m\u001b[0m\u001b[0;34m\u001b[0m\u001b[0m\n\u001b[0;32m-> 1683\u001b[0;31m             \u001b[0;32mraise\u001b[0m \u001b[0mKeyError\u001b[0m\u001b[0;34m(\u001b[0m\u001b[0mkey\u001b[0m\u001b[0;34m)\u001b[0m\u001b[0;34m\u001b[0m\u001b[0;34m\u001b[0m\u001b[0m\n\u001b[0m\u001b[1;32m   1684\u001b[0m \u001b[0;34m\u001b[0m\u001b[0m\n\u001b[1;32m   1685\u001b[0m         \u001b[0;31m# Check for duplicates\u001b[0m\u001b[0;34m\u001b[0m\u001b[0;34m\u001b[0m\u001b[0;34m\u001b[0m\u001b[0m\n",
      "\u001b[0;31mKeyError\u001b[0m: 'partial'"
     ]
    }
   ],
   "source": [
    "\n",
    "ratio = []\n",
    "n = 0\n",
    "for i in subset_invoice.index:\n",
    "    ct = 0\n",
    "    ct += 1\n",
    "    x = subset_invoice.loc[i, \"INVOICE_PACKAGE_DESCRIPTION\"]\n",
    "    logic(x,ct,n)\n",
    "\n",
    "        "
   ]
  },
  {
   "cell_type": "code",
   "execution_count": null,
   "id": "committed-virus",
   "metadata": {},
   "outputs": [],
   "source": [
    "end = time.time()\n",
    "print(\"time taken for 100k:\" (end-start))"
   ]
  },
  {
   "cell_type": "code",
   "execution_count": null,
   "id": "convinced-summer",
   "metadata": {},
   "outputs": [],
   "source": []
  },
  {
   "cell_type": "code",
   "execution_count": 23,
   "id": "precious-seventh",
   "metadata": {},
   "outputs": [],
   "source": [
    "subset_master[\"joined\"] = subset_master['PRODUCT_MASTER_CATALOG_KEY'].map(str) + \" |\" + subset_master['PRODUCT_DESCRIPTION'] "
   ]
  },
  {
   "cell_type": "code",
   "execution_count": 24,
   "id": "banned-conflict",
   "metadata": {},
   "outputs": [],
   "source": [
    "rgx_list = [r'\\s+\\d+\\s+CT\\s+\\d+\\s+OZ', r'\\d+\\s+OZ', r'\\s+\\d+/\\d+',r'\\s+\\d+OZ', r'CANS', r'CAN', r'OZ', r'BOX' , r'IN',r'PK', r'CN', r'\\d+', r'CASE',\n",
    "           r'\\d+L/d+\\s+PET',r'\\.',r'\\.L',r'NR', r'/',r'O', r'()',r'//','LTR', r'PET',r'ML',r'\\?',r'BBL']"
   ]
  },
  {
   "cell_type": "code",
   "execution_count": 25,
   "id": "illegal-container",
   "metadata": {},
   "outputs": [],
   "source": [
    "import re\n",
    "def remove_pattern(rgx_list, text):\n",
    "    for r in rgx_list:\n",
    "        \n",
    "        text = re.sub(r, '', text )\n",
    "        \n",
    "    return text\n"
   ]
  },
  {
   "cell_type": "code",
   "execution_count": 26,
   "id": "ahead-honey",
   "metadata": {},
   "outputs": [],
   "source": [
    "subset_invoice['clean_invoice_desc'] = subset_invoice.apply(lambda x: remove_pattern(rgx_list,x.INVOICE_PACKAGE_DESCRIPTION), axis=1) \n",
    "subset_master['clean_product_desc'] = subset_master.apply(lambda x: remove_pattern(rgx_list,x.PRODUCT_DESCRIPTION), axis=1) \n",
    "\n"
   ]
  },
  {
   "cell_type": "code",
   "execution_count": 54,
   "id": "structured-empty",
   "metadata": {},
   "outputs": [],
   "source": [
    "subset_invoice['invoice_embeddings'] = subset_invoice.apply(lambda x:model.encode(x.INVOICE_PACKAGE_DESCRIPTION,convert_to_tensor=True), axis=1)\n",
    "                                                           "
   ]
  },
  {
   "cell_type": "code",
   "execution_count": 94,
   "id": "loved-miracle",
   "metadata": {},
   "outputs": [
    {
     "name": "stdout",
     "output_type": "stream",
     "text": [
      "<class 'pandas.core.series.Series'>\n"
     ]
    }
   ],
   "source": [
    "print(type(subset_invoice['invoice_embeddings']))"
   ]
  },
  {
   "cell_type": "code",
   "execution_count": null,
   "id": "demonstrated-utility",
   "metadata": {},
   "outputs": [],
   "source": [
    "start = "
   ]
  },
  {
   "cell_type": "code",
   "execution_count": 191,
   "id": "fixed-presentation",
   "metadata": {},
   "outputs": [],
   "source": [
    "subset_master['product_embeddings'] = subset_master.apply(lambda x:model.encode(x.PRODUCT_DESCRIPTION,convert_to_tensor=True), axis=1)\n"
   ]
  },
  {
   "cell_type": "code",
   "execution_count": 118,
   "id": "friendly-highland",
   "metadata": {},
   "outputs": [],
   "source": [
    "def partial(tup):\n",
    "#     l.append(tup)\n",
    "    #Deviding the joined string for fuzzymatch\n",
    "#     sep = ''\n",
    "#     out = sep.join(tup[1])\n",
    "#     n = out.split('|')\n",
    "#     product_soundex = jellyfish.soundex(n[1])\n",
    "#     invoice_soundex = jellyfish.soundex(tup[0])\n",
    "#     product_soundex = jellyfish.soundex(tup[1])\n",
    "    \n",
    "    return pd.Series([fuzz.partial_ratio(*tup), fuzz.token_set_ratio(*tup)],['partial','set_ratio'])"
   ]
  },
  {
   "cell_type": "code",
   "execution_count": 35,
   "id": "embedded-assessment",
   "metadata": {},
   "outputs": [],
   "source": [
    "def logic(invoice_desc):\n",
    "    l =[]\n",
    "    l.append(invoice_desc)\n",
    "    print(len(subset_master['PRODUCT_DESCRIPTION']))\n",
    "    compare = pd.MultiIndex.from_product([l, subset_master['PRODUCT_DESCRIPTION']]).to_series()\n",
    "    df_compare = compare.reset_index()\n",
    "    print(type(df_compare))\n",
    "    df_compare.rename(columns={ df_compare.columns[2]: \"concat\" }, inplace = True)\n",
    "#calling partial model for score     \n",
    "\n",
    "    df_compare = compare.apply(partial)\n",
    "    df_compare.reset_index()\n",
    "    print(df_compare.columns)\n",
    "    df_compare.dropna(axis='rows',inplace = True)\n",
    "    \n",
    "    df_compare.rename(columns={ df_compare.columns[0]: \"INVOICE_PACKAGE_DESCRIPTION\" }, inplace = True)\n",
    "    res = df_compare.sort_values('partial',ascending=False).head(10)\n",
    "    export_file = res[['INVOICE_PACKAGE_DESCRIPTION','PRODUCT_DESCRIPTION','partial','set_ratio']]\n",
    "    file1 = open(\"unmatched_fuzzymatch_top10_ratios4.csv\", \"a\") \n",
    "    export_file.to_csv(file1, header=False)\n",
    "    file1.close()"
   ]
  },
  {
   "cell_type": "code",
   "execution_count": 36,
   "id": "acquired-model",
   "metadata": {},
   "outputs": [
    {
     "name": "stdout",
     "output_type": "stream",
     "text": [
      "100\n",
      "<class 'pandas.core.frame.DataFrame'>\n"
     ]
    },
    {
     "ename": "IndexError",
     "evalue": "list index out of range",
     "output_type": "error",
     "traceback": [
      "\u001b[0;31m---------------------------------------------------------------------------\u001b[0m",
      "\u001b[0;31mIndexError\u001b[0m                                Traceback (most recent call last)",
      "\u001b[0;32m<ipython-input-36-f87282176918>\u001b[0m in \u001b[0;36m<module>\u001b[0;34m\u001b[0m\n\u001b[1;32m      2\u001b[0m     \u001b[0mx\u001b[0m \u001b[0;34m=\u001b[0m \u001b[0msubset_invoice\u001b[0m\u001b[0;34m.\u001b[0m\u001b[0mloc\u001b[0m\u001b[0;34m[\u001b[0m\u001b[0mi\u001b[0m\u001b[0;34m,\u001b[0m \u001b[0;34m\"INVOICE_PACKAGE_DESCRIPTION\"\u001b[0m\u001b[0;34m]\u001b[0m\u001b[0;34m\u001b[0m\u001b[0;34m\u001b[0m\u001b[0m\n\u001b[1;32m      3\u001b[0m \u001b[0;34m\u001b[0m\u001b[0m\n\u001b[0;32m----> 4\u001b[0;31m     \u001b[0mlogic\u001b[0m\u001b[0;34m(\u001b[0m\u001b[0mx\u001b[0m\u001b[0;34m)\u001b[0m\u001b[0;34m\u001b[0m\u001b[0;34m\u001b[0m\u001b[0m\n\u001b[0m",
      "\u001b[0;32m<ipython-input-35-3284e520b814>\u001b[0m in \u001b[0;36mlogic\u001b[0;34m(invoice_desc)\u001b[0m\n\u001b[1;32m      9\u001b[0m \u001b[0;31m#calling partial model for score\u001b[0m\u001b[0;34m\u001b[0m\u001b[0;34m\u001b[0m\u001b[0;34m\u001b[0m\u001b[0m\n\u001b[1;32m     10\u001b[0m \u001b[0;34m\u001b[0m\u001b[0m\n\u001b[0;32m---> 11\u001b[0;31m     \u001b[0mdf_compare\u001b[0m \u001b[0;34m=\u001b[0m \u001b[0mcompare\u001b[0m\u001b[0;34m.\u001b[0m\u001b[0mapply\u001b[0m\u001b[0;34m(\u001b[0m\u001b[0mpartial\u001b[0m\u001b[0;34m)\u001b[0m\u001b[0;34m\u001b[0m\u001b[0;34m\u001b[0m\u001b[0m\n\u001b[0m\u001b[1;32m     12\u001b[0m     \u001b[0mdf_compare\u001b[0m\u001b[0;34m.\u001b[0m\u001b[0mreset_index\u001b[0m\u001b[0;34m(\u001b[0m\u001b[0;34m)\u001b[0m\u001b[0;34m\u001b[0m\u001b[0;34m\u001b[0m\u001b[0m\n\u001b[1;32m     13\u001b[0m     \u001b[0mprint\u001b[0m\u001b[0;34m(\u001b[0m\u001b[0mdf_compare\u001b[0m\u001b[0;34m.\u001b[0m\u001b[0mcolumns\u001b[0m\u001b[0;34m)\u001b[0m\u001b[0;34m\u001b[0m\u001b[0;34m\u001b[0m\u001b[0m\n",
      "\u001b[0;32m/usr/local/lib/python3.7/dist-packages/pandas/core/series.py\u001b[0m in \u001b[0;36mapply\u001b[0;34m(self, func, convert_dtype, args, **kwds)\u001b[0m\n\u001b[1;32m   4106\u001b[0m             \u001b[0;32melse\u001b[0m\u001b[0;34m:\u001b[0m\u001b[0;34m\u001b[0m\u001b[0;34m\u001b[0m\u001b[0m\n\u001b[1;32m   4107\u001b[0m                 \u001b[0mvalues\u001b[0m \u001b[0;34m=\u001b[0m \u001b[0mself\u001b[0m\u001b[0;34m.\u001b[0m\u001b[0mastype\u001b[0m\u001b[0;34m(\u001b[0m\u001b[0mobject\u001b[0m\u001b[0;34m)\u001b[0m\u001b[0;34m.\u001b[0m\u001b[0m_values\u001b[0m\u001b[0;34m\u001b[0m\u001b[0;34m\u001b[0m\u001b[0m\n\u001b[0;32m-> 4108\u001b[0;31m                 \u001b[0mmapped\u001b[0m \u001b[0;34m=\u001b[0m \u001b[0mlib\u001b[0m\u001b[0;34m.\u001b[0m\u001b[0mmap_infer\u001b[0m\u001b[0;34m(\u001b[0m\u001b[0mvalues\u001b[0m\u001b[0;34m,\u001b[0m \u001b[0mf\u001b[0m\u001b[0;34m,\u001b[0m \u001b[0mconvert\u001b[0m\u001b[0;34m=\u001b[0m\u001b[0mconvert_dtype\u001b[0m\u001b[0;34m)\u001b[0m\u001b[0;34m\u001b[0m\u001b[0;34m\u001b[0m\u001b[0m\n\u001b[0m\u001b[1;32m   4109\u001b[0m \u001b[0;34m\u001b[0m\u001b[0m\n\u001b[1;32m   4110\u001b[0m         \u001b[0;32mif\u001b[0m \u001b[0mlen\u001b[0m\u001b[0;34m(\u001b[0m\u001b[0mmapped\u001b[0m\u001b[0;34m)\u001b[0m \u001b[0;32mand\u001b[0m \u001b[0misinstance\u001b[0m\u001b[0;34m(\u001b[0m\u001b[0mmapped\u001b[0m\u001b[0;34m[\u001b[0m\u001b[0;36m0\u001b[0m\u001b[0;34m]\u001b[0m\u001b[0;34m,\u001b[0m \u001b[0mSeries\u001b[0m\u001b[0;34m)\u001b[0m\u001b[0;34m:\u001b[0m\u001b[0;34m\u001b[0m\u001b[0;34m\u001b[0m\u001b[0m\n",
      "\u001b[0;32mpandas/_libs/lib.pyx\u001b[0m in \u001b[0;36mpandas._libs.lib.map_infer\u001b[0;34m()\u001b[0m\n",
      "\u001b[0;32m<ipython-input-29-352394772e82>\u001b[0m in \u001b[0;36mpartial\u001b[0;34m(tup)\u001b[0m\n\u001b[1;32m     15\u001b[0m     \u001b[0mn\u001b[0m \u001b[0;34m=\u001b[0m \u001b[0mout\u001b[0m\u001b[0;34m.\u001b[0m\u001b[0msplit\u001b[0m\u001b[0;34m(\u001b[0m\u001b[0;34m'|'\u001b[0m\u001b[0;34m)\u001b[0m\u001b[0;34m\u001b[0m\u001b[0;34m\u001b[0m\u001b[0m\n\u001b[1;32m     16\u001b[0m \u001b[0;34m\u001b[0m\u001b[0m\n\u001b[0;32m---> 17\u001b[0;31m     \u001b[0mproduct_soundex\u001b[0m \u001b[0;34m=\u001b[0m \u001b[0mjellyfish\u001b[0m\u001b[0;34m.\u001b[0m\u001b[0msoundex\u001b[0m\u001b[0;34m(\u001b[0m\u001b[0mn\u001b[0m\u001b[0;34m[\u001b[0m\u001b[0;36m1\u001b[0m\u001b[0;34m]\u001b[0m\u001b[0;34m)\u001b[0m\u001b[0;34m\u001b[0m\u001b[0;34m\u001b[0m\u001b[0m\n\u001b[0m\u001b[1;32m     18\u001b[0m \u001b[0;34m\u001b[0m\u001b[0m\n\u001b[1;32m     19\u001b[0m     \u001b[0;32mreturn\u001b[0m \u001b[0mpd\u001b[0m\u001b[0;34m.\u001b[0m\u001b[0mSeries\u001b[0m\u001b[0;34m(\u001b[0m\u001b[0;34m[\u001b[0m\u001b[0mfuzz\u001b[0m\u001b[0;34m.\u001b[0m\u001b[0mpartial_ratio\u001b[0m\u001b[0;34m(\u001b[0m\u001b[0minvoice_soundex\u001b[0m\u001b[0;34m,\u001b[0m\u001b[0mproduct_soundex\u001b[0m\u001b[0;34m)\u001b[0m\u001b[0;34m]\u001b[0m\u001b[0;34m,\u001b[0m\u001b[0;34m[\u001b[0m\u001b[0;34m'partial'\u001b[0m\u001b[0;34m]\u001b[0m\u001b[0;34m)\u001b[0m\u001b[0;34m\u001b[0m\u001b[0;34m\u001b[0m\u001b[0m\n",
      "\u001b[0;31mIndexError\u001b[0m: list index out of range"
     ]
    }
   ],
   "source": [
    "for i in subset_invoice.index:\n",
    "    x = subset_invoice.loc[i, \"INVOICE_PACKAGE_DESCRIPTION\"]\n",
    "\n",
    "    logic(x)"
   ]
  },
  {
   "cell_type": "code",
   "execution_count": null,
   "id": "separate-aberdeen",
   "metadata": {},
   "outputs": [],
   "source": []
  },
  {
   "cell_type": "code",
   "execution_count": null,
   "id": "helpful-preparation",
   "metadata": {},
   "outputs": [],
   "source": []
  },
  {
   "cell_type": "code",
   "execution_count": 95,
   "id": "injured-ministry",
   "metadata": {},
   "outputs": [],
   "source": [
    "def partial2(tup):\n",
    "#     l.append(tup)\n",
    "    #Deviding the joined string for fuzzymatch\n",
    "#     sep = ''\n",
    "#     out = sep.join(tup[1])\n",
    "#     n = out.split('|')\n",
    "#     product_soundex = jellyfish.soundex(n[1])\n",
    "#     invoice_soundex = jellyfish.soundex(tup[0])\n",
    "#     product_soundex = jellyfish.soundex(tup[1])\n",
    "#     r1 = model.encode(tup[0])\n",
    "#     r2 = model.encode(tup[1])\n",
    "    return pd.Series([util.pytorch_cos_sim(tup[0],tup[1])],['cosine'])"
   ]
  },
  {
   "cell_type": "code",
   "execution_count": 211,
   "id": "level-manitoba",
   "metadata": {},
   "outputs": [],
   "source": [
    "\n",
    "def logic2(invoice_desc):\n",
    "#     l = []\n",
    "#     l.append(invoice_desc)\n",
    "#     print(type(subset_master['product_embeddings']))\n",
    "    ratio = []  \n",
    "    print(invoice_desc)\n",
    "    for j in subset_master.index:\n",
    "        ratio.append([subset_invoice.loc[i,\"INVOICE_PACKAGE_DESCRIPTION\"],subset_master.loc[j,\"PRODUCT_DESCRIPTION\"],util.pytorch_cos_sim(invoice_desc,subset_master.loc[j,\"product_embeddings\"])])\n",
    "#     compare = pd.MultiIndex.from_product([invoice_desc ,subset_master['product_embeddings']]).to_series()\n",
    "    \n",
    "    \n",
    "    ratiox = pd.DataFrame(ratio, columns=('INVOICE_PACKAGE_DESCRIPTION','PRODUCT_DESCRIPTION','ratio_score')).sort_values('ratio_score',ascending=False).reset_index()\n",
    "    export_file = ratiox\n",
    "    file1 = open(\"sentencesimilaity3_top10_ratios.csv\", \"a\") \n",
    "    export_file.to_csv(file1, header=False)\n",
    "    file1.close()\n",
    "#     df_compare = compare.reset_index()\n",
    "#     df_compare.rename(columns={ df_compare.columns[2]: \"concat\" }, inplace = True)\n",
    "#     df_compare.dropna(axis='rows',inplace = True)\n",
    "# #calling partial model for score     \n",
    "    \n",
    "\n",
    "#     df_compare['cosine'] = df_compare['concat'].apply(partial2)\n",
    "#     df_compare.rename(columns={ df_compare.columns[0]: \"invoice_desc\" }, inplace = True)\n",
    "#     res = df_compare.sort_values('cosine',ascending=False).head(15)\n",
    "#     export_file = res[['invoice_desc','product_embeddings','cosine']]\n",
    "#     file1 = open(\"sentencesimilaity_top10_ratios.csv\", \"a\") \n",
    "#     export_file.to_csv(file1, header=False)\n",
    "#     file1.close()"
   ]
  },
  {
   "cell_type": "code",
   "execution_count": 212,
   "id": "guided-destiny",
   "metadata": {},
   "outputs": [],
   "source": [
    "# ratio = []\n",
    "# partial_ratio = []\n",
    "# token_sort_ratio = []\n",
    "# token_set_ratio = []\n",
    "# for i in subset_invoice.index:\n",
    "#     query = subset_invoice.loc[i,\"invoice_embeddings\"]\n",
    "#     for j in subset_master.index:\n",
    "#         ratio.append([util.pytorch_cos_sim(query,subset_master.loc[j,\"product_embeddings\"])])\n",
    "    "
   ]
  },
  {
   "cell_type": "code",
   "execution_count": 213,
   "id": "regulation-consumer",
   "metadata": {},
   "outputs": [],
   "source": [
    "start = time.time()"
   ]
  },
  {
   "cell_type": "code",
   "execution_count": 214,
   "id": "consolidated-ghost",
   "metadata": {},
   "outputs": [],
   "source": [
    "# logic(\" 12 PACK BUD LIGHT CANS\")"
   ]
  },
  {
   "cell_type": "code",
   "execution_count": 215,
   "id": "offensive-mouth",
   "metadata": {},
   "outputs": [
    {
     "name": "stdout",
     "output_type": "stream",
     "text": [
      "tensor([0.5045, 0.5136, 0.1209,  ..., 0.8500, 0.7067, 0.7955])\n",
      "tensor([ 0.5480,  0.9498, -0.1607,  ..., -0.5912,  0.4417,  0.0266])\n",
      "tensor([-1.0799,  0.3358, -0.5479,  ..., -0.3734,  0.0256, -0.5663])\n",
      "tensor([-1.3009,  1.1014,  0.7082,  ..., -0.5337, -0.8171, -1.4519])\n",
      "tensor([ 0.4064,  0.5794,  0.3497,  ...,  0.1318,  1.3028, -0.0137])\n",
      "tensor([ 0.3476, -0.2565, -1.1898,  ..., -0.9758, -0.0598, -0.4876])\n",
      "tensor([ 0.7317,  0.2887, -0.6703,  ..., -0.9365,  0.2918, -0.0604])\n",
      "tensor([-0.3578,  0.3998, -0.3524,  ..., -1.3774, -1.0008, -0.1362])\n",
      "tensor([ 0.2213,  0.4691,  0.3013,  ...,  0.5092, -0.8497, -0.5028])\n",
      "tensor([ 0.7710,  0.7617,  0.1080,  ...,  0.9747, -0.1437, -0.4238])\n"
     ]
    }
   ],
   "source": [
    "for i in subset_invoice.index:\n",
    "    x = subset_invoice.loc[i, \"invoice_embeddings\"]\n",
    "\n",
    "    logic2(x)"
   ]
  },
  {
   "cell_type": "code",
   "execution_count": 187,
   "id": "figured-divorce",
   "metadata": {},
   "outputs": [
    {
     "ename": "NameError",
     "evalue": "name 'ratiox' is not defined",
     "output_type": "error",
     "traceback": [
      "\u001b[0;31m---------------------------------------------------------------------------\u001b[0m",
      "\u001b[0;31mNameError\u001b[0m                                 Traceback (most recent call last)",
      "\u001b[0;32m<ipython-input-187-0b8dc5214b8e>\u001b[0m in \u001b[0;36m<module>\u001b[0;34m\u001b[0m\n\u001b[0;32m----> 1\u001b[0;31m \u001b[0mratiox\u001b[0m\u001b[0;34m\u001b[0m\u001b[0;34m\u001b[0m\u001b[0m\n\u001b[0m",
      "\u001b[0;31mNameError\u001b[0m: name 'ratiox' is not defined"
     ]
    }
   ],
   "source": [
    "ratiox"
   ]
  },
  {
   "cell_type": "code",
   "execution_count": 108,
   "id": "surrounded-assessment",
   "metadata": {},
   "outputs": [
    {
     "name": "stdout",
     "output_type": "stream",
     "text": [
      "dsdsdsd 1.7544264793395996\n"
     ]
    }
   ],
   "source": [
    "end = time.time()\n",
    "print(\"dsdsdsd\", (end-start))"
   ]
  },
  {
   "cell_type": "code",
   "execution_count": null,
   "id": "permanent-tourism",
   "metadata": {},
   "outputs": [],
   "source": [
    " \n",
    "# subset_invoice['INVOICE_SOUNDEX'] = subset_invoice.apply(lambda x: jellyfish.soundex(x.INVOICE_PACKAGE_DESCRIPTION), axis=1) \n"
   ]
  },
  {
   "cell_type": "code",
   "execution_count": null,
   "id": "electrical-transfer",
   "metadata": {},
   "outputs": [],
   "source": [
    "fuzz.partial_ratio(\" 12 PACK BUD LIGHT CANS\",\"BUD LIGHT ORANGE BEER 24 CT 12 OZ LONG NECK BTL CRTN 288 OZ\")\n",
    "\n"
   ]
  },
  {
   "cell_type": "code",
   "execution_count": null,
   "id": "cardiac-volume",
   "metadata": {},
   "outputs": [],
   "source": [
    "fuzz.partial_ratio(\" 12 PACK BUD LIGHT CANS\" ,\"RIVER NORTH MIXED 12 PACK - OZ CANS\")"
   ]
  },
  {
   "cell_type": "code",
   "execution_count": null,
   "id": "brazilian-affiliation",
   "metadata": {},
   "outputs": [],
   "source": [
    "subset_master"
   ]
  },
  {
   "cell_type": "code",
   "execution_count": null,
   "id": "vietnamese-moment",
   "metadata": {},
   "outputs": [],
   "source": [
    "# subset_master.columns"
   ]
  },
  {
   "cell_type": "code",
   "execution_count": 20,
   "id": "parallel-being",
   "metadata": {},
   "outputs": [],
   "source": [
    "subset_master[\"joined\"] = subset_master['PRODUCT_MASTER_CATALOG_KEY'].map(str) + \" |\" + subset_master['PRODUCT_DESCRIPTION'] "
   ]
  },
  {
   "cell_type": "code",
   "execution_count": 25,
   "id": "effective-placement",
   "metadata": {},
   "outputs": [],
   "source": [
    "compare = pd.MultiIndex.from_product([subset_invoice['INVOICE_PACKAGE_DESCRIPTION'],\n",
    "                                      subset_master['joined'],\n",
    "                                     ]).to_series()"
   ]
  },
  {
   "cell_type": "code",
   "execution_count": 26,
   "id": "educational-logging",
   "metadata": {},
   "outputs": [],
   "source": [
    "# pd.DataFrame(index = compare).reset_index()\n",
    "df_compare = compare.reset_index()"
   ]
  },
  {
   "cell_type": "code",
   "execution_count": 27,
   "id": "tropical-vancouver",
   "metadata": {},
   "outputs": [
    {
     "data": {
      "text/plain": [
       "Index(['INVOICE_PACKAGE_DESCRIPTION', 'joined', 0], dtype='object')"
      ]
     },
     "execution_count": 27,
     "metadata": {},
     "output_type": "execute_result"
    }
   ],
   "source": [
    "df_compare.columns"
   ]
  },
  {
   "cell_type": "code",
   "execution_count": 101,
   "id": "accessory-federation",
   "metadata": {},
   "outputs": [],
   "source": [
    "df_compare.rename(columns={ df_compare.columns[2]: \"concat\" }, inplace = True)\n"
   ]
  },
  {
   "cell_type": "code",
   "execution_count": 102,
   "id": "monthly-inquiry",
   "metadata": {},
   "outputs": [
    {
     "data": {
      "text/html": [
       "<div>\n",
       "<style scoped>\n",
       "    .dataframe tbody tr th:only-of-type {\n",
       "        vertical-align: middle;\n",
       "    }\n",
       "\n",
       "    .dataframe tbody tr th {\n",
       "        vertical-align: top;\n",
       "    }\n",
       "\n",
       "    .dataframe thead th {\n",
       "        text-align: right;\n",
       "    }\n",
       "</style>\n",
       "<table border=\"1\" class=\"dataframe\">\n",
       "  <thead>\n",
       "    <tr style=\"text-align: right;\">\n",
       "      <th></th>\n",
       "      <th>INVOICE_PACKAGE_DESCRIPTION</th>\n",
       "      <th>joined</th>\n",
       "      <th>concat</th>\n",
       "    </tr>\n",
       "  </thead>\n",
       "  <tbody>\n",
       "    <tr>\n",
       "      <th>0</th>\n",
       "      <td>MAMAMANGO 750ML</td>\n",
       "      <td>340646 |REDDS WICKED APPLE ALE BEER 1 CT 24 OZ CAN 24 OZ</td>\n",
       "      <td>(  MAMAMANGO 750ML, 340646 |REDDS WICKED APPLE ALE BEER 1 CT 24 OZ CAN 24 OZ)</td>\n",
       "    </tr>\n",
       "    <tr>\n",
       "      <th>1</th>\n",
       "      <td>MAMAMANGO 750ML</td>\n",
       "      <td>366058 |KING ESTATE WILLAMETTE VALLEY SELECT PINOT GRIS 12/750ML</td>\n",
       "      <td>(  MAMAMANGO 750ML, 366058 |KING ESTATE WILLAMETTE VALLEY SELECT PINOT GRIS 12/750ML)</td>\n",
       "    </tr>\n",
       "    <tr>\n",
       "      <th>2</th>\n",
       "      <td>MAMAMANGO 750ML</td>\n",
       "      <td>345460 |NEW BELGIUM VOODOO RANGER JUICY HAZE IPA BEER 6 CT 12 OZ LONG NECK BTL CRTN 72 OZ</td>\n",
       "      <td>(  MAMAMANGO 750ML, 345460 |NEW BELGIUM VOODOO RANGER JUICY HAZE IPA BEER 6 CT 12 OZ LONG NECK BTL CRTN 72 OZ)</td>\n",
       "    </tr>\n",
       "    <tr>\n",
       "      <th>3</th>\n",
       "      <td>MAMAMANGO 750ML</td>\n",
       "      <td>341220 |COORS LIGHT BEER 15 CT 16 OZ ALUMINUM BOTTL IN BX 240 OZ</td>\n",
       "      <td>(  MAMAMANGO 750ML, 341220 |COORS LIGHT BEER 15 CT 16 OZ ALUMINUM BOTTL IN BX 240 OZ)</td>\n",
       "    </tr>\n",
       "    <tr>\n",
       "      <th>4</th>\n",
       "      <td>MAMAMANGO 750ML</td>\n",
       "      <td>361732 |SUTTER HOME VNZ ITL PIN GRIGO 1.5 LTR</td>\n",
       "      <td>(  MAMAMANGO 750ML, 361732 |SUTTER HOME VNZ ITL PIN GRIGO 1.5 LTR)</td>\n",
       "    </tr>\n",
       "    <tr>\n",
       "      <th>...</th>\n",
       "      <td>...</td>\n",
       "      <td>...</td>\n",
       "      <td>...</td>\n",
       "    </tr>\n",
       "    <tr>\n",
       "      <th>995</th>\n",
       "      <td>2017 BELLAND, CHASSAGNE-MONTRACHET 1ER MORGEOT 'CLOS PITOIS' BLANC  375ML</td>\n",
       "      <td>75349 |KRAGLE FREE WILL BREWING CO 16FL. OZ. CAN</td>\n",
       "      <td>( 2017 BELLAND, CHASSAGNE-MONTRACHET 1ER MORGEOT 'CLOS PITOIS' BLANC  375ML, 75349 |KRAGLE FREE WILL BREWING CO 16FL. OZ. CAN)</td>\n",
       "    </tr>\n",
       "    <tr>\n",
       "      <th>996</th>\n",
       "      <td>2017 BELLAND, CHASSAGNE-MONTRACHET 1ER MORGEOT 'CLOS PITOIS' BLANC  375ML</td>\n",
       "      <td>343233 |BUD LIGHT BEER 12 CT 40 OZ GLASS BOTTLE 480 OZ</td>\n",
       "      <td>( 2017 BELLAND, CHASSAGNE-MONTRACHET 1ER MORGEOT 'CLOS PITOIS' BLANC  375ML, 343233 |BUD LIGHT BEER 12 CT 40 OZ GLASS BOTTLE 480 OZ)</td>\n",
       "    </tr>\n",
       "    <tr>\n",
       "      <th>997</th>\n",
       "      <td>2017 BELLAND, CHASSAGNE-MONTRACHET 1ER MORGEOT 'CLOS PITOIS' BLANC  375ML</td>\n",
       "      <td>366047 |THE FEDERALIST LODI CABERNET SAUVIGNON 750ML</td>\n",
       "      <td>( 2017 BELLAND, CHASSAGNE-MONTRACHET 1ER MORGEOT 'CLOS PITOIS' BLANC  375ML, 366047 |THE FEDERALIST LODI CABERNET SAUVIGNON 750ML)</td>\n",
       "    </tr>\n",
       "    <tr>\n",
       "      <th>998</th>\n",
       "      <td>2017 BELLAND, CHASSAGNE-MONTRACHET 1ER MORGEOT 'CLOS PITOIS' BLANC  375ML</td>\n",
       "      <td>348575 |GUINNESS EXTRA STOUT BEER 24 CT 12 OZ GLASS BOTTLE IN BOX 288 OZ</td>\n",
       "      <td>( 2017 BELLAND, CHASSAGNE-MONTRACHET 1ER MORGEOT 'CLOS PITOIS' BLANC  375ML, 348575 |GUINNESS EXTRA STOUT BEER 24 CT 12 OZ GLASS BOTTLE IN BOX 288 OZ)</td>\n",
       "    </tr>\n",
       "    <tr>\n",
       "      <th>999</th>\n",
       "      <td>2017 BELLAND, CHASSAGNE-MONTRACHET 1ER MORGEOT 'CLOS PITOIS' BLANC  375ML</td>\n",
       "      <td>362880 |SPARKLING ICE +CAFFEINE TRIPLE CITRUS 12/16OZ CANS</td>\n",
       "      <td>( 2017 BELLAND, CHASSAGNE-MONTRACHET 1ER MORGEOT 'CLOS PITOIS' BLANC  375ML, 362880 |SPARKLING ICE +CAFFEINE TRIPLE CITRUS 12/16OZ CANS)</td>\n",
       "    </tr>\n",
       "  </tbody>\n",
       "</table>\n",
       "<p>1000 rows × 3 columns</p>\n",
       "</div>"
      ],
      "text/plain": [
       "                                                    INVOICE_PACKAGE_DESCRIPTION  \\\n",
       "0                                                               MAMAMANGO 750ML   \n",
       "1                                                               MAMAMANGO 750ML   \n",
       "2                                                               MAMAMANGO 750ML   \n",
       "3                                                               MAMAMANGO 750ML   \n",
       "4                                                               MAMAMANGO 750ML   \n",
       "..                                                                          ...   \n",
       "995   2017 BELLAND, CHASSAGNE-MONTRACHET 1ER MORGEOT 'CLOS PITOIS' BLANC  375ML   \n",
       "996   2017 BELLAND, CHASSAGNE-MONTRACHET 1ER MORGEOT 'CLOS PITOIS' BLANC  375ML   \n",
       "997   2017 BELLAND, CHASSAGNE-MONTRACHET 1ER MORGEOT 'CLOS PITOIS' BLANC  375ML   \n",
       "998   2017 BELLAND, CHASSAGNE-MONTRACHET 1ER MORGEOT 'CLOS PITOIS' BLANC  375ML   \n",
       "999   2017 BELLAND, CHASSAGNE-MONTRACHET 1ER MORGEOT 'CLOS PITOIS' BLANC  375ML   \n",
       "\n",
       "                                                                                        joined  \\\n",
       "0                                     340646 |REDDS WICKED APPLE ALE BEER 1 CT 24 OZ CAN 24 OZ   \n",
       "1                             366058 |KING ESTATE WILLAMETTE VALLEY SELECT PINOT GRIS 12/750ML   \n",
       "2    345460 |NEW BELGIUM VOODOO RANGER JUICY HAZE IPA BEER 6 CT 12 OZ LONG NECK BTL CRTN 72 OZ   \n",
       "3                             341220 |COORS LIGHT BEER 15 CT 16 OZ ALUMINUM BOTTL IN BX 240 OZ   \n",
       "4                                                361732 |SUTTER HOME VNZ ITL PIN GRIGO 1.5 LTR   \n",
       "..                                                                                         ...   \n",
       "995                                           75349 |KRAGLE FREE WILL BREWING CO 16FL. OZ. CAN   \n",
       "996                                     343233 |BUD LIGHT BEER 12 CT 40 OZ GLASS BOTTLE 480 OZ   \n",
       "997                                       366047 |THE FEDERALIST LODI CABERNET SAUVIGNON 750ML   \n",
       "998                   348575 |GUINNESS EXTRA STOUT BEER 24 CT 12 OZ GLASS BOTTLE IN BOX 288 OZ   \n",
       "999                                 362880 |SPARKLING ICE +CAFFEINE TRIPLE CITRUS 12/16OZ CANS   \n",
       "\n",
       "                                                                                                                                                     concat  \n",
       "0                                                                             (  MAMAMANGO 750ML, 340646 |REDDS WICKED APPLE ALE BEER 1 CT 24 OZ CAN 24 OZ)  \n",
       "1                                                                     (  MAMAMANGO 750ML, 366058 |KING ESTATE WILLAMETTE VALLEY SELECT PINOT GRIS 12/750ML)  \n",
       "2                                            (  MAMAMANGO 750ML, 345460 |NEW BELGIUM VOODOO RANGER JUICY HAZE IPA BEER 6 CT 12 OZ LONG NECK BTL CRTN 72 OZ)  \n",
       "3                                                                     (  MAMAMANGO 750ML, 341220 |COORS LIGHT BEER 15 CT 16 OZ ALUMINUM BOTTL IN BX 240 OZ)  \n",
       "4                                                                                        (  MAMAMANGO 750ML, 361732 |SUTTER HOME VNZ ITL PIN GRIGO 1.5 LTR)  \n",
       "..                                                                                                                                                      ...  \n",
       "995                          ( 2017 BELLAND, CHASSAGNE-MONTRACHET 1ER MORGEOT 'CLOS PITOIS' BLANC  375ML, 75349 |KRAGLE FREE WILL BREWING CO 16FL. OZ. CAN)  \n",
       "996                    ( 2017 BELLAND, CHASSAGNE-MONTRACHET 1ER MORGEOT 'CLOS PITOIS' BLANC  375ML, 343233 |BUD LIGHT BEER 12 CT 40 OZ GLASS BOTTLE 480 OZ)  \n",
       "997                      ( 2017 BELLAND, CHASSAGNE-MONTRACHET 1ER MORGEOT 'CLOS PITOIS' BLANC  375ML, 366047 |THE FEDERALIST LODI CABERNET SAUVIGNON 750ML)  \n",
       "998  ( 2017 BELLAND, CHASSAGNE-MONTRACHET 1ER MORGEOT 'CLOS PITOIS' BLANC  375ML, 348575 |GUINNESS EXTRA STOUT BEER 24 CT 12 OZ GLASS BOTTLE IN BOX 288 OZ)  \n",
       "999                ( 2017 BELLAND, CHASSAGNE-MONTRACHET 1ER MORGEOT 'CLOS PITOIS' BLANC  375ML, 362880 |SPARKLING ICE +CAFFEINE TRIPLE CITRUS 12/16OZ CANS)  \n",
       "\n",
       "[1000 rows x 3 columns]"
      ]
     },
     "execution_count": 102,
     "metadata": {},
     "output_type": "execute_result"
    }
   ],
   "source": [
    "df_compare"
   ]
  },
  {
   "cell_type": "code",
   "execution_count": 103,
   "id": "strange-heading",
   "metadata": {},
   "outputs": [],
   "source": [
    "# # # df_compare.drop(df_compare.index[[253251,253252]],inplace = True )\n",
    "# df_compare = df_compare.drop(df_compare[df_compare.joined == \"253251 | \\\\M/ WARPIG ATHENS IPA\"].index)\n",
    "# df_compare = df_compare.drop(df_compare[ df_compare.joined == '172269 |© 3 2012 CABERNET SAUVIGNON'].index)\n",
    "# df_compare = df_compare.drop(df_compare[ df_compare.joined == '172270 |© 3 2013 CABERNET SAUVIGNON'].index)\n",
    "# df_compare = df_compare.drop(df_compare[ df_compare.joined == '172262 |© 3 2013 CABERNET SAUVIGNON'].index)\n",
    "# df_compare = df_compare.drop(df_compare[ df_compare.joined == '172261 |© 3 2012 CABERNET SAUVIGNON'].index)\n",
    "# df_compare = df_compare.drop(df_compare[ df_compare.joined == '172263 |© 3 2014 CABERNET SAUVIGNON'].index)\n",
    "# df_compare = df_compare.drop(df_compare[ df_compare.joined == '172271 |© 3 2014 CABERNET SAUVIGNON'].index)\n",
    "# df_compare = df_compare.drop(df_compare[ df_compare.joined == '172272 |© 3 2015 CABERNET SAUVIGNON'].index)\n",
    "# df_compare = df_compare.drop(df_compare[ df_compare.joined == '172264 |© 3 2015 CABERNET SAUVIGNON'].index)\n",
    "# df_compare = df_compare.drop(df_compare[ df_compare.joined == '172273 |© 3 2015 WHITE BLEND'].index)\n",
    "# df_compare = df_compare.drop(df_compare[ df_compare.joined == '172265 |© 3 2015 WHITE BLEND'].index)\n",
    "# df_compare = df_compare.drop(df_compare[ df_compare.joined == '172266 |© 3 2016 SAUVIGNON BLANC'].index)\n",
    "# df_compare = df_compare.drop(df_compare[ df_compare.joined == '172274 |© 3 2016 SAUVIGNON BLANC'].index)\n",
    "# # df_compare = df_compare.drop(df_compare[ df_compare.joined == '© 3 2016 SAUVIGNON BLANC'].index)\n",
    "# # df_compare = df_compare.drop(df_compare[ df_compare.joined == '© 3 2016 SAUVIGNON BLANC'].index)\n",
    "# # df_compare = df_compare.drop(df_compare[ df_compare.joined == '© 3 2016 SAUVIGNON BLANC'].index)\n",
    "\n",
    "\n"
   ]
  },
  {
   "cell_type": "code",
   "execution_count": 104,
   "id": "enclosed-heather",
   "metadata": {},
   "outputs": [],
   "source": [
    "df_compare.dropna(axis='rows',inplace = True)"
   ]
  },
  {
   "cell_type": "code",
   "execution_count": 105,
   "id": "communist-twenty",
   "metadata": {},
   "outputs": [
    {
     "data": {
      "text/plain": [
       "1000"
      ]
     },
     "execution_count": 105,
     "metadata": {},
     "output_type": "execute_result"
    }
   ],
   "source": [
    "len(df_compare)"
   ]
  },
  {
   "cell_type": "code",
   "execution_count": 106,
   "id": "saved-thickness",
   "metadata": {},
   "outputs": [],
   "source": [
    "start = time.time()"
   ]
  },
  {
   "cell_type": "code",
   "execution_count": 29,
   "id": "determined-destination",
   "metadata": {},
   "outputs": [],
   "source": [
    "def metrics(tup):\n",
    "    return pd.Series([fuzz.ratio(*tup),\n",
    "                      fuzz.token_sort_ratio(*tup),\n",
    "                     fuzz.partial_ratio(*tup)],\n",
    "                     ['ratio', 'token','partial'])\n",
    "l =[]\n",
    "\n",
    "\n",
    "def partial(tup):\n",
    "#     l.append(tup)\n",
    "    invoice_soundex = jellyfish.soundex(tup[0])\n",
    "    #Deviding the joined string for fuzzymatch\n",
    "    sep = ''\n",
    "    out = sep.join(tup[1])\n",
    "    n = out.split('|')\n",
    "\n",
    "    product_soundex = jellyfish.soundex(n[1])\n",
    "\n",
    "    return pd.Series([fuzz.partial_ratio(invoice_soundex,product_soundex)],['partial'])"
   ]
  },
  {
   "cell_type": "code",
   "execution_count": 30,
   "id": "aquatic-gilbert",
   "metadata": {},
   "outputs": [
    {
     "data": {
      "text/plain": [
       "INVOICE_PACKAGE_DESCRIPTION                                                 joined                                                   \n",
       "  MAMAMANGO 750ML                                                           122436 | CBA EXPLORERS VARIETY PACK 2/12 LNNR                                                                                     (  MAMAMANGO 750ML, 122436 | CBA EXPLORERS VARIETY PACK 2/12 LNNR)\n",
       "                                                                            122449 | KONA BIG KAHUNA VARIETY 24/12 NR                                                                                             (  MAMAMANGO 750ML, 122449 | KONA BIG KAHUNA VARIETY 24/12 NR)\n",
       "                                                                            122468 | KONA BIG WAVE 1/6 KEG                                                                                                                   (  MAMAMANGO 750ML, 122468 | KONA BIG WAVE 1/6 KEG)\n",
       "                                                                            122463 | KONA BIG WAVE 4/6/12 LNNR                                                                                                           (  MAMAMANGO 750ML, 122463 | KONA BIG WAVE 4/6/12 LNNR)\n",
       "                                                                            122496 | KONA BIG WAVE 6/4 16OZ CAN                                                                                                         (  MAMAMANGO 750ML, 122496 | KONA BIG WAVE 6/4 16OZ CAN)\n",
       "                                                                                                                                                                                                          ...                                                                   \n",
       " 2017 BELLAND, CHASSAGNE-MONTRACHET 1ER MORGEOT 'CLOS PITOIS' BLANC  375ML  132329 |10 BARREL 1/2                                                                            ( 2017 BELLAND, CHASSAGNE-MONTRACHET 1ER MORGEOT 'CLOS PITOIS' BLANC  375ML, 132329 |10 BARREL 1/2)\n",
       "                                                                            132328 |10 BARREL 1/6                                                                            ( 2017 BELLAND, CHASSAGNE-MONTRACHET 1ER MORGEOT 'CLOS PITOIS' BLANC  375ML, 132328 |10 BARREL 1/6)\n",
       "                                                                            132311 |10 BARREL APOCALYPSE 12/12 12OZ BOTTLE LOOSE PACK    ( 2017 BELLAND, CHASSAGNE-MONTRACHET 1ER MORGEOT 'CLOS PITOIS' BLANC  375ML, 132311 |10 BARREL APOCALYPSE 12/12 12OZ BOTTLE LOOSE PACK)\n",
       "                                                                            366151 |10 BARREL APOCALYPSE IPA 4/6/12OZ BOTTLE                      ( 2017 BELLAND, CHASSAGNE-MONTRACHET 1ER MORGEOT 'CLOS PITOIS' BLANC  375ML, 366151 |10 BARREL APOCALYPSE IPA 4/6/12OZ BOTTLE)\n",
       "                                                                            366964 |10 BARREL BREWERY PEARL IPA 4/6/12OZ CAN                      ( 2017 BELLAND, CHASSAGNE-MONTRACHET 1ER MORGEOT 'CLOS PITOIS' BLANC  375ML, 366964 |10 BARREL BREWERY PEARL IPA 4/6/12OZ CAN)\n",
       "Length: 1000, dtype: object"
      ]
     },
     "execution_count": 30,
     "metadata": {},
     "output_type": "execute_result"
    }
   ],
   "source": [
    "compare"
   ]
  },
  {
   "cell_type": "code",
   "execution_count": 31,
   "id": "retained-alabama",
   "metadata": {},
   "outputs": [],
   "source": [
    "x = compare.apply(metrics)"
   ]
  },
  {
   "cell_type": "code",
   "execution_count": 32,
   "id": "powered-radical",
   "metadata": {},
   "outputs": [
    {
     "data": {
      "text/plain": [
       "Index(['ratio', 'token', 'partial'], dtype='object')"
      ]
     },
     "execution_count": 32,
     "metadata": {},
     "output_type": "execute_result"
    }
   ],
   "source": [
    "x.columns"
   ]
  },
  {
   "cell_type": "code",
   "execution_count": 33,
   "id": "purple-alignment",
   "metadata": {},
   "outputs": [
    {
     "data": {
      "text/html": [
       "<div>\n",
       "<style scoped>\n",
       "    .dataframe tbody tr th:only-of-type {\n",
       "        vertical-align: middle;\n",
       "    }\n",
       "\n",
       "    .dataframe tbody tr th {\n",
       "        vertical-align: top;\n",
       "    }\n",
       "\n",
       "    .dataframe thead th {\n",
       "        text-align: right;\n",
       "    }\n",
       "</style>\n",
       "<table border=\"1\" class=\"dataframe\">\n",
       "  <thead>\n",
       "    <tr style=\"text-align: right;\">\n",
       "      <th></th>\n",
       "      <th>INVOICE_PACKAGE_DESCRIPTION</th>\n",
       "      <th>joined</th>\n",
       "      <th>ratio</th>\n",
       "      <th>token</th>\n",
       "      <th>partial</th>\n",
       "    </tr>\n",
       "  </thead>\n",
       "  <tbody>\n",
       "    <tr>\n",
       "      <th>0</th>\n",
       "      <td>MAMAMANGO 750ML</td>\n",
       "      <td>122436 | CBA EXPLORERS VARIETY PACK 2/12 LNNR</td>\n",
       "      <td>19</td>\n",
       "      <td>14</td>\n",
       "      <td>29</td>\n",
       "    </tr>\n",
       "    <tr>\n",
       "      <th>1</th>\n",
       "      <td>MAMAMANGO 750ML</td>\n",
       "      <td>122449 | KONA BIG KAHUNA VARIETY 24/12 NR</td>\n",
       "      <td>21</td>\n",
       "      <td>19</td>\n",
       "      <td>29</td>\n",
       "    </tr>\n",
       "    <tr>\n",
       "      <th>2</th>\n",
       "      <td>MAMAMANGO 750ML</td>\n",
       "      <td>122468 | KONA BIG WAVE 1/6 KEG</td>\n",
       "      <td>21</td>\n",
       "      <td>14</td>\n",
       "      <td>29</td>\n",
       "    </tr>\n",
       "    <tr>\n",
       "      <th>3</th>\n",
       "      <td>MAMAMANGO 750ML</td>\n",
       "      <td>122463 | KONA BIG WAVE 4/6/12 LNNR</td>\n",
       "      <td>20</td>\n",
       "      <td>13</td>\n",
       "      <td>29</td>\n",
       "    </tr>\n",
       "    <tr>\n",
       "      <th>4</th>\n",
       "      <td>MAMAMANGO 750ML</td>\n",
       "      <td>122496 | KONA BIG WAVE 6/4 16OZ CAN</td>\n",
       "      <td>23</td>\n",
       "      <td>17</td>\n",
       "      <td>31</td>\n",
       "    </tr>\n",
       "    <tr>\n",
       "      <th>...</th>\n",
       "      <td>...</td>\n",
       "      <td>...</td>\n",
       "      <td>...</td>\n",
       "      <td>...</td>\n",
       "      <td>...</td>\n",
       "    </tr>\n",
       "    <tr>\n",
       "      <th>995</th>\n",
       "      <td>2017 BELLAND, CHASSAGNE-MONTRACHET 1ER MORGEOT 'CLOS PITOIS' BLANC  375ML</td>\n",
       "      <td>132329 |10 BARREL 1/2</td>\n",
       "      <td>17</td>\n",
       "      <td>16</td>\n",
       "      <td>29</td>\n",
       "    </tr>\n",
       "    <tr>\n",
       "      <th>996</th>\n",
       "      <td>2017 BELLAND, CHASSAGNE-MONTRACHET 1ER MORGEOT 'CLOS PITOIS' BLANC  375ML</td>\n",
       "      <td>132328 |10 BARREL 1/6</td>\n",
       "      <td>17</td>\n",
       "      <td>18</td>\n",
       "      <td>29</td>\n",
       "    </tr>\n",
       "    <tr>\n",
       "      <th>997</th>\n",
       "      <td>2017 BELLAND, CHASSAGNE-MONTRACHET 1ER MORGEOT 'CLOS PITOIS' BLANC  375ML</td>\n",
       "      <td>132311 |10 BARREL APOCALYPSE 12/12 12OZ BOTTLE LOOSE PACK</td>\n",
       "      <td>18</td>\n",
       "      <td>24</td>\n",
       "      <td>39</td>\n",
       "    </tr>\n",
       "    <tr>\n",
       "      <th>998</th>\n",
       "      <td>2017 BELLAND, CHASSAGNE-MONTRACHET 1ER MORGEOT 'CLOS PITOIS' BLANC  375ML</td>\n",
       "      <td>366151 |10 BARREL APOCALYPSE IPA 4/6/12OZ BOTTLE</td>\n",
       "      <td>23</td>\n",
       "      <td>22</td>\n",
       "      <td>31</td>\n",
       "    </tr>\n",
       "    <tr>\n",
       "      <th>999</th>\n",
       "      <td>2017 BELLAND, CHASSAGNE-MONTRACHET 1ER MORGEOT 'CLOS PITOIS' BLANC  375ML</td>\n",
       "      <td>366964 |10 BARREL BREWERY PEARL IPA 4/6/12OZ CAN</td>\n",
       "      <td>15</td>\n",
       "      <td>26</td>\n",
       "      <td>29</td>\n",
       "    </tr>\n",
       "  </tbody>\n",
       "</table>\n",
       "<p>1000 rows × 5 columns</p>\n",
       "</div>"
      ],
      "text/plain": [
       "                                                    INVOICE_PACKAGE_DESCRIPTION  \\\n",
       "0                                                               MAMAMANGO 750ML   \n",
       "1                                                               MAMAMANGO 750ML   \n",
       "2                                                               MAMAMANGO 750ML   \n",
       "3                                                               MAMAMANGO 750ML   \n",
       "4                                                               MAMAMANGO 750ML   \n",
       "..                                                                          ...   \n",
       "995   2017 BELLAND, CHASSAGNE-MONTRACHET 1ER MORGEOT 'CLOS PITOIS' BLANC  375ML   \n",
       "996   2017 BELLAND, CHASSAGNE-MONTRACHET 1ER MORGEOT 'CLOS PITOIS' BLANC  375ML   \n",
       "997   2017 BELLAND, CHASSAGNE-MONTRACHET 1ER MORGEOT 'CLOS PITOIS' BLANC  375ML   \n",
       "998   2017 BELLAND, CHASSAGNE-MONTRACHET 1ER MORGEOT 'CLOS PITOIS' BLANC  375ML   \n",
       "999   2017 BELLAND, CHASSAGNE-MONTRACHET 1ER MORGEOT 'CLOS PITOIS' BLANC  375ML   \n",
       "\n",
       "                                                        joined  ratio  token  \\\n",
       "0                122436 | CBA EXPLORERS VARIETY PACK 2/12 LNNR     19     14   \n",
       "1                    122449 | KONA BIG KAHUNA VARIETY 24/12 NR     21     19   \n",
       "2                               122468 | KONA BIG WAVE 1/6 KEG     21     14   \n",
       "3                           122463 | KONA BIG WAVE 4/6/12 LNNR     20     13   \n",
       "4                          122496 | KONA BIG WAVE 6/4 16OZ CAN     23     17   \n",
       "..                                                         ...    ...    ...   \n",
       "995                                      132329 |10 BARREL 1/2     17     16   \n",
       "996                                      132328 |10 BARREL 1/6     17     18   \n",
       "997  132311 |10 BARREL APOCALYPSE 12/12 12OZ BOTTLE LOOSE PACK     18     24   \n",
       "998           366151 |10 BARREL APOCALYPSE IPA 4/6/12OZ BOTTLE     23     22   \n",
       "999           366964 |10 BARREL BREWERY PEARL IPA 4/6/12OZ CAN     15     26   \n",
       "\n",
       "     partial  \n",
       "0         29  \n",
       "1         29  \n",
       "2         29  \n",
       "3         29  \n",
       "4         31  \n",
       "..       ...  \n",
       "995       29  \n",
       "996       29  \n",
       "997       39  \n",
       "998       31  \n",
       "999       29  \n",
       "\n",
       "[1000 rows x 5 columns]"
      ]
     },
     "execution_count": 33,
     "metadata": {},
     "output_type": "execute_result"
    }
   ],
   "source": [
    "x.reset_index()"
   ]
  },
  {
   "cell_type": "code",
   "execution_count": 116,
   "id": "portable-grill",
   "metadata": {},
   "outputs": [],
   "source": [
    "df_compare['partial'] = df_compare['concat'].apply(partial)"
   ]
  },
  {
   "cell_type": "code",
   "execution_count": 109,
   "id": "level-plymouth",
   "metadata": {},
   "outputs": [],
   "source": [
    "# res = df_compare['partial'].groupby(df_compare['INVOICE_PACKAGE_DESCRIPTION'], group_keys=False).nlargest(3)\n",
    "res = df_compare.sort_values('partial',ascending=False).groupby('INVOICE_PACKAGE_DESCRIPTION').head(10)"
   ]
  },
  {
   "cell_type": "code",
   "execution_count": 110,
   "id": "infinite-cycle",
   "metadata": {},
   "outputs": [
    {
     "name": "stdout",
     "output_type": "stream",
     "text": [
      "TIme taken for 5 against all: 1.6494574546813965\n"
     ]
    }
   ],
   "source": [
    "end = time.time()\n",
    "print(\"TIme taken for 5 against all:\" , (end-start))"
   ]
  },
  {
   "cell_type": "code",
   "execution_count": null,
   "id": "saving-salem",
   "metadata": {},
   "outputs": [],
   "source": [
    "res.sort_values('INVOICE_PACKAGE_DESCRIPTION')"
   ]
  },
  {
   "cell_type": "code",
   "execution_count": null,
   "id": "ahead-mercy",
   "metadata": {},
   "outputs": [],
   "source": [
    "export_file = res[['INVOICE_PACKAGE_DESCRIPTION','joined','partial']]"
   ]
  },
  {
   "cell_type": "code",
   "execution_count": null,
   "id": "british-tamil",
   "metadata": {},
   "outputs": [],
   "source": [
    "filename = export_file['INVOICE_PACKAGE_DESCRIPTION'].head(1).item()\n",
    "filename = filename.strip()\n"
   ]
  },
  {
   "cell_type": "code",
   "execution_count": null,
   "id": "catholic-construction",
   "metadata": {},
   "outputs": [],
   "source": [
    "export_file.to_csv('~/Downloads/fuzzymatch_of_invoice_prdtdesc/{}.csv'.format(filename))"
   ]
  },
  {
   "cell_type": "code",
   "execution_count": null,
   "id": "suspected-wales",
   "metadata": {},
   "outputs": [],
   "source": [
    "# file1 = open(\"a.csv\", \"a\") \n",
    "# file1.write(export_file.to_string())\n",
    "# file1.close()"
   ]
  },
  {
   "cell_type": "code",
   "execution_count": null,
   "id": "cheap-criminal",
   "metadata": {},
   "outputs": [],
   "source": [
    "# #tuple example\n",
    "# tup = ('SAMURAI SOUR HIBISCUS CORIANDER SEA SALT CIDER 250ML','122436 | CBA EXPLORERS VARIETY PACK 2/12 LNNR')\n",
    "# x0 = jellyfish.soundex(tup[0])\n",
    "# sep = ''\n",
    "# out = sep.join(tup[1])\n",
    "# n = out.split('|')\n",
    "\n",
    "# x1 = jellyfish.soundex(n[1])\n",
    "# fuzz.partial_ratio(x0,x1)"
   ]
  }
 ],
 "metadata": {
  "kernelspec": {
   "display_name": "Python 3",
   "language": "python",
   "name": "python3"
  },
  "language_info": {
   "codemirror_mode": {
    "name": "ipython",
    "version": 3
   },
   "file_extension": ".py",
   "mimetype": "text/x-python",
   "name": "python",
   "nbconvert_exporter": "python",
   "pygments_lexer": "ipython3",
   "version": "3.7.3"
  }
 },
 "nbformat": 4,
 "nbformat_minor": 5
}
