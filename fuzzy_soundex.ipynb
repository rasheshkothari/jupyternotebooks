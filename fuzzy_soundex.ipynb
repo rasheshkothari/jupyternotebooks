{
 "cells": [
  {
   "cell_type": "code",
   "execution_count": 1,
   "id": "emotional-height",
   "metadata": {},
   "outputs": [
    {
     "name": "stderr",
     "output_type": "stream",
     "text": [
      "/home/rkothari/.local/lib/python3.7/site-packages/fuzzywuzzy/fuzz.py:11: UserWarning: Using slow pure-python SequenceMatcher. Install python-Levenshtein to remove this warning\n",
      "  warnings.warn('Using slow pure-python SequenceMatcher. Install python-Levenshtein to remove this warning')\n"
     ]
    }
   ],
   "source": [
    "import pandas as pd\n",
    "import numpy as np\n",
    "from fuzzywuzzy import fuzz\n",
    "import jellyfish\n",
    "import snowflake.connector\n",
    "import time\n",
    "\n",
    "import warnings\n",
    "warnings.filterwarnings('ignore')\n",
    "\n",
    "import nltk\n",
    "from nltk.corpus import inaugural\n",
    "from nltk.tokenize import regexp_tokenize\n",
    "from nltk.stem import WordNetLemmatizer\n",
    "from nltk.corpus import stopwords\n",
    "\n",
    "from sklearn.model_selection import train_test_split\n",
    "from sklearn.feature_extraction.text import TfidfVectorizer\n",
    "from sklearn.preprocessing import LabelEncoder\n",
    "\n",
    "import gensim\n",
    "from gensim.utils import simple_preprocess\n",
    "from gensim.utils import simple_preprocess\n",
    "from gensim.models import Word2Vec\n",
    "from gensim.models import TfidfModel\n",
    "from gensim.corpora import Dictionary\n",
    "import num2words\n",
    "from num2words import num2words\n",
    "\n",
    "pd.options.display.max_colwidth = 1000"
   ]
  },
  {
   "cell_type": "code",
   "execution_count": 2,
   "id": "reflected-minutes",
   "metadata": {},
   "outputs": [],
   "source": [
    "start = time.time()"
   ]
  },
  {
   "cell_type": "code",
   "execution_count": 3,
   "id": "threatened-death",
   "metadata": {},
   "outputs": [],
   "source": [
    "data = pd.read_csv('~/Downloads/invoice_product_descriprions',sep=',')"
   ]
  },
  {
   "cell_type": "code",
   "execution_count": 4,
   "id": "emotional-capability",
   "metadata": {},
   "outputs": [],
   "source": [
    "res = data[:1000]"
   ]
  },
  {
   "cell_type": "code",
   "execution_count": 5,
   "id": "eleven-electricity",
   "metadata": {},
   "outputs": [],
   "source": [
    "def cleaned_text(text):\n",
    "    text = text.replace(\"/\", \" by \")\n",
    "    text.split(\" \")\n",
    "   \n",
    "    text = ''.join(num2words(word) if word.isdigit() else word for word in text  )\n",
    "    \n",
    "    word = nltk.tokenize.word_tokenize(text)\n",
    "    return(text)"
   ]
  },
  {
   "cell_type": "code",
   "execution_count": 6,
   "id": "strong-guinea",
   "metadata": {},
   "outputs": [
    {
     "data": {
      "text/plain": [
       "Index(['Unnamed: 0', 'GTIN', 'INVOICE_PACKAGE_DESCRIPTION',\n",
       "       'PRODUCT_DESCRIPTION', 'INVOICE_UPC_CASE'],\n",
       "      dtype='object')"
      ]
     },
     "execution_count": 6,
     "metadata": {},
     "output_type": "execute_result"
    }
   ],
   "source": [
    "res.columns"
   ]
  },
  {
   "cell_type": "code",
   "execution_count": 7,
   "id": "olympic-export",
   "metadata": {},
   "outputs": [],
   "source": [
    "#res['tokeized_invoice'] = res.apply(lambda x: cleaned_text(x.INVOICE_PACKAGE_DESCRIPTION), axis=1) \n",
    "res['tokeized_product'] = res.apply(lambda x: cleaned_text(x.PRODUCT_DESCRIPTION), axis=1) \n"
   ]
  },
  {
   "cell_type": "code",
   "execution_count": 8,
   "id": "established-exhibit",
   "metadata": {},
   "outputs": [],
   "source": [
    "res['tokeized_invoice'] = res.apply(lambda x: cleaned_text(x.INVOICE_PACKAGE_DESCRIPTION), axis=1)"
   ]
  },
  {
   "cell_type": "code",
   "execution_count": 9,
   "id": "hydraulic-catalyst",
   "metadata": {},
   "outputs": [],
   "source": [
    "res['TOKENIZED_INVOICE_SOUNDEX'] = res.apply(lambda x: jellyfish.soundex(x.tokeized_invoice), axis=1) "
   ]
  },
  {
   "cell_type": "code",
   "execution_count": 10,
   "id": "million-distributor",
   "metadata": {},
   "outputs": [],
   "source": [
    "res['TOKENIZED_PRODUCT_DESCRIPTION_SOUNDEX'] = res.apply(lambda x: jellyfish.soundex(x.tokeized_product), axis=1) "
   ]
  },
  {
   "cell_type": "code",
   "execution_count": 11,
   "id": "beneficial-arthritis",
   "metadata": {},
   "outputs": [],
   "source": [
    "res['INVOICE_SOUNDEX'] = res.apply(lambda x: jellyfish.soundex(x.INVOICE_PACKAGE_DESCRIPTION), axis=1) "
   ]
  },
  {
   "cell_type": "code",
   "execution_count": 12,
   "id": "gorgeous-beatles",
   "metadata": {},
   "outputs": [],
   "source": [
    "res['PRODUCT_DESCRIPTION_SOUNDEX'] = res.apply(lambda x: jellyfish.soundex(x.PRODUCT_DESCRIPTION), axis=1) "
   ]
  },
  {
   "cell_type": "code",
   "execution_count": 13,
   "id": "southwest-mailman",
   "metadata": {},
   "outputs": [],
   "source": [
    "res['jellyfish_ratio'] = res.apply(lambda x: fuzz.partial_ratio(x.INVOICE_SOUNDEX, x.PRODUCT_DESCRIPTION_SOUNDEX), axis=1)\n"
   ]
  },
  {
   "cell_type": "code",
   "execution_count": 14,
   "id": "clear-basin",
   "metadata": {},
   "outputs": [],
   "source": [
    "res['tokenized_jellyfish_ratio'] = res.apply(lambda x: fuzz.partial_ratio(x.TOKENIZED_INVOICE_SOUNDEX, x.TOKENIZED_PRODUCT_DESCRIPTION_SOUNDEX), axis=1)\n"
   ]
  },
  {
   "cell_type": "code",
   "execution_count": 15,
   "id": "documentary-tradition",
   "metadata": {},
   "outputs": [],
   "source": [
    "end = time.time()"
   ]
  },
  {
   "cell_type": "code",
   "execution_count": 16,
   "id": "supreme-relief",
   "metadata": {},
   "outputs": [
    {
     "name": "stdout",
     "output_type": "stream",
     "text": [
      "time =  5.0035011768341064\n"
     ]
    }
   ],
   "source": [
    "print(\"time = \", (end-start))"
   ]
  },
  {
   "cell_type": "code",
   "execution_count": 17,
   "id": "technical-mistake",
   "metadata": {},
   "outputs": [],
   "source": [
    "res.to_csv(\"~/Downloads/ratios_of_tokenized_soundex.csv\")"
   ]
  },
  {
   "cell_type": "code",
   "execution_count": null,
   "id": "violent-technique",
   "metadata": {},
   "outputs": [],
   "source": []
  },
  {
   "cell_type": "markdown",
   "id": "through-logging",
   "metadata": {},
   "source": [
    "# Approach 2"
   ]
  },
  {
   "cell_type": "code",
   "execution_count": 18,
   "id": "recreational-europe",
   "metadata": {},
   "outputs": [],
   "source": [
    "data2 = pd.read_csv('~/Downloads/invoice_product_descriprions',sep=',')"
   ]
  },
  {
   "cell_type": "code",
   "execution_count": 19,
   "id": "thirty-arctic",
   "metadata": {},
   "outputs": [],
   "source": [
    "res2 = data2[:100000]"
   ]
  },
  {
   "cell_type": "code",
   "execution_count": 20,
   "id": "advisory-clark",
   "metadata": {},
   "outputs": [
    {
     "data": {
      "text/html": [
       "<div>\n",
       "<style scoped>\n",
       "    .dataframe tbody tr th:only-of-type {\n",
       "        vertical-align: middle;\n",
       "    }\n",
       "\n",
       "    .dataframe tbody tr th {\n",
       "        vertical-align: top;\n",
       "    }\n",
       "\n",
       "    .dataframe thead th {\n",
       "        text-align: right;\n",
       "    }\n",
       "</style>\n",
       "<table border=\"1\" class=\"dataframe\">\n",
       "  <thead>\n",
       "    <tr style=\"text-align: right;\">\n",
       "      <th></th>\n",
       "      <th>Unnamed: 0</th>\n",
       "      <th>GTIN</th>\n",
       "      <th>INVOICE_PACKAGE_DESCRIPTION</th>\n",
       "      <th>PRODUCT_DESCRIPTION</th>\n",
       "      <th>INVOICE_UPC_CASE</th>\n",
       "    </tr>\n",
       "  </thead>\n",
       "  <tbody>\n",
       "    <tr>\n",
       "      <th>0</th>\n",
       "      <td>0</td>\n",
       "      <td>1820011047</td>\n",
       "      <td>BUDWEISER 2/12 CN 12OZ</td>\n",
       "      <td>BUDWEISER BEER 12 CT 12 OZ CAN IN BOX 144 OZ</td>\n",
       "      <td>1820011047</td>\n",
       "    </tr>\n",
       "    <tr>\n",
       "      <th>1</th>\n",
       "      <td>1</td>\n",
       "      <td>1820011047</td>\n",
       "      <td>BUD 16OZ 4/6 CAN</td>\n",
       "      <td>BUDWEISER BEER 12 CT 12 OZ CAN IN BOX 144 OZ</td>\n",
       "      <td>1820011047</td>\n",
       "    </tr>\n",
       "    <tr>\n",
       "      <th>2</th>\n",
       "      <td>2</td>\n",
       "      <td>1820011047</td>\n",
       "      <td>BUD 2/12 CAN</td>\n",
       "      <td>BUDWEISER BEER 12 CT 12 OZ CAN IN BOX 144 OZ</td>\n",
       "      <td>1820011047</td>\n",
       "    </tr>\n",
       "    <tr>\n",
       "      <th>3</th>\n",
       "      <td>3</td>\n",
       "      <td>1820011047</td>\n",
       "      <td>BUDWEISER   12PK CANS PC:02/10/20  12 O</td>\n",
       "      <td>BUDWEISER BEER 12 CT 12 OZ CAN IN BOX 144 OZ</td>\n",
       "      <td>1820011047</td>\n",
       "    </tr>\n",
       "    <tr>\n",
       "      <th>4</th>\n",
       "      <td>4</td>\n",
       "      <td>1820011047</td>\n",
       "      <td>BUD 12 PK CANS</td>\n",
       "      <td>BUDWEISER BEER 12 CT 12 OZ CAN IN BOX 144 OZ</td>\n",
       "      <td>1820011047</td>\n",
       "    </tr>\n",
       "    <tr>\n",
       "      <th>...</th>\n",
       "      <td>...</td>\n",
       "      <td>...</td>\n",
       "      <td>...</td>\n",
       "      <td>...</td>\n",
       "      <td>...</td>\n",
       "    </tr>\n",
       "    <tr>\n",
       "      <th>99995</th>\n",
       "      <td>99995</td>\n",
       "      <td>33544000434</td>\n",
       "      <td>CORONA SELTZ VP 2/12 CAN</td>\n",
       "      <td>CORONA HARD SELTZER VARIETY PACK MALT BEVERAGE 12 CT 12 OZ CAN IN BOX 144 OZ</td>\n",
       "      <td>33544000434</td>\n",
       "    </tr>\n",
       "    <tr>\n",
       "      <th>99996</th>\n",
       "      <td>99996</td>\n",
       "      <td>33544000434</td>\n",
       "      <td>CORONA SELTZER 2/12/12 CN</td>\n",
       "      <td>CORONA HARD SELTZER VARIETY PACK MALT BEVERAGE 12 CT 12 OZ CAN IN BOX 144 OZ</td>\n",
       "      <td>33544000434</td>\n",
       "    </tr>\n",
       "    <tr>\n",
       "      <th>99997</th>\n",
       "      <td>99997</td>\n",
       "      <td>33544000434</td>\n",
       "      <td>CORONA SELTZER VAR 2/12</td>\n",
       "      <td>CORONA HARD SELTZER VARIETY PACK MALT BEVERAGE 12 CT 12 OZ CAN IN BOX 144 OZ</td>\n",
       "      <td>33544000434</td>\n",
       "    </tr>\n",
       "    <tr>\n",
       "      <th>99998</th>\n",
       "      <td>99998</td>\n",
       "      <td>33544000434</td>\n",
       "      <td>CORONA SELTZER VARIETY 2/12PK CANS</td>\n",
       "      <td>CORONA HARD SELTZER VARIETY PACK MALT BEVERAGE 12 CT 12 OZ CAN IN BOX 144 OZ</td>\n",
       "      <td>3354400043</td>\n",
       "    </tr>\n",
       "    <tr>\n",
       "      <th>99999</th>\n",
       "      <td>99999</td>\n",
       "      <td>33544000434</td>\n",
       "      <td>CORONA SELTZER 2/12/12 CANS</td>\n",
       "      <td>CORONA HARD SELTZER VARIETY PACK MALT BEVERAGE 12 CT 12 OZ CAN IN BOX 144 OZ</td>\n",
       "      <td>33544000434</td>\n",
       "    </tr>\n",
       "  </tbody>\n",
       "</table>\n",
       "<p>100000 rows × 5 columns</p>\n",
       "</div>"
      ],
      "text/plain": [
       "       Unnamed: 0         GTIN              INVOICE_PACKAGE_DESCRIPTION  \\\n",
       "0               0   1820011047                   BUDWEISER 2/12 CN 12OZ   \n",
       "1               1   1820011047                         BUD 16OZ 4/6 CAN   \n",
       "2               2   1820011047                             BUD 2/12 CAN   \n",
       "3               3   1820011047  BUDWEISER   12PK CANS PC:02/10/20  12 O   \n",
       "4               4   1820011047                           BUD 12 PK CANS   \n",
       "...           ...          ...                                      ...   \n",
       "99995       99995  33544000434                 CORONA SELTZ VP 2/12 CAN   \n",
       "99996       99996  33544000434                CORONA SELTZER 2/12/12 CN   \n",
       "99997       99997  33544000434                  CORONA SELTZER VAR 2/12   \n",
       "99998       99998  33544000434       CORONA SELTZER VARIETY 2/12PK CANS   \n",
       "99999       99999  33544000434              CORONA SELTZER 2/12/12 CANS   \n",
       "\n",
       "                                                                PRODUCT_DESCRIPTION  \\\n",
       "0                                      BUDWEISER BEER 12 CT 12 OZ CAN IN BOX 144 OZ   \n",
       "1                                      BUDWEISER BEER 12 CT 12 OZ CAN IN BOX 144 OZ   \n",
       "2                                      BUDWEISER BEER 12 CT 12 OZ CAN IN BOX 144 OZ   \n",
       "3                                      BUDWEISER BEER 12 CT 12 OZ CAN IN BOX 144 OZ   \n",
       "4                                      BUDWEISER BEER 12 CT 12 OZ CAN IN BOX 144 OZ   \n",
       "...                                                                             ...   \n",
       "99995  CORONA HARD SELTZER VARIETY PACK MALT BEVERAGE 12 CT 12 OZ CAN IN BOX 144 OZ   \n",
       "99996  CORONA HARD SELTZER VARIETY PACK MALT BEVERAGE 12 CT 12 OZ CAN IN BOX 144 OZ   \n",
       "99997  CORONA HARD SELTZER VARIETY PACK MALT BEVERAGE 12 CT 12 OZ CAN IN BOX 144 OZ   \n",
       "99998  CORONA HARD SELTZER VARIETY PACK MALT BEVERAGE 12 CT 12 OZ CAN IN BOX 144 OZ   \n",
       "99999  CORONA HARD SELTZER VARIETY PACK MALT BEVERAGE 12 CT 12 OZ CAN IN BOX 144 OZ   \n",
       "\n",
       "       INVOICE_UPC_CASE  \n",
       "0            1820011047  \n",
       "1            1820011047  \n",
       "2            1820011047  \n",
       "3            1820011047  \n",
       "4            1820011047  \n",
       "...                 ...  \n",
       "99995       33544000434  \n",
       "99996       33544000434  \n",
       "99997       33544000434  \n",
       "99998        3354400043  \n",
       "99999       33544000434  \n",
       "\n",
       "[100000 rows x 5 columns]"
      ]
     },
     "execution_count": 20,
     "metadata": {},
     "output_type": "execute_result"
    }
   ],
   "source": [
    "res2"
   ]
  },
  {
   "cell_type": "code",
   "execution_count": 21,
   "id": "organized-screening",
   "metadata": {},
   "outputs": [],
   "source": [
    "# r'(\\d\\s+CT\\s+\\d\\s+OZ)'"
   ]
  },
  {
   "cell_type": "code",
   "execution_count": 22,
   "id": "beginning-range",
   "metadata": {},
   "outputs": [],
   "source": [
    "rgx_list = [r'\\s+\\d+\\s+CT\\s+\\d+\\s+OZ', r'\\d+\\s+OZ', r'\\s+\\d+/\\d+',r'\\s+\\d+OZ', r'CANS', r'CAN', r'OZ', r'BOX' , r'IN',r'PK', r'CN', r'\\d+', r'CASE',\n",
    "           r'\\d+L/d+\\s+PET',r'\\.',r'\\.L',r'NR', r'/',r'O', r'()',r'//','LTR', r'PET',r'ML',r'\\?',r'BBL']\n"
   ]
  },
  {
   "cell_type": "code",
   "execution_count": 23,
   "id": "entitled-greeting",
   "metadata": {},
   "outputs": [],
   "source": [
    "import re\n",
    "def remove_pattern(rgx_list, text):\n",
    "    for r in rgx_list:\n",
    "        \n",
    "        text = re.sub(r, '', text )\n",
    "        \n",
    "    return text\n"
   ]
  },
  {
   "cell_type": "code",
   "execution_count": 24,
   "id": "large-continuity",
   "metadata": {},
   "outputs": [],
   "source": [
    "res2['clean_product_desc'] = res2.apply(lambda x: remove_pattern(rgx_list,x.PRODUCT_DESCRIPTION), axis=1) \n",
    "res2['clean_invoice_desc'] = res2.apply(lambda x: remove_pattern(rgx_list,x.INVOICE_PACKAGE_DESCRIPTION), axis=1) \n"
   ]
  },
  {
   "cell_type": "code",
   "execution_count": 25,
   "id": "spoken-deposit",
   "metadata": {},
   "outputs": [
    {
     "data": {
      "text/html": [
       "<div>\n",
       "<style scoped>\n",
       "    .dataframe tbody tr th:only-of-type {\n",
       "        vertical-align: middle;\n",
       "    }\n",
       "\n",
       "    .dataframe tbody tr th {\n",
       "        vertical-align: top;\n",
       "    }\n",
       "\n",
       "    .dataframe thead th {\n",
       "        text-align: right;\n",
       "    }\n",
       "</style>\n",
       "<table border=\"1\" class=\"dataframe\">\n",
       "  <thead>\n",
       "    <tr style=\"text-align: right;\">\n",
       "      <th></th>\n",
       "      <th>Unnamed: 0</th>\n",
       "      <th>GTIN</th>\n",
       "      <th>INVOICE_PACKAGE_DESCRIPTION</th>\n",
       "      <th>PRODUCT_DESCRIPTION</th>\n",
       "      <th>INVOICE_UPC_CASE</th>\n",
       "      <th>clean_product_desc</th>\n",
       "      <th>clean_invoice_desc</th>\n",
       "    </tr>\n",
       "  </thead>\n",
       "  <tbody>\n",
       "    <tr>\n",
       "      <th>0</th>\n",
       "      <td>0</td>\n",
       "      <td>1820011047</td>\n",
       "      <td>BUDWEISER 2/12 CN 12OZ</td>\n",
       "      <td>BUDWEISER BEER 12 CT 12 OZ CAN IN BOX 144 OZ</td>\n",
       "      <td>1820011047</td>\n",
       "      <td>BUDWEISER BEER</td>\n",
       "      <td>BUDWEISER</td>\n",
       "    </tr>\n",
       "    <tr>\n",
       "      <th>1</th>\n",
       "      <td>1</td>\n",
       "      <td>1820011047</td>\n",
       "      <td>BUD 16OZ 4/6 CAN</td>\n",
       "      <td>BUDWEISER BEER 12 CT 12 OZ CAN IN BOX 144 OZ</td>\n",
       "      <td>1820011047</td>\n",
       "      <td>BUDWEISER BEER</td>\n",
       "      <td>BUD</td>\n",
       "    </tr>\n",
       "    <tr>\n",
       "      <th>2</th>\n",
       "      <td>2</td>\n",
       "      <td>1820011047</td>\n",
       "      <td>BUD 2/12 CAN</td>\n",
       "      <td>BUDWEISER BEER 12 CT 12 OZ CAN IN BOX 144 OZ</td>\n",
       "      <td>1820011047</td>\n",
       "      <td>BUDWEISER BEER</td>\n",
       "      <td>BUD</td>\n",
       "    </tr>\n",
       "    <tr>\n",
       "      <th>3</th>\n",
       "      <td>3</td>\n",
       "      <td>1820011047</td>\n",
       "      <td>BUDWEISER   12PK CANS PC:02/10/20  12 O</td>\n",
       "      <td>BUDWEISER BEER 12 CT 12 OZ CAN IN BOX 144 OZ</td>\n",
       "      <td>1820011047</td>\n",
       "      <td>BUDWEISER BEER</td>\n",
       "      <td>BUDWEISER     PC:</td>\n",
       "    </tr>\n",
       "    <tr>\n",
       "      <th>4</th>\n",
       "      <td>4</td>\n",
       "      <td>1820011047</td>\n",
       "      <td>BUD 12 PK CANS</td>\n",
       "      <td>BUDWEISER BEER 12 CT 12 OZ CAN IN BOX 144 OZ</td>\n",
       "      <td>1820011047</td>\n",
       "      <td>BUDWEISER BEER</td>\n",
       "      <td>BUD</td>\n",
       "    </tr>\n",
       "  </tbody>\n",
       "</table>\n",
       "</div>"
      ],
      "text/plain": [
       "   Unnamed: 0        GTIN              INVOICE_PACKAGE_DESCRIPTION  \\\n",
       "0           0  1820011047                   BUDWEISER 2/12 CN 12OZ   \n",
       "1           1  1820011047                         BUD 16OZ 4/6 CAN   \n",
       "2           2  1820011047                             BUD 2/12 CAN   \n",
       "3           3  1820011047  BUDWEISER   12PK CANS PC:02/10/20  12 O   \n",
       "4           4  1820011047                           BUD 12 PK CANS   \n",
       "\n",
       "                            PRODUCT_DESCRIPTION  INVOICE_UPC_CASE  \\\n",
       "0  BUDWEISER BEER 12 CT 12 OZ CAN IN BOX 144 OZ        1820011047   \n",
       "1  BUDWEISER BEER 12 CT 12 OZ CAN IN BOX 144 OZ        1820011047   \n",
       "2  BUDWEISER BEER 12 CT 12 OZ CAN IN BOX 144 OZ        1820011047   \n",
       "3  BUDWEISER BEER 12 CT 12 OZ CAN IN BOX 144 OZ        1820011047   \n",
       "4  BUDWEISER BEER 12 CT 12 OZ CAN IN BOX 144 OZ        1820011047   \n",
       "\n",
       "   clean_product_desc    clean_invoice_desc  \n",
       "0  BUDWEISER BEER                BUDWEISER   \n",
       "1  BUDWEISER BEER                      BUD   \n",
       "2  BUDWEISER BEER                      BUD   \n",
       "3  BUDWEISER BEER      BUDWEISER     PC:     \n",
       "4  BUDWEISER BEER                    BUD     "
      ]
     },
     "execution_count": 25,
     "metadata": {},
     "output_type": "execute_result"
    }
   ],
   "source": [
    "res2.head()"
   ]
  },
  {
   "cell_type": "code",
   "execution_count": 26,
   "id": "handed-satin",
   "metadata": {},
   "outputs": [],
   "source": [
    "res2['SOUNDEX_clean_invoice'] = res2.apply(lambda x: jellyfish.soundex(x.clean_invoice_desc), axis=1) \n"
   ]
  },
  {
   "cell_type": "code",
   "execution_count": 27,
   "id": "impressed-event",
   "metadata": {},
   "outputs": [],
   "source": [
    "res2['SOUNDEX_clean_product'] = res2.apply(lambda x: jellyfish.soundex(x.clean_product_desc), axis=1) "
   ]
  },
  {
   "cell_type": "code",
   "execution_count": 28,
   "id": "sonic-publication",
   "metadata": {},
   "outputs": [],
   "source": [
    "res2['jellyfish_ratio'] = res2.apply(lambda x: fuzz.partial_ratio(x.SOUNDEX_clean_invoice, x.SOUNDEX_clean_product), axis=1)\n",
    "res2['fuzz_ratio'] = res2.apply(lambda x: fuzz.partial_ratio(x.clean_invoice_desc, x.clean_product_desc), axis=1)\n"
   ]
  },
  {
   "cell_type": "code",
   "execution_count": 29,
   "id": "standard-lexington",
   "metadata": {},
   "outputs": [
    {
     "data": {
      "text/html": [
       "<div>\n",
       "<style scoped>\n",
       "    .dataframe tbody tr th:only-of-type {\n",
       "        vertical-align: middle;\n",
       "    }\n",
       "\n",
       "    .dataframe tbody tr th {\n",
       "        vertical-align: top;\n",
       "    }\n",
       "\n",
       "    .dataframe thead th {\n",
       "        text-align: right;\n",
       "    }\n",
       "</style>\n",
       "<table border=\"1\" class=\"dataframe\">\n",
       "  <thead>\n",
       "    <tr style=\"text-align: right;\">\n",
       "      <th></th>\n",
       "      <th>clean_invoice_desc</th>\n",
       "      <th>clean_product_desc</th>\n",
       "      <th>jellyfish_ratio</th>\n",
       "      <th>fuzz_ratio</th>\n",
       "    </tr>\n",
       "  </thead>\n",
       "  <tbody>\n",
       "    <tr>\n",
       "      <th>0</th>\n",
       "      <td>BUDWEISER</td>\n",
       "      <td>BUDWEISER BEER</td>\n",
       "      <td>100</td>\n",
       "      <td>100</td>\n",
       "    </tr>\n",
       "    <tr>\n",
       "      <th>1</th>\n",
       "      <td>BUD</td>\n",
       "      <td>BUDWEISER BEER</td>\n",
       "      <td>50</td>\n",
       "      <td>75</td>\n",
       "    </tr>\n",
       "    <tr>\n",
       "      <th>2</th>\n",
       "      <td>BUD</td>\n",
       "      <td>BUDWEISER BEER</td>\n",
       "      <td>50</td>\n",
       "      <td>75</td>\n",
       "    </tr>\n",
       "    <tr>\n",
       "      <th>3</th>\n",
       "      <td>BUDWEISER     PC:</td>\n",
       "      <td>BUDWEISER BEER</td>\n",
       "      <td>100</td>\n",
       "      <td>78</td>\n",
       "    </tr>\n",
       "    <tr>\n",
       "      <th>4</th>\n",
       "      <td>BUD</td>\n",
       "      <td>BUDWEISER BEER</td>\n",
       "      <td>50</td>\n",
       "      <td>50</td>\n",
       "    </tr>\n",
       "    <tr>\n",
       "      <th>...</th>\n",
       "      <td>...</td>\n",
       "      <td>...</td>\n",
       "      <td>...</td>\n",
       "      <td>...</td>\n",
       "    </tr>\n",
       "    <tr>\n",
       "      <th>99995</th>\n",
       "      <td>CRNA SELTZ VP</td>\n",
       "      <td>CRNA HARD SELTZER VARIETY PACK MALT BEVERAGE</td>\n",
       "      <td>75</td>\n",
       "      <td>64</td>\n",
       "    </tr>\n",
       "    <tr>\n",
       "      <th>99996</th>\n",
       "      <td>CRNA SELTZER</td>\n",
       "      <td>CRNA HARD SELTZER VARIETY PACK MALT BEVERAGE</td>\n",
       "      <td>75</td>\n",
       "      <td>77</td>\n",
       "    </tr>\n",
       "    <tr>\n",
       "      <th>99997</th>\n",
       "      <td>CRNA SELTZER VAR</td>\n",
       "      <td>CRNA HARD SELTZER VARIETY PACK MALT BEVERAGE</td>\n",
       "      <td>75</td>\n",
       "      <td>81</td>\n",
       "    </tr>\n",
       "    <tr>\n",
       "      <th>99998</th>\n",
       "      <td>CRNA SELTZER VARIETY</td>\n",
       "      <td>CRNA HARD SELTZER VARIETY PACK MALT BEVERAGE</td>\n",
       "      <td>75</td>\n",
       "      <td>86</td>\n",
       "    </tr>\n",
       "    <tr>\n",
       "      <th>99999</th>\n",
       "      <td>CRNA SELTZER</td>\n",
       "      <td>CRNA HARD SELTZER VARIETY PACK MALT BEVERAGE</td>\n",
       "      <td>75</td>\n",
       "      <td>77</td>\n",
       "    </tr>\n",
       "  </tbody>\n",
       "</table>\n",
       "<p>100000 rows × 4 columns</p>\n",
       "</div>"
      ],
      "text/plain": [
       "          clean_invoice_desc  \\\n",
       "0                 BUDWEISER    \n",
       "1                       BUD    \n",
       "2                       BUD    \n",
       "3       BUDWEISER     PC:      \n",
       "4                     BUD      \n",
       "...                      ...   \n",
       "99995         CRNA SELTZ VP    \n",
       "99996          CRNA SELTZER    \n",
       "99997       CRNA SELTZER VAR   \n",
       "99998  CRNA SELTZER VARIETY    \n",
       "99999          CRNA SELTZER    \n",
       "\n",
       "                                     clean_product_desc  jellyfish_ratio  \\\n",
       "0                                    BUDWEISER BEER                  100   \n",
       "1                                    BUDWEISER BEER                   50   \n",
       "2                                    BUDWEISER BEER                   50   \n",
       "3                                    BUDWEISER BEER                  100   \n",
       "4                                    BUDWEISER BEER                   50   \n",
       "...                                                 ...              ...   \n",
       "99995  CRNA HARD SELTZER VARIETY PACK MALT BEVERAGE                   75   \n",
       "99996  CRNA HARD SELTZER VARIETY PACK MALT BEVERAGE                   75   \n",
       "99997  CRNA HARD SELTZER VARIETY PACK MALT BEVERAGE                   75   \n",
       "99998  CRNA HARD SELTZER VARIETY PACK MALT BEVERAGE                   75   \n",
       "99999  CRNA HARD SELTZER VARIETY PACK MALT BEVERAGE                   75   \n",
       "\n",
       "       fuzz_ratio  \n",
       "0             100  \n",
       "1              75  \n",
       "2              75  \n",
       "3              78  \n",
       "4              50  \n",
       "...           ...  \n",
       "99995          64  \n",
       "99996          77  \n",
       "99997          81  \n",
       "99998          86  \n",
       "99999          77  \n",
       "\n",
       "[100000 rows x 4 columns]"
      ]
     },
     "execution_count": 29,
     "metadata": {},
     "output_type": "execute_result"
    }
   ],
   "source": [
    "res2[['clean_invoice_desc','clean_product_desc','jellyfish_ratio','fuzz_ratio']]"
   ]
  },
  {
   "cell_type": "code",
   "execution_count": 30,
   "id": "normal-baking",
   "metadata": {},
   "outputs": [],
   "source": [
    "res2.to_csv('~/Downloads/ratios_of_cleaned_desc.csv')"
   ]
  },
  {
   "cell_type": "code",
   "execution_count": 31,
   "id": "sought-cleaners",
   "metadata": {},
   "outputs": [],
   "source": [
    "from gensim.models.doc2vec import Doc2Vec, TaggedDocument\n",
    "from sklearn.feature_extraction.text import CountVectorizer"
   ]
  },
  {
   "cell_type": "code",
   "execution_count": 32,
   "id": "signed-syndication",
   "metadata": {},
   "outputs": [],
   "source": [
    "tokenizer = CountVectorizer(strip_accents='unicode',analyzer='char_wb',ngram_range=(3,3))"
   ]
  },
  {
   "cell_type": "code",
   "execution_count": 33,
   "id": "similar-arrival",
   "metadata": {},
   "outputs": [],
   "source": [
    "featurenames_product_desc = []\n",
    "sparse_products_desc = []\n",
    "\n",
    "featurenamess_invocie_desc = []\n",
    "sparse_invoice_desc = []"
   ]
  },
  {
   "cell_type": "code",
   "execution_count": 34,
   "id": "moving-diabetes",
   "metadata": {},
   "outputs": [
    {
     "data": {
      "text/plain": [
       "Index(['Unnamed: 0', 'GTIN', 'INVOICE_PACKAGE_DESCRIPTION',\n",
       "       'PRODUCT_DESCRIPTION', 'INVOICE_UPC_CASE', 'clean_product_desc',\n",
       "       'clean_invoice_desc', 'SOUNDEX_clean_invoice', 'SOUNDEX_clean_product',\n",
       "       'jellyfish_ratio', 'fuzz_ratio'],\n",
       "      dtype='object')"
      ]
     },
     "execution_count": 34,
     "metadata": {},
     "output_type": "execute_result"
    }
   ],
   "source": [
    "res2.columns"
   ]
  },
  {
   "cell_type": "code",
   "execution_count": 35,
   "id": "creative-canvas",
   "metadata": {},
   "outputs": [
    {
     "data": {
      "text/plain": [
       "0                   BUDWEISER \n",
       "1                         BUD \n",
       "2                         BUD \n",
       "3         BUDWEISER     PC:   \n",
       "4                       BUD   \n",
       "                 ...          \n",
       "99995           CRNA SELTZ VP \n",
       "99996            CRNA SELTZER \n",
       "99997         CRNA SELTZER VAR\n",
       "99998    CRNA SELTZER VARIETY \n",
       "99999            CRNA SELTZER \n",
       "Name: clean_invoice_desc, Length: 100000, dtype: object"
      ]
     },
     "execution_count": 35,
     "metadata": {},
     "output_type": "execute_result"
    }
   ],
   "source": [
    "res2[\"clean_invoice_desc\"]"
   ]
  },
  {
   "cell_type": "code",
   "execution_count": 39,
   "id": "excess-information",
   "metadata": {},
   "outputs": [
    {
     "ename": "ValueError",
     "evalue": "empty vocabulary; perhaps the documents only contain stop words",
     "output_type": "error",
     "traceback": [
      "\u001b[0;31m---------------------------------------------------------------------------\u001b[0m",
      "\u001b[0;31mValueError\u001b[0m                                Traceback (most recent call last)",
      "\u001b[0;32m<ipython-input-39-a094c68825bc>\u001b[0m in \u001b[0;36m<module>\u001b[0;34m\u001b[0m\n\u001b[1;32m      1\u001b[0m \u001b[0;32mfor\u001b[0m \u001b[0mi\u001b[0m \u001b[0;32min\u001b[0m \u001b[0mres2\u001b[0m\u001b[0;34m[\u001b[0m\u001b[0;34m\"clean_invoice_desc\"\u001b[0m\u001b[0;34m]\u001b[0m\u001b[0;34m:\u001b[0m\u001b[0;34m\u001b[0m\u001b[0;34m\u001b[0m\u001b[0m\n\u001b[1;32m      2\u001b[0m \u001b[0;34m\u001b[0m\u001b[0m\n\u001b[0;32m----> 3\u001b[0;31m     \u001b[0mx\u001b[0m \u001b[0;34m=\u001b[0m \u001b[0mtokenizer\u001b[0m\u001b[0;34m.\u001b[0m\u001b[0mfit_transform\u001b[0m\u001b[0;34m(\u001b[0m\u001b[0;34m[\u001b[0m\u001b[0mi\u001b[0m\u001b[0;34m]\u001b[0m\u001b[0;34m)\u001b[0m\u001b[0;34m\u001b[0m\u001b[0;34m\u001b[0m\u001b[0m\n\u001b[0m\u001b[1;32m      4\u001b[0m     \u001b[0msparse_invoice_desc\u001b[0m\u001b[0;34m.\u001b[0m\u001b[0mappend\u001b[0m\u001b[0;34m(\u001b[0m\u001b[0mx\u001b[0m\u001b[0;34m.\u001b[0m\u001b[0mtoarray\u001b[0m\u001b[0;34m(\u001b[0m\u001b[0;34m)\u001b[0m\u001b[0;34m)\u001b[0m\u001b[0;34m\u001b[0m\u001b[0;34m\u001b[0m\u001b[0m\n\u001b[1;32m      5\u001b[0m     \u001b[0mfeaturenamess_invocie_desc\u001b[0m\u001b[0;34m.\u001b[0m\u001b[0mappend\u001b[0m\u001b[0;34m(\u001b[0m\u001b[0mtokenizer\u001b[0m\u001b[0;34m.\u001b[0m\u001b[0mget_feature_names\u001b[0m\u001b[0;34m(\u001b[0m\u001b[0;34m)\u001b[0m\u001b[0;34m)\u001b[0m\u001b[0;34m\u001b[0m\u001b[0;34m\u001b[0m\u001b[0m\n",
      "\u001b[0;32m/usr/local/lib/python3.7/dist-packages/sklearn/feature_extraction/text.py\u001b[0m in \u001b[0;36mfit_transform\u001b[0;34m(self, raw_documents, y)\u001b[0m\n\u001b[1;32m   1202\u001b[0m \u001b[0;34m\u001b[0m\u001b[0m\n\u001b[1;32m   1203\u001b[0m         vocabulary, X = self._count_vocab(raw_documents,\n\u001b[0;32m-> 1204\u001b[0;31m                                           self.fixed_vocabulary_)\n\u001b[0m\u001b[1;32m   1205\u001b[0m \u001b[0;34m\u001b[0m\u001b[0m\n\u001b[1;32m   1206\u001b[0m         \u001b[0;32mif\u001b[0m \u001b[0mself\u001b[0m\u001b[0;34m.\u001b[0m\u001b[0mbinary\u001b[0m\u001b[0;34m:\u001b[0m\u001b[0;34m\u001b[0m\u001b[0;34m\u001b[0m\u001b[0m\n",
      "\u001b[0;32m/usr/local/lib/python3.7/dist-packages/sklearn/feature_extraction/text.py\u001b[0m in \u001b[0;36m_count_vocab\u001b[0;34m(self, raw_documents, fixed_vocab)\u001b[0m\n\u001b[1;32m   1132\u001b[0m             \u001b[0mvocabulary\u001b[0m \u001b[0;34m=\u001b[0m \u001b[0mdict\u001b[0m\u001b[0;34m(\u001b[0m\u001b[0mvocabulary\u001b[0m\u001b[0;34m)\u001b[0m\u001b[0;34m\u001b[0m\u001b[0;34m\u001b[0m\u001b[0m\n\u001b[1;32m   1133\u001b[0m             \u001b[0;32mif\u001b[0m \u001b[0;32mnot\u001b[0m \u001b[0mvocabulary\u001b[0m\u001b[0;34m:\u001b[0m\u001b[0;34m\u001b[0m\u001b[0;34m\u001b[0m\u001b[0m\n\u001b[0;32m-> 1134\u001b[0;31m                 raise ValueError(\"empty vocabulary; perhaps the documents only\"\n\u001b[0m\u001b[1;32m   1135\u001b[0m                                  \" contain stop words\")\n\u001b[1;32m   1136\u001b[0m \u001b[0;34m\u001b[0m\u001b[0m\n",
      "\u001b[0;31mValueError\u001b[0m: empty vocabulary; perhaps the documents only contain stop words"
     ]
    }
   ],
   "source": [
    "\n",
    " \n",
    "\n",
    "for i in res2[\"clean_invoice_desc\"]:\n",
    "\n",
    "    x = tokenizer.fit_transform([i])\n",
    "    sparse_invoice_desc.append(x.toarray())\n",
    "    featurenamess_invocie_desc.append(tokenizer.get_feature_names())\n",
    " \n"
   ]
  },
  {
   "cell_type": "code",
   "execution_count": 38,
   "id": "honest-marathon",
   "metadata": {},
   "outputs": [],
   "source": [
    "res2[\"featurenames_product_desc\"] =  featurenamess_invocie_desc"
   ]
  },
  {
   "cell_type": "code",
   "execution_count": null,
   "id": "ranking-channels",
   "metadata": {},
   "outputs": [],
   "source": [
    "res2.columns"
   ]
  },
  {
   "cell_type": "code",
   "execution_count": null,
   "id": "operational-climb",
   "metadata": {},
   "outputs": [],
   "source": [
    "card_docs = [TaggedDocument(row, [l]) for l, row in enumerate(featurenames)]\n",
    "model = Doc2Vec(vector_size=50, min_count=0, epochs=100, dm=1)\n",
    "model.build_vocab(card_docs)\n",
    "model.train(card_docs, total_examples=model.corpus_count, epochs=model.epochs)\n"
   ]
  },
  {
   "cell_type": "code",
   "execution_count": null,
   "id": "julian-ambassador",
   "metadata": {},
   "outputs": [],
   "source": [
    "\n",
    "ranks = []\n",
    "for i in mapped01.itertuples():\n",
    "    inferred_vector = model.infer_vector(i.INVOICE_PACKAGE_DESCRIPTION.split(' '))\n",
    "    sims = model.wv.most_similar([inferred_vector], topn=len(card2vec))\n",
    "    print('Tested Line: ', i.INVOICE_PACKAGE_DESCRIPTION)\n",
    "    print(sims)"
   ]
  }
 ],
 "metadata": {
  "kernelspec": {
   "display_name": "Python 3",
   "language": "python",
   "name": "python3"
  },
  "language_info": {
   "codemirror_mode": {
    "name": "ipython",
    "version": 3
   },
   "file_extension": ".py",
   "mimetype": "text/x-python",
   "name": "python",
   "nbconvert_exporter": "python",
   "pygments_lexer": "ipython3",
   "version": "3.7.3"
  }
 },
 "nbformat": 4,
 "nbformat_minor": 5
}
