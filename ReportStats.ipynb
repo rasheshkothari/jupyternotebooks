{
 "cells": [
  {
   "cell_type": "code",
   "execution_count": 2,
   "id": "criminal-fishing",
   "metadata": {},
   "outputs": [],
   "source": [
    "import warnings\n",
    "warnings.filterwarnings('ignore')\n",
    "\n",
    "import pandas as pd\n",
    "import numpy as np\n",
    "import matplotlib.pyplot as plt\n",
    "import seaborn as sb\n",
    "from pylab import rcParams\n",
    "import os\n",
    "import re\n",
    "%matplotlib inline\n",
    "\n",
    "# from fuzzywuzzy import fuzz\n",
    "# from fuzzywuzzy import process\n",
    "from rapidfuzz import fuzz, process, utils\n",
    "import jellyfish\n",
    "import snowflake.connector\n",
    "# import torch\n",
    "# from sentence_transformers import SentenceTransformer, util\n",
    "# model = SentenceTransformer('stsb-roberta-large')\n",
    "\n",
    "# Imported the inaugural corpus from nltk.corpus\n",
    "import nltk\n",
    "from nltk.corpus import inaugural\n",
    "from nltk.tokenize import regexp_tokenize\n",
    "from nltk.stem import WordNetLemmatizer\n",
    "from nltk.corpus import stopwords\n",
    "\n",
    "from sklearn.model_selection import train_test_split\n",
    "from sklearn.feature_extraction.text import TfidfVectorizer\n",
    "from sklearn.preprocessing import LabelEncoder\n",
    "\n",
    "import gensim\n",
    "from gensim.utils import simple_preprocess\n",
    "from gensim.utils import simple_preprocess\n",
    "from gensim.models import Word2Vec\n",
    "from gensim.models import TfidfModel\n",
    "from gensim.corpora import Dictionary\n",
    "import num2words\n",
    "from num2words import num2words\n",
    "import time\n",
    "# from time import time\n",
    "\n",
    "pd.options.display.max_colwidth = 10000"
   ]
  },
  {
   "cell_type": "code",
   "execution_count": 2,
   "id": "latest-search",
   "metadata": {},
   "outputs": [],
   "source": [
    "cnx = snowflake.connector.connect(user='rkothari', password='Fall19@123', account='FF80747.east-us-2.azure', warehouse='DASCI_WH_S', database='FDC_STAGE', schema='DASCI', role='DASCI_DEVELOPER')\n"
   ]
  },
  {
   "cell_type": "code",
   "execution_count": 3,
   "id": "split-spokesman",
   "metadata": {},
   "outputs": [],
   "source": [
    "con = cnx.cursor()"
   ]
  },
  {
   "cell_type": "code",
   "execution_count": 4,
   "id": "split-adaptation",
   "metadata": {},
   "outputs": [],
   "source": [
    "QUERY = '''SELECT * from DISTRIBUTOR_SUMMARY\n",
    "WHERE year(INVOICE_DATE) IN (2017)\n",
    "ORDER BY DISTRIBUTOR_FTS_ID  '''"
   ]
  },
  {
   "cell_type": "code",
   "execution_count": 3,
   "id": "external-republican",
   "metadata": {},
   "outputs": [],
   "source": [
    "nullUPC_distributor_summary = pd.read_csv(\"/home/rkothari/Downloads/null_UPC_distributorwise.csv\")"
   ]
  },
  {
   "cell_type": "code",
   "execution_count": 4,
   "id": "accepting-logic",
   "metadata": {},
   "outputs": [
    {
     "data": {
      "text/plain": [
       "1176056"
      ]
     },
     "execution_count": 4,
     "metadata": {},
     "output_type": "execute_result"
    }
   ],
   "source": [
    "len(nullUPC_distributor_summary)"
   ]
  },
  {
   "cell_type": "code",
   "execution_count": 8,
   "id": "failing-invalid",
   "metadata": {},
   "outputs": [
    {
     "data": {
      "text/plain": [
       "LIPMAN BROTHERS 01                   32768\n",
       "LAKESHORE BEVERAGE                   21948\n",
       "BEN E. KEITH BEVERAGES               19515\n",
       "PREMIUM BEVERAGE SUPPLY, LTD.        13546\n",
       "AJAX TURNER                          11199\n",
       "                                     ...  \n",
       "DAVENPORT LIQUOR STORE INC               1\n",
       "ZEN BEE MEADERY                          1\n",
       "TURNING POINT BEER                       1\n",
       "BLACK & GRAY BREWING CO.                 1\n",
       "CHANDLER REACH VINEYARDS & WINERY        1\n",
       "Name: DISTRIBUTOR_NAME, Length: 4293, dtype: int64"
      ]
     },
     "execution_count": 8,
     "metadata": {},
     "output_type": "execute_result"
    }
   ],
   "source": [
    "nullUPC_distributor_summary[\"DISTRIBUTOR_NAME\"].value_counts()"
   ]
  },
  {
   "cell_type": "code",
   "execution_count": null,
   "id": "australian-chemistry",
   "metadata": {},
   "outputs": [],
   "source": []
  }
 ],
 "metadata": {
  "kernelspec": {
   "display_name": "Python 3",
   "language": "python",
   "name": "python3"
  },
  "language_info": {
   "codemirror_mode": {
    "name": "ipython",
    "version": 3
   },
   "file_extension": ".py",
   "mimetype": "text/x-python",
   "name": "python",
   "nbconvert_exporter": "python",
   "pygments_lexer": "ipython3",
   "version": "3.7.3"
  }
 },
 "nbformat": 4,
 "nbformat_minor": 5
}
