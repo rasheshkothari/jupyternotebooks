{
 "cells": [
  {
   "cell_type": "code",
   "execution_count": 1,
   "id": "accredited-tower",
   "metadata": {},
   "outputs": [],
   "source": [
    "import warnings\n",
    "warnings.filterwarnings('ignore')\n",
    "\n",
    "import pandas as pd\n",
    "import numpy as np\n",
    "import matplotlib.pyplot as plt\n",
    "import seaborn as sb\n",
    "from pylab import rcParams\n",
    "import os\n",
    "import re\n",
    "%matplotlib inline\n",
    "\n",
    "# from fuzzywuzzy import fuzz\n",
    "# from fuzzywuzzy import process\n",
    "from rapidfuzz import fuzz, process, utils\n",
    "import jellyfish\n",
    "import snowflake.connector\n",
    "# import torch\n",
    "# from sentence_transformers import SentenceTransformer, util\n",
    "# model = SentenceTransformer('stsb-roberta-large')\n",
    "\n",
    "# Imported the inaugural corpus from nltk.corpus\n",
    "import nltk\n",
    "from nltk.corpus import inaugural\n",
    "from nltk.tokenize import regexp_tokenize\n",
    "from nltk.stem import WordNetLemmatizer\n",
    "from nltk.corpus import stopwords\n",
    "\n",
    "from sklearn.model_selection import train_test_split\n",
    "from sklearn.feature_extraction.text import TfidfVectorizer\n",
    "from sklearn.preprocessing import LabelEncoder\n",
    "\n",
    "import gensim\n",
    "from gensim.utils import simple_preprocess\n",
    "from gensim.utils import simple_preprocess\n",
    "from gensim.models import Word2Vec\n",
    "from gensim.models import TfidfModel\n",
    "from gensim.corpora import Dictionary\n",
    "import num2words\n",
    "from num2words import num2words\n",
    "import time\n",
    "# from time import time\n",
    "\n",
    "pd.options.display.max_colwidth = 10000"
   ]
  },
  {
   "cell_type": "code",
   "execution_count": 2,
   "id": "protective-trick",
   "metadata": {},
   "outputs": [],
   "source": [
    "cnx = snowflake.connector.connect(user='rkothari', password='Fall19@123', account='FF80747.east-us-2.azure', warehouse='DASCI_WH_S', database='FDC_STAGE', schema='DASCI', role='DASCI_DEVELOPER')"
   ]
  },
  {
   "cell_type": "code",
   "execution_count": 24,
   "id": "liquid-labor",
   "metadata": {},
   "outputs": [],
   "source": [
    "# liqor_list = pd.read_sql(q,cnx)"
   ]
  },
  {
   "cell_type": "code",
   "execution_count": 76,
   "id": "twenty-thumbnail",
   "metadata": {},
   "outputs": [],
   "source": [
    "liqor_list = pd.read_csv(\"/home/rkothari/Downloads/mix_match_result.csv\")"
   ]
  },
  {
   "cell_type": "code",
   "execution_count": 77,
   "id": "concerned-converter",
   "metadata": {},
   "outputs": [],
   "source": [
    "# liqor_list[\"STLYE\"].value_counts()"
   ]
  },
  {
   "cell_type": "code",
   "execution_count": 78,
   "id": "hidden-history",
   "metadata": {},
   "outputs": [
    {
     "data": {
      "text/html": [
       "<div>\n",
       "<style scoped>\n",
       "    .dataframe tbody tr th:only-of-type {\n",
       "        vertical-align: middle;\n",
       "    }\n",
       "\n",
       "    .dataframe tbody tr th {\n",
       "        vertical-align: top;\n",
       "    }\n",
       "\n",
       "    .dataframe thead th {\n",
       "        text-align: right;\n",
       "    }\n",
       "</style>\n",
       "<table border=\"1\" class=\"dataframe\">\n",
       "  <thead>\n",
       "    <tr style=\"text-align: right;\">\n",
       "      <th></th>\n",
       "      <th>NUMBER</th>\n",
       "      <th>STYLE_NAME</th>\n",
       "      <th>STLYE</th>\n",
       "      <th>CT</th>\n",
       "    </tr>\n",
       "  </thead>\n",
       "  <tbody>\n",
       "    <tr>\n",
       "      <th>0</th>\n",
       "      <td>1-1</td>\n",
       "      <td>ACAI ACAI</td>\n",
       "      <td>FLAVOR_STYLE WINE_VARIETAL</td>\n",
       "      <td>57</td>\n",
       "    </tr>\n",
       "    <tr>\n",
       "      <th>1</th>\n",
       "      <td>2-1</td>\n",
       "      <td>ACAI ACAI</td>\n",
       "      <td>WINE_VARIETAL WINE_VARIETAL</td>\n",
       "      <td>211</td>\n",
       "    </tr>\n",
       "    <tr>\n",
       "      <th>2</th>\n",
       "      <td>3-1</td>\n",
       "      <td>ADJUNCT LAGER ACAI</td>\n",
       "      <td>BEER_MICRO WINE_VARIETAL</td>\n",
       "      <td>75</td>\n",
       "    </tr>\n",
       "    <tr>\n",
       "      <th>3</th>\n",
       "      <td>4-1</td>\n",
       "      <td>ADVOCAAT ACAI</td>\n",
       "      <td>SPIRITS_BROAD WINE_VARIETAL</td>\n",
       "      <td>13</td>\n",
       "    </tr>\n",
       "    <tr>\n",
       "      <th>4</th>\n",
       "      <td>5-1</td>\n",
       "      <td>AGLIANCO ACAI</td>\n",
       "      <td>WINE_VARIETAL WINE_VARIETAL</td>\n",
       "      <td>211</td>\n",
       "    </tr>\n",
       "    <tr>\n",
       "      <th>...</th>\n",
       "      <td>...</td>\n",
       "      <td>...</td>\n",
       "      <td>...</td>\n",
       "      <td>...</td>\n",
       "    </tr>\n",
       "    <tr>\n",
       "      <th>227524</th>\n",
       "      <td>473-477</td>\n",
       "      <td>WILD BERRY ZWEIGELT</td>\n",
       "      <td>FLAVOR_STYLE WINE_VARIETAL</td>\n",
       "      <td>57</td>\n",
       "    </tr>\n",
       "    <tr>\n",
       "      <th>227525</th>\n",
       "      <td>474-477</td>\n",
       "      <td>WINTER WARMER ZWEIGELT</td>\n",
       "      <td>BEER_MICRO WINE_VARIETAL</td>\n",
       "      <td>75</td>\n",
       "    </tr>\n",
       "    <tr>\n",
       "      <th>227526</th>\n",
       "      <td>475-477</td>\n",
       "      <td>WITBIER ZWEIGELT</td>\n",
       "      <td>BEER_MICRO WINE_VARIETAL</td>\n",
       "      <td>75</td>\n",
       "    </tr>\n",
       "    <tr>\n",
       "      <th>227527</th>\n",
       "      <td>476-477</td>\n",
       "      <td>ZINFANDEL ZWEIGELT</td>\n",
       "      <td>WINE_VARIETAL WINE_VARIETAL</td>\n",
       "      <td>211</td>\n",
       "    </tr>\n",
       "    <tr>\n",
       "      <th>227528</th>\n",
       "      <td>477-477</td>\n",
       "      <td>ZWEIGELT ZWEIGELT</td>\n",
       "      <td>WINE_VARIETAL WINE_VARIETAL</td>\n",
       "      <td>211</td>\n",
       "    </tr>\n",
       "  </tbody>\n",
       "</table>\n",
       "<p>227529 rows × 4 columns</p>\n",
       "</div>"
      ],
      "text/plain": [
       "         NUMBER              STYLE_NAME                        STLYE   CT\n",
       "0           1-1               ACAI ACAI   FLAVOR_STYLE WINE_VARIETAL   57\n",
       "1           2-1               ACAI ACAI  WINE_VARIETAL WINE_VARIETAL  211\n",
       "2           3-1      ADJUNCT LAGER ACAI     BEER_MICRO WINE_VARIETAL   75\n",
       "3           4-1           ADVOCAAT ACAI  SPIRITS_BROAD WINE_VARIETAL   13\n",
       "4           5-1           AGLIANCO ACAI  WINE_VARIETAL WINE_VARIETAL  211\n",
       "...         ...                     ...                          ...  ...\n",
       "227524  473-477     WILD BERRY ZWEIGELT   FLAVOR_STYLE WINE_VARIETAL   57\n",
       "227525  474-477  WINTER WARMER ZWEIGELT     BEER_MICRO WINE_VARIETAL   75\n",
       "227526  475-477        WITBIER ZWEIGELT     BEER_MICRO WINE_VARIETAL   75\n",
       "227527  476-477      ZINFANDEL ZWEIGELT  WINE_VARIETAL WINE_VARIETAL  211\n",
       "227528  477-477       ZWEIGELT ZWEIGELT  WINE_VARIETAL WINE_VARIETAL  211\n",
       "\n",
       "[227529 rows x 4 columns]"
      ]
     },
     "execution_count": 78,
     "metadata": {},
     "output_type": "execute_result"
    }
   ],
   "source": [
    "liqor_list"
   ]
  },
  {
   "cell_type": "code",
   "execution_count": 79,
   "id": "constitutional-canyon",
   "metadata": {},
   "outputs": [],
   "source": [
    "X = liqor_list[[\"NUMBER\",\"STYLE_NAME\",\"STLYE\"]]"
   ]
  },
  {
   "cell_type": "code",
   "execution_count": 80,
   "id": "departmental-ultimate",
   "metadata": {},
   "outputs": [],
   "source": [
    "y = liqor_list[\"CT\"]"
   ]
  },
  {
   "cell_type": "code",
   "execution_count": 81,
   "id": "operating-absence",
   "metadata": {},
   "outputs": [],
   "source": [
    "from sklearn.model_selection import train_test_split"
   ]
  },
  {
   "cell_type": "code",
   "execution_count": 83,
   "id": "comic-cooking",
   "metadata": {},
   "outputs": [],
   "source": [
    "X_train, X_test, y_train, y_test = train_test_split(X, y, test_size=0.65, random_state=42)"
   ]
  },
  {
   "cell_type": "code",
   "execution_count": 85,
   "id": "concrete-seminar",
   "metadata": {},
   "outputs": [
    {
     "data": {
      "text/plain": [
       "79635"
      ]
     },
     "execution_count": 85,
     "metadata": {},
     "output_type": "execute_result"
    }
   ],
   "source": [
    "len(X_train)"
   ]
  },
  {
   "cell_type": "code",
   "execution_count": 86,
   "id": "described-crazy",
   "metadata": {},
   "outputs": [
    {
     "data": {
      "text/plain": [
       "pandas.core.series.Series"
      ]
     },
     "execution_count": 86,
     "metadata": {},
     "output_type": "execute_result"
    }
   ],
   "source": [
    "type(y_train)"
   ]
  },
  {
   "cell_type": "code",
   "execution_count": 87,
   "id": "interested-reaction",
   "metadata": {},
   "outputs": [],
   "source": [
    "X_train[\"CT\"] = pd.DataFrame(y_train)"
   ]
  },
  {
   "cell_type": "code",
   "execution_count": 88,
   "id": "light-ranch",
   "metadata": {},
   "outputs": [
    {
     "data": {
      "text/html": [
       "<div>\n",
       "<style scoped>\n",
       "    .dataframe tbody tr th:only-of-type {\n",
       "        vertical-align: middle;\n",
       "    }\n",
       "\n",
       "    .dataframe tbody tr th {\n",
       "        vertical-align: top;\n",
       "    }\n",
       "\n",
       "    .dataframe thead th {\n",
       "        text-align: right;\n",
       "    }\n",
       "</style>\n",
       "<table border=\"1\" class=\"dataframe\">\n",
       "  <thead>\n",
       "    <tr style=\"text-align: right;\">\n",
       "      <th></th>\n",
       "      <th>NUMBER</th>\n",
       "      <th>STYLE_NAME</th>\n",
       "      <th>STLYE</th>\n",
       "      <th>CT</th>\n",
       "    </tr>\n",
       "  </thead>\n",
       "  <tbody>\n",
       "    <tr>\n",
       "      <th>20301</th>\n",
       "      <td>268-43</td>\n",
       "      <td>MARZEN or OKTOBERFEST BERLINER WEISSE</td>\n",
       "      <td>BEER_MICRO BEER_MICRO</td>\n",
       "      <td>75</td>\n",
       "    </tr>\n",
       "    <tr>\n",
       "      <th>204032</th>\n",
       "      <td>354-428</td>\n",
       "      <td>RIESLING TEMPRANILLO</td>\n",
       "      <td>WINE_VARIETAL WINE_VARIETAL</td>\n",
       "      <td>211</td>\n",
       "    </tr>\n",
       "    <tr>\n",
       "      <th>136267</th>\n",
       "      <td>323-286</td>\n",
       "      <td>PILSNER or PILSENER MUSCADET</td>\n",
       "      <td>BEER_MICRO WINE_VARIETAL</td>\n",
       "      <td>75</td>\n",
       "    </tr>\n",
       "    <tr>\n",
       "      <th>171300</th>\n",
       "      <td>58-360</td>\n",
       "      <td>BLENDED LIGHT WHISKY ROCK AND RYE</td>\n",
       "      <td>SPIRITS_TYPE SPIRITS_TYPE</td>\n",
       "      <td>77</td>\n",
       "    </tr>\n",
       "    <tr>\n",
       "      <th>18219</th>\n",
       "      <td>94-39</td>\n",
       "      <td>CHAMPAGNE BAROLO</td>\n",
       "      <td>WINE_VARIETAL WINE_VARIETAL</td>\n",
       "      <td>211</td>\n",
       "    </tr>\n",
       "    <tr>\n",
       "      <th>...</th>\n",
       "      <td>...</td>\n",
       "      <td>...</td>\n",
       "      <td>...</td>\n",
       "      <td>...</td>\n",
       "    </tr>\n",
       "    <tr>\n",
       "      <th>119879</th>\n",
       "      <td>153-252</td>\n",
       "      <td>EISBOCK MAGNOLIA</td>\n",
       "      <td>BEER_MICRO WINE_VARIETAL</td>\n",
       "      <td>75</td>\n",
       "    </tr>\n",
       "    <tr>\n",
       "      <th>103694</th>\n",
       "      <td>186-218</td>\n",
       "      <td>GREEN HUNGARIAN KIRSCHWASSER</td>\n",
       "      <td>WINE_VARIETAL SPIRITS_TYPE</td>\n",
       "      <td>211</td>\n",
       "    </tr>\n",
       "    <tr>\n",
       "      <th>131932</th>\n",
       "      <td>281-277</td>\n",
       "      <td>MONTEPULCIANO MILD ALE</td>\n",
       "      <td>WINE_VARIETAL BEER_MICRO</td>\n",
       "      <td>211</td>\n",
       "    </tr>\n",
       "    <tr>\n",
       "      <th>146867</th>\n",
       "      <td>429-308</td>\n",
       "      <td>TEQUILA ORTEGA</td>\n",
       "      <td>SPIRITS_BROAD WINE_VARIETAL</td>\n",
       "      <td>13</td>\n",
       "    </tr>\n",
       "    <tr>\n",
       "      <th>121958</th>\n",
       "      <td>324-256</td>\n",
       "      <td>PINEAPPLE MALT WHISKY</td>\n",
       "      <td>FLAVOR_STYLE SPIRITS_TYPE</td>\n",
       "      <td>57</td>\n",
       "    </tr>\n",
       "  </tbody>\n",
       "</table>\n",
       "<p>79635 rows × 4 columns</p>\n",
       "</div>"
      ],
      "text/plain": [
       "         NUMBER                             STYLE_NAME  \\\n",
       "20301    268-43  MARZEN or OKTOBERFEST BERLINER WEISSE   \n",
       "204032  354-428                   RIESLING TEMPRANILLO   \n",
       "136267  323-286           PILSNER or PILSENER MUSCADET   \n",
       "171300   58-360      BLENDED LIGHT WHISKY ROCK AND RYE   \n",
       "18219     94-39                       CHAMPAGNE BAROLO   \n",
       "...         ...                                    ...   \n",
       "119879  153-252                       EISBOCK MAGNOLIA   \n",
       "103694  186-218           GREEN HUNGARIAN KIRSCHWASSER   \n",
       "131932  281-277                 MONTEPULCIANO MILD ALE   \n",
       "146867  429-308                         TEQUILA ORTEGA   \n",
       "121958  324-256                  PINEAPPLE MALT WHISKY   \n",
       "\n",
       "                              STLYE   CT  \n",
       "20301         BEER_MICRO BEER_MICRO   75  \n",
       "204032  WINE_VARIETAL WINE_VARIETAL  211  \n",
       "136267     BEER_MICRO WINE_VARIETAL   75  \n",
       "171300    SPIRITS_TYPE SPIRITS_TYPE   77  \n",
       "18219   WINE_VARIETAL WINE_VARIETAL  211  \n",
       "...                             ...  ...  \n",
       "119879     BEER_MICRO WINE_VARIETAL   75  \n",
       "103694   WINE_VARIETAL SPIRITS_TYPE  211  \n",
       "131932     WINE_VARIETAL BEER_MICRO  211  \n",
       "146867  SPIRITS_BROAD WINE_VARIETAL   13  \n",
       "121958    FLAVOR_STYLE SPIRITS_TYPE   57  \n",
       "\n",
       "[79635 rows x 4 columns]"
      ]
     },
     "execution_count": 88,
     "metadata": {},
     "output_type": "execute_result"
    }
   ],
   "source": [
    "X_train"
   ]
  },
  {
   "cell_type": "code",
   "execution_count": 89,
   "id": "infectious-opinion",
   "metadata": {},
   "outputs": [],
   "source": [
    "X_train.to_csv(\"~/Downloads/mix_match_subset.csv\")"
   ]
  },
  {
   "cell_type": "code",
   "execution_count": null,
   "id": "extreme-constraint",
   "metadata": {},
   "outputs": [],
   "source": []
  }
 ],
 "metadata": {
  "kernelspec": {
   "display_name": "Python 3",
   "language": "python",
   "name": "python3"
  },
  "language_info": {
   "codemirror_mode": {
    "name": "ipython",
    "version": 3
   },
   "file_extension": ".py",
   "mimetype": "text/x-python",
   "name": "python",
   "nbconvert_exporter": "python",
   "pygments_lexer": "ipython3",
   "version": "3.7.3"
  }
 },
 "nbformat": 4,
 "nbformat_minor": 5
}
