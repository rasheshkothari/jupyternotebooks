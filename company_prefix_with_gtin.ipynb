{
 "cells": [
  {
   "cell_type": "code",
   "execution_count": 2,
   "id": "reserved-cooler",
   "metadata": {},
   "outputs": [],
   "source": [
    "import pandas as pd\n",
    "import numpy as np\n",
    "import snowflake.connector\n",
    "import time"
   ]
  },
  {
   "cell_type": "code",
   "execution_count": 2,
   "id": "legendary-prayer",
   "metadata": {},
   "outputs": [],
   "source": [
    "matched_list_with_temp_table = pd.read_csv('~/Downloads/matched_list.csv' , dtype = 'str')"
   ]
  },
  {
   "cell_type": "markdown",
   "id": "pacific-moscow",
   "metadata": {},
   "source": [
    "SELECT GS1_COMPANY_PREFIX,GS1_COMPANY_NAME, COUNT(DISTINCT PRODUCT_MASTER_CATALOG_KEY)\n",
    "FROM FDC_STAGE.DASCI.PRODUCT_MASTER_CATALOG p\n",
    "JOIN FDC_STAGE.DASCI.PRODUCT_MASTER_CATALOG_MAPPED_TEMP pt on pt.GTIN = p.GTIN\n",
    "GROUP BY GS1_COMPANY_PREFIX,GS1_COMPANY_NAME\n",
    "ORDER BY COUNT(DISTINCT PRODUCT_MASTER_CATALOG_KEY) DESC"
   ]
  },
  {
   "cell_type": "code",
   "execution_count": 3,
   "id": "thorough-indonesian",
   "metadata": {},
   "outputs": [
    {
     "data": {
      "text/html": [
       "<div>\n",
       "<style scoped>\n",
       "    .dataframe tbody tr th:only-of-type {\n",
       "        vertical-align: middle;\n",
       "    }\n",
       "\n",
       "    .dataframe tbody tr th {\n",
       "        vertical-align: top;\n",
       "    }\n",
       "\n",
       "    .dataframe thead th {\n",
       "        text-align: right;\n",
       "    }\n",
       "</style>\n",
       "<table border=\"1\" class=\"dataframe\">\n",
       "  <thead>\n",
       "    <tr style=\"text-align: right;\">\n",
       "      <th></th>\n",
       "      <th>GS1_COMPANY_PREFIX</th>\n",
       "      <th>GS1_COMPANY_NAME</th>\n",
       "      <th>COUNT(DISTINCT PRODUCT_MASTER_CATALOG_KEY)</th>\n",
       "    </tr>\n",
       "  </thead>\n",
       "  <tbody>\n",
       "    <tr>\n",
       "      <th>0</th>\n",
       "      <td>0080686</td>\n",
       "      <td>JIM BEAM BRANDS CO</td>\n",
       "      <td>1345</td>\n",
       "    </tr>\n",
       "    <tr>\n",
       "      <th>1</th>\n",
       "      <td>0018200</td>\n",
       "      <td>ANHEUSER-BUSCH INBEV</td>\n",
       "      <td>1196</td>\n",
       "    </tr>\n",
       "    <tr>\n",
       "      <th>2</th>\n",
       "      <td>0085000</td>\n",
       "      <td>E &amp; J GALLO WINERY INC.</td>\n",
       "      <td>916</td>\n",
       "    </tr>\n",
       "    <tr>\n",
       "      <th>3</th>\n",
       "      <td>0087692</td>\n",
       "      <td>BOSTON BEER CORPORATION</td>\n",
       "      <td>724</td>\n",
       "    </tr>\n",
       "    <tr>\n",
       "      <th>4</th>\n",
       "      <td>0096749</td>\n",
       "      <td>HEAVEN HILL DISTILLERIES INC.</td>\n",
       "      <td>565</td>\n",
       "    </tr>\n",
       "    <tr>\n",
       "      <th>...</th>\n",
       "      <td>...</td>\n",
       "      <td>...</td>\n",
       "      <td>...</td>\n",
       "    </tr>\n",
       "    <tr>\n",
       "      <th>4081</th>\n",
       "      <td>08663560001</td>\n",
       "      <td>THE SPIRIT GUILD LLC</td>\n",
       "      <td>1</td>\n",
       "    </tr>\n",
       "    <tr>\n",
       "      <th>4082</th>\n",
       "      <td>0896307002</td>\n",
       "      <td>CAMPBELL IMPORTS INC.</td>\n",
       "      <td>1</td>\n",
       "    </tr>\n",
       "    <tr>\n",
       "      <th>4083</th>\n",
       "      <td>0721512</td>\n",
       "      <td>FREY VINEYARDS LTD.</td>\n",
       "      <td>1</td>\n",
       "    </tr>\n",
       "    <tr>\n",
       "      <th>4084</th>\n",
       "      <td>08620690002</td>\n",
       "      <td>CAMPBELL LANE VENTURES LLC</td>\n",
       "      <td>1</td>\n",
       "    </tr>\n",
       "    <tr>\n",
       "      <th>4085</th>\n",
       "      <td>08600063183</td>\n",
       "      <td>OBP LLC</td>\n",
       "      <td>1</td>\n",
       "    </tr>\n",
       "  </tbody>\n",
       "</table>\n",
       "<p>4086 rows × 3 columns</p>\n",
       "</div>"
      ],
      "text/plain": [
       "     GS1_COMPANY_PREFIX               GS1_COMPANY_NAME  \\\n",
       "0               0080686             JIM BEAM BRANDS CO   \n",
       "1               0018200           ANHEUSER-BUSCH INBEV   \n",
       "2               0085000        E & J GALLO WINERY INC.   \n",
       "3               0087692        BOSTON BEER CORPORATION   \n",
       "4               0096749  HEAVEN HILL DISTILLERIES INC.   \n",
       "...                 ...                            ...   \n",
       "4081        08663560001           THE SPIRIT GUILD LLC   \n",
       "4082         0896307002          CAMPBELL IMPORTS INC.   \n",
       "4083            0721512            FREY VINEYARDS LTD.   \n",
       "4084        08620690002     CAMPBELL LANE VENTURES LLC   \n",
       "4085        08600063183                        OBP LLC   \n",
       "\n",
       "     COUNT(DISTINCT PRODUCT_MASTER_CATALOG_KEY)  \n",
       "0                                          1345  \n",
       "1                                          1196  \n",
       "2                                           916  \n",
       "3                                           724  \n",
       "4                                           565  \n",
       "...                                         ...  \n",
       "4081                                          1  \n",
       "4082                                          1  \n",
       "4083                                          1  \n",
       "4084                                          1  \n",
       "4085                                          1  \n",
       "\n",
       "[4086 rows x 3 columns]"
      ]
     },
     "execution_count": 3,
     "metadata": {},
     "output_type": "execute_result"
    }
   ],
   "source": [
    "matched_list_with_temp_table"
   ]
  },
  {
   "cell_type": "code",
   "execution_count": null,
   "id": "sublime-commander",
   "metadata": {},
   "outputs": [],
   "source": []
  },
  {
   "cell_type": "code",
   "execution_count": 4,
   "id": "fiscal-third",
   "metadata": {},
   "outputs": [],
   "source": [
    "company_prefix_name = pd.read_csv('~/Downloads/company_prefix_name.csv', dtype = 'str')"
   ]
  },
  {
   "cell_type": "code",
   "execution_count": 14,
   "id": "electronic-organ",
   "metadata": {},
   "outputs": [
    {
     "data": {
      "text/plain": [
       "9050"
      ]
     },
     "execution_count": 14,
     "metadata": {},
     "output_type": "execute_result"
    }
   ],
   "source": [
    "len(company_prefix_name)"
   ]
  },
  {
   "cell_type": "code",
   "execution_count": 11,
   "id": "freelance-layer",
   "metadata": {},
   "outputs": [],
   "source": [
    "unmatched = company_prefix_name[~company_prefix_name['GS1_COMPANY_PREFIX'].isin(matched_list_with_temp_table['GS1_COMPANY_PREFIX'])]"
   ]
  },
  {
   "cell_type": "code",
   "execution_count": 16,
   "id": "geological-dubai",
   "metadata": {},
   "outputs": [
    {
     "data": {
      "text/plain": [
       "4752"
      ]
     },
     "execution_count": 16,
     "metadata": {},
     "output_type": "execute_result"
    }
   ],
   "source": [
    "len(unmatched)"
   ]
  },
  {
   "cell_type": "code",
   "execution_count": 6,
   "id": "continuous-tract",
   "metadata": {},
   "outputs": [
    {
     "data": {
      "text/html": [
       "<div>\n",
       "<style scoped>\n",
       "    .dataframe tbody tr th:only-of-type {\n",
       "        vertical-align: middle;\n",
       "    }\n",
       "\n",
       "    .dataframe tbody tr th {\n",
       "        vertical-align: top;\n",
       "    }\n",
       "\n",
       "    .dataframe thead th {\n",
       "        text-align: right;\n",
       "    }\n",
       "</style>\n",
       "<table border=\"1\" class=\"dataframe\">\n",
       "  <thead>\n",
       "    <tr style=\"text-align: right;\">\n",
       "      <th></th>\n",
       "      <th>INVOICE_UPC_CASE</th>\n",
       "    </tr>\n",
       "  </thead>\n",
       "  <tbody>\n",
       "    <tr>\n",
       "      <th>0</th>\n",
       "      <td>00819902020104</td>\n",
       "    </tr>\n",
       "    <tr>\n",
       "      <th>1</th>\n",
       "      <td>00034100007812</td>\n",
       "    </tr>\n",
       "    <tr>\n",
       "      <th>2</th>\n",
       "      <td>00071990300173</td>\n",
       "    </tr>\n",
       "    <tr>\n",
       "      <th>3</th>\n",
       "      <td>00080660956190</td>\n",
       "    </tr>\n",
       "    <tr>\n",
       "      <th>4</th>\n",
       "      <td>00018200286117</td>\n",
       "    </tr>\n",
       "    <tr>\n",
       "      <th>...</th>\n",
       "      <td>...</td>\n",
       "    </tr>\n",
       "    <tr>\n",
       "      <th>370259</th>\n",
       "      <td>848169005913</td>\n",
       "    </tr>\n",
       "    <tr>\n",
       "      <th>370260</th>\n",
       "      <td>083089531358</td>\n",
       "    </tr>\n",
       "    <tr>\n",
       "      <th>370261</th>\n",
       "      <td>1085672400602</td>\n",
       "    </tr>\n",
       "    <tr>\n",
       "      <th>370262</th>\n",
       "      <td>81675022006</td>\n",
       "    </tr>\n",
       "    <tr>\n",
       "      <th>370263</th>\n",
       "      <td>89440900020</td>\n",
       "    </tr>\n",
       "  </tbody>\n",
       "</table>\n",
       "<p>370264 rows × 1 columns</p>\n",
       "</div>"
      ],
      "text/plain": [
       "       INVOICE_UPC_CASE\n",
       "0        00819902020104\n",
       "1        00034100007812\n",
       "2        00071990300173\n",
       "3        00080660956190\n",
       "4        00018200286117\n",
       "...                 ...\n",
       "370259     848169005913\n",
       "370260     083089531358\n",
       "370261    1085672400602\n",
       "370262      81675022006\n",
       "370263      89440900020\n",
       "\n",
       "[370264 rows x 1 columns]"
      ]
     },
     "execution_count": 6,
     "metadata": {},
     "output_type": "execute_result"
    }
   ],
   "source": [
    "listofUPC_gt10 = pd.read_csv('~/Downloads/listofUPC_gt10.csv', dtype = 'str')\n",
    "listofUPC_gt10"
   ]
  },
  {
   "cell_type": "code",
   "execution_count": 17,
   "id": "sacred-heaven",
   "metadata": {},
   "outputs": [
    {
     "data": {
      "text/plain": [
       "GS1_COMPANY_PREFIX    0\n",
       "GS1_COMPANY_NAME      0\n",
       "dtype: int64"
      ]
     },
     "execution_count": 17,
     "metadata": {},
     "output_type": "execute_result"
    }
   ],
   "source": [
    "unmatched.isna().sum()"
   ]
  },
  {
   "cell_type": "code",
   "execution_count": 18,
   "id": "israeli-republican",
   "metadata": {},
   "outputs": [
    {
     "name": "stderr",
     "output_type": "stream",
     "text": [
      "/usr/local/lib/python3.7/dist-packages/ipykernel_launcher.py:1: SettingWithCopyWarning: \n",
      "A value is trying to be set on a copy of a slice from a DataFrame\n",
      "\n",
      "See the caveats in the documentation: https://pandas.pydata.org/pandas-docs/stable/user_guide/indexing.html#returning-a-view-versus-a-copy\n",
      "  \"\"\"Entry point for launching an IPython kernel.\n"
     ]
    }
   ],
   "source": [
    "unmatched.dropna(inplace=True)"
   ]
  },
  {
   "cell_type": "markdown",
   "id": "comic-taylor",
   "metadata": {},
   "source": [
    "Comparing unmatched list with listofUPC."
   ]
  },
  {
   "cell_type": "code",
   "execution_count": 19,
   "id": "labeled-philippines",
   "metadata": {},
   "outputs": [],
   "source": [
    "unmatched_list_of_temp_tables = []\n",
    "\n",
    "for i in unmatched['GS1_COMPANY_PREFIX']:\n",
    "    for j in listofUPC_gt10['INVOICE_UPC_CASE']:\n",
    "        if i.strip(\"0\")[:7] == j.strip(\"0\")[:7] and i not in unmatched_list_of_temp_tables:\n",
    "            unmatched_list_of_temp_tables.append(i)\n"
   ]
  },
  {
   "cell_type": "code",
   "execution_count": 30,
   "id": "spoken-calvin",
   "metadata": {},
   "outputs": [
    {
     "data": {
      "text/html": [
       "<div>\n",
       "<style scoped>\n",
       "    .dataframe tbody tr th:only-of-type {\n",
       "        vertical-align: middle;\n",
       "    }\n",
       "\n",
       "    .dataframe tbody tr th {\n",
       "        vertical-align: top;\n",
       "    }\n",
       "\n",
       "    .dataframe thead th {\n",
       "        text-align: right;\n",
       "    }\n",
       "</style>\n",
       "<table border=\"1\" class=\"dataframe\">\n",
       "  <thead>\n",
       "    <tr style=\"text-align: right;\">\n",
       "      <th></th>\n",
       "      <th>GS1_COMPANY_PREFIX</th>\n",
       "    </tr>\n",
       "  </thead>\n",
       "  <tbody>\n",
       "    <tr>\n",
       "      <th>0</th>\n",
       "      <td>08600036349</td>\n",
       "    </tr>\n",
       "    <tr>\n",
       "      <th>1</th>\n",
       "      <td>08600007186</td>\n",
       "    </tr>\n",
       "    <tr>\n",
       "      <th>2</th>\n",
       "      <td>0852882007</td>\n",
       "    </tr>\n",
       "    <tr>\n",
       "      <th>3</th>\n",
       "      <td>0850012046</td>\n",
       "    </tr>\n",
       "    <tr>\n",
       "      <th>4</th>\n",
       "      <td>08600033403</td>\n",
       "    </tr>\n",
       "    <tr>\n",
       "      <th>...</th>\n",
       "      <td>...</td>\n",
       "    </tr>\n",
       "    <tr>\n",
       "      <th>2588</th>\n",
       "      <td>803266513</td>\n",
       "    </tr>\n",
       "    <tr>\n",
       "      <th>2589</th>\n",
       "      <td>803277162</td>\n",
       "    </tr>\n",
       "    <tr>\n",
       "      <th>2590</th>\n",
       "      <td>8437008073</td>\n",
       "    </tr>\n",
       "    <tr>\n",
       "      <th>2591</th>\n",
       "      <td>08600010887</td>\n",
       "    </tr>\n",
       "    <tr>\n",
       "      <th>2592</th>\n",
       "      <td>0085800</td>\n",
       "    </tr>\n",
       "  </tbody>\n",
       "</table>\n",
       "<p>2593 rows × 1 columns</p>\n",
       "</div>"
      ],
      "text/plain": [
       "     GS1_COMPANY_PREFIX\n",
       "0           08600036349\n",
       "1           08600007186\n",
       "2            0852882007\n",
       "3            0850012046\n",
       "4           08600033403\n",
       "...                 ...\n",
       "2588          803266513\n",
       "2589          803277162\n",
       "2590         8437008073\n",
       "2591        08600010887\n",
       "2592            0085800\n",
       "\n",
       "[2593 rows x 1 columns]"
      ]
     },
     "execution_count": 30,
     "metadata": {},
     "output_type": "execute_result"
    }
   ],
   "source": [
    "unmatched_list_of_temp_tables_df = pd.DataFrame(unmatched_list_of_temp_tables,columns = ['GS1_COMPANY_PREFIX'])\n",
    "unmatched_list_of_temp_tables_df"
   ]
  },
  {
   "cell_type": "code",
   "execution_count": 31,
   "id": "million-porcelain",
   "metadata": {},
   "outputs": [],
   "source": [
    "unmatced_to_matched = unmatched_list_of_temp_tables_df[unmatched_list_of_temp_tables_df['GS1_COMPANY_PREFIX'].isin(matched_list_with_temp_table['GS1_COMPANY_PREFIX'])]"
   ]
  },
  {
   "cell_type": "code",
   "execution_count": 67,
   "id": "brutal-musical",
   "metadata": {},
   "outputs": [],
   "source": [
    "unmatched_list_of_temp_tables_df.dropna(inplace = True)\n",
    "matched_list_with_temp_table.dropna(inplace = True)"
   ]
  },
  {
   "cell_type": "code",
   "execution_count": 71,
   "id": "published-memphis",
   "metadata": {},
   "outputs": [],
   "source": [
    "unmatced_to_matched_list = []\n",
    "\n",
    "for i in unmatched_list_of_temp_tables_df['GS1_COMPANY_PREFIX']:\n",
    "    iiii = i[:8]\n",
    "    for j in matched_list_with_temp_table['GS1_COMPANY_PREFIX']:\n",
    "        jjjj = j[:8]\n",
    "        if iiii == jjjj and i not in unmatced_to_matched_list:\n",
    "            unmatced_to_matched_list.append(i)\n"
   ]
  },
  {
   "cell_type": "code",
   "execution_count": 72,
   "id": "honey-blame",
   "metadata": {},
   "outputs": [
    {
     "data": {
      "text/plain": [
       "2211"
      ]
     },
     "execution_count": 72,
     "metadata": {},
     "output_type": "execute_result"
    }
   ],
   "source": [
    "len(unmatced_to_matched_list)"
   ]
  },
  {
   "cell_type": "code",
   "execution_count": null,
   "id": "attractive-petite",
   "metadata": {},
   "outputs": [],
   "source": [
    "\n",
    "cnx = snowflake.connector.connect(user='rkothari', password='Fall19@123', account='FF80747.east-us-2.azure', warehouse='DASCI_WH_XS', database='FDC_STAGE', schema='DASCI', role='DASCI_DEVELOPER')\n",
    "\n",
    "con = cnx.cursor()\n",
    "\n",
    "select_query = f'''select * from  FDC_STAGE.DASCI.PRODUCT_MASTER_CATALOG_MAPPED_TEMP '''\n",
    "results = con.execute(select_query)\n",
    "PRODUCT_MASTER_CATALOG_MAPPED_TEMP = pd.DataFrame.from_records(iter(results), columns=[y[0] for y in results.description])\n",
    "\n",
    "\n",
    "    \n",
    "\n",
    "con.close()\n",
    "\n"
   ]
  },
  {
   "cell_type": "code",
   "execution_count": null,
   "id": "included-formula",
   "metadata": {},
   "outputs": [],
   "source": []
  }
 ],
 "metadata": {
  "kernelspec": {
   "display_name": "Python 3",
   "language": "python",
   "name": "python3"
  },
  "language_info": {
   "codemirror_mode": {
    "name": "ipython",
    "version": 3
   },
   "file_extension": ".py",
   "mimetype": "text/x-python",
   "name": "python",
   "nbconvert_exporter": "python",
   "pygments_lexer": "ipython3",
   "version": "3.7.3"
  }
 },
 "nbformat": 4,
 "nbformat_minor": 5
}
