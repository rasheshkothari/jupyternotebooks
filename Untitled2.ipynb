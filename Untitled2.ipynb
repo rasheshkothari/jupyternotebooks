{
 "cells": [
  {
   "cell_type": "code",
   "execution_count": 1,
   "id": "forced-graham",
   "metadata": {},
   "outputs": [],
   "source": [
    "import warnings\n",
    "warnings.filterwarnings('ignore')\n",
    "\n",
    "import pandas as pd\n",
    "import numpy as np\n",
    "import matplotlib.pyplot as plt\n",
    "import seaborn as sb\n",
    "from pylab import rcParams\n",
    "import os\n",
    "import re\n",
    "%matplotlib inline\n",
    "\n",
    "# from fuzzywuzzy import fuzz\n",
    "# from fuzzywuzzy import process\n",
    "from rapidfuzz import fuzz,process, utils\n",
    "\n",
    "import jellyfish\n",
    "import snowflake.connector\n",
    "\n",
    "\n",
    "# import torch\n",
    "# from sentence_transformers import SentenceTransformer, util\n",
    "# model = SentenceTransformer('stsb-roberta-large')\n",
    "\n",
    "# Imported the inaugural corpus from nltk.corpus\n",
    "import nltk\n",
    "from nltk.corpus import inaugural\n",
    "from nltk.tokenize import regexp_tokenize\n",
    "from nltk.stem import WordNetLemmatizer\n",
    "from nltk.corpus import stopwords\n",
    "\n",
    "from sklearn.model_selection import train_test_split\n",
    "from sklearn.feature_extraction.text import TfidfVectorizer\n",
    "from sklearn.preprocessing import LabelEncoder\n",
    "\n",
    "import gensim\n",
    "from gensim.utils import simple_preprocess\n",
    "from gensim.utils import simple_preprocess\n",
    "from gensim.models import Word2Vec\n",
    "from gensim.models import TfidfModel\n",
    "from gensim.corpora import Dictionary\n",
    "import num2words\n",
    "from num2words import num2words\n",
    "import time\n",
    "# from time import time\n",
    "\n",
    "pd.options.display.max_colwidth = 10000\n",
    "import warnings\n",
    "warnings.filterwarnings('ignore')\n",
    "pd.set_option('display.max_rows', None)"
   ]
  },
  {
   "cell_type": "code",
   "execution_count": 2,
   "id": "comparative-mitchell",
   "metadata": {},
   "outputs": [],
   "source": [
    "cnx = snowflake.connector.connect(user='rkothari', password='Fall19@123', account='FF80747.east-us-2.azure', warehouse='DASCI_WH_XS', database='FDC_STAGE', schema='DASCI', role='DASCI_DEVELOPER')\n"
   ]
  },
  {
   "cell_type": "code",
   "execution_count": null,
   "id": "ceramic-resident",
   "metadata": {},
   "outputs": [],
   "source": [
    "# mapped_query = \"\"\"SELECT DISTINCT PRODUCT_MASTER_CATALOG_KEY, PRODUCT_DESCRIPTION \n",
    "#                     FROM PRODUCT_MASTER_CATALOG_MAPPED_TEMP\"\"\"\n"
   ]
  },
  {
   "cell_type": "code",
   "execution_count": null,
   "id": "electronic-mobility",
   "metadata": {},
   "outputs": [],
   "source": [
    "# noupc_query = \"\"\"SELECT DISTINCT INVOICE_PACKAGE_DESCRIPTION, AVG(INVOICE_ITEM_TOTAL_PRICE), COUNT(INVOICE_PACKAGE_DESCRIPTION) FROM FDC_PROD_LIVE.FDC02.ENTITY_INVOICE\n",
    "#             WHERE len(INVOICE_UPC_CASE) < 10 and INVOICE_DATE > '2020-01-01' and INVOICE_PACKAGE_DESCRIPTION not in (SELECT INVOICE_PACKAGE_DESCRIPTION FROM DASCI.INVOICE_NONPRODUCT_FILTER)\n",
    "#             GROUP BY INVOICE_PACKAGE_DESCRIPTION\n",
    "#             ORDER BY COUNT(INVOICE_PACKAGE_DESCRIPTION) DESC\"\"\"\n"
   ]
  },
  {
   "cell_type": "code",
   "execution_count": null,
   "id": "choice-trunk",
   "metadata": {},
   "outputs": [],
   "source": [
    "# mapped = pd.read_sql(mapped_query,cnx)\n",
    "# noupc = pd.read_sql(noupc_query,cnx)\n",
    " "
   ]
  },
  {
   "cell_type": "code",
   "execution_count": 3,
   "id": "operational-hamilton",
   "metadata": {},
   "outputs": [],
   "source": [
    "mapped = pd.read_csv('~/Downloads/mapped.csv', sep=',')"
   ]
  },
  {
   "cell_type": "code",
   "execution_count": 4,
   "id": "invisible-interval",
   "metadata": {},
   "outputs": [],
   "source": [
    "noupc = pd.read_csv('~/Downloads/noupc.csv', sep=',')"
   ]
  },
  {
   "cell_type": "code",
   "execution_count": null,
   "id": "higher-screw",
   "metadata": {},
   "outputs": [],
   "source": [
    "# query = '''SELECT DISTINCT p7.PRODUCT_MASTER_CATALOG_KEY, i7.INVOICE_UPC_CASE, i7.INVOICE_ITEM_FTS_ID, p7.GTIN_12_UPC, p7.GTIN, p7.PRODUCT_DESCRIPTION, i7.INVOICE_UPC_PACK\n",
    "#     FROM FDC_PROD_LIVE.FDC02.ENTITY_INVOICE i7\n",
    "#     JOIN PRODUCT_MASTER_CATALOG p7 on LEFT(p7.GTIN_12_UPC,10) = i7.INVOICE_UPC_CASE\n",
    "#     WHERE i7.INVOICE_DATE >= '2020-01-01' and LEN(i7.INVOICE_UPC_CASE) = 10 and INVOICE_ITEM_TOTAL_PRICE > 0\n",
    "#         and i7.INVOICE_PACKAGE_DESCRIPTION not in (SELECT INVOICE_PACKAGE_DESCRIPTION FROM INVOICE_NONPRODUCT_FILTER)\n",
    "#     UNION\n",
    "#     SELECT DISTINCT p8.PRODUCT_MASTER_CATALOG_KEY, i8.INVOICE_UPC_CASE, i8.INVOICE_ITEM_FTS_ID, p8.GTIN_12_UPC, p8.GTIN, p8.PRODUCT_DESCRIPTION, i8.INVOICE_UPC_PACK\n",
    "#     FROM FDC_PROD_LIVE.FDC02.ENTITY_INVOICE i8\n",
    "#     JOIN PRODUCT_MASTER_CATALOG p8 on RIGHT(p8.GTIN_12_UPC,10) = i8.INVOICE_UPC_CASE\n",
    "#     WHERE i8.INVOICE_DATE >= '2020-01-01' and LEN(i8.INVOICE_UPC_CASE) = 10 and INVOICE_ITEM_TOTAL_PRICE > 0\n",
    "#         and i8.INVOICE_PACKAGE_DESCRIPTION not in (SELECT INVOICE_PACKAGE_DESCRIPTION FROM INVOICE_NONPRODUCT_FILTER)'''"
   ]
  },
  {
   "cell_type": "code",
   "execution_count": null,
   "id": "limited-discretion",
   "metadata": {},
   "outputs": [],
   "source": [
    "# query2 = '''SELECT DISTINCT p7.PRODUCT_MASTER_CATALOG_KEY, i7.INVOICE_UPC_CASE,  p7.GTIN_12_UPC, p7.GTIN, p7.PRODUCT_DESCRIPTION, i7.INVOICE_UPC_PACK\n",
    "#     FROM FDC_PROD_LIVE.FDC02.ENTITY_INVOICE i7\n",
    "#     JOIN PRODUCT_MASTER_CATALOG p7 on LEFT(p7.GTIN_12_UPC,10) = i7.INVOICE_UPC_CASE\n",
    "#     WHERE i7.INVOICE_DATE >= '2020-01-01' and LEN(i7.INVOICE_UPC_CASE) = 10 and INVOICE_ITEM_TOTAL_PRICE > 0\n",
    "#         and i7.INVOICE_PACKAGE_DESCRIPTION not in (SELECT INVOICE_PACKAGE_DESCRIPTION FROM INVOICE_NONPRODUCT_FILTER)\n",
    "#     UNION\n",
    "#     SELECT DISTINCT p8.PRODUCT_MASTER_CATALOG_KEY, i8.INVOICE_UPC_CASE,  p8.GTIN_12_UPC, p8.GTIN, p8.PRODUCT_DESCRIPTION, i8.INVOICE_UPC_PACK\n",
    "#     FROM FDC_PROD_LIVE.FDC02.ENTITY_INVOICE i8\n",
    "#     JOIN PRODUCT_MASTER_CATALOG p8 on RIGHT(p8.GTIN_12_UPC,10) = i8.INVOICE_UPC_CASE\n",
    "#     WHERE i8.INVOICE_DATE >= '2020-01-01' and LEN(i8.INVOICE_UPC_CASE) = 10 and INVOICE_ITEM_TOTAL_PRICE > 0\n",
    "#         and i8.INVOICE_PACKAGE_DESCRIPTION not in (SELECT INVOICE_PACKAGE_DESCRIPTION FROM INVOICE_NONPRODUCT_FILTER)'''"
   ]
  },
  {
   "cell_type": "code",
   "execution_count": null,
   "id": "paperback-assumption",
   "metadata": {},
   "outputs": [],
   "source": [
    "# len10 = pd.read_sql(query, cnx)"
   ]
  },
  {
   "cell_type": "code",
   "execution_count": null,
   "id": "extraordinary-evidence",
   "metadata": {},
   "outputs": [],
   "source": [
    "# len10_2 = pd.read_sql(query2, cnx)"
   ]
  },
  {
   "cell_type": "code",
   "execution_count": null,
   "id": "cooperative-allowance",
   "metadata": {},
   "outputs": [],
   "source": [
    "len(len10) #total 1.8 millon"
   ]
  },
  {
   "cell_type": "code",
   "execution_count": null,
   "id": "disabled-daisy",
   "metadata": {},
   "outputs": [],
   "source": [
    "print(len(len10_2))   #Total: "
   ]
  },
  {
   "cell_type": "code",
   "execution_count": null,
   "id": "boring-conducting",
   "metadata": {},
   "outputs": [],
   "source": [
    "sameupc = len10_2.loc[(len10_2['INVOICE_UPC_CASE'] == len10_2['INVOICE_UPC_PACK'])]\n"
   ]
  },
  {
   "cell_type": "code",
   "execution_count": null,
   "id": "digital-phoenix",
   "metadata": {},
   "outputs": [],
   "source": [
    "len(sameupc)"
   ]
  },
  {
   "cell_type": "code",
   "execution_count": null,
   "id": "driven-excerpt",
   "metadata": {},
   "outputs": [],
   "source": [
    "diffupc2 = len10_2.loc[(len10_2['INVOICE_UPC_CASE'] != len10_2['INVOICE_UPC_PACK'])]"
   ]
  },
  {
   "cell_type": "code",
   "execution_count": null,
   "id": "north-railway",
   "metadata": {},
   "outputs": [],
   "source": [
    "len(diffupc2)"
   ]
  },
  {
   "cell_type": "code",
   "execution_count": null,
   "id": "million-philadelphia",
   "metadata": {},
   "outputs": [],
   "source": [
    "samewith_omit_last_two_2 = diffupc2.loc[(diffupc2['INVOICE_UPC_CASE'].str == diffupc2['INVOICE_UPC_PACK'].str[:-2])]"
   ]
  },
  {
   "cell_type": "code",
   "execution_count": null,
   "id": "identified-static",
   "metadata": {},
   "outputs": [],
   "source": [
    "len(samewith_omit_last_two_2)"
   ]
  },
  {
   "cell_type": "code",
   "execution_count": null,
   "id": "injured-rochester",
   "metadata": {},
   "outputs": [],
   "source": [
    "len10.to_csv('~/Downloads/len10.csv', sep=',')"
   ]
  },
  {
   "cell_type": "code",
   "execution_count": null,
   "id": "alternative-howard",
   "metadata": {},
   "outputs": [],
   "source": [
    "len10.head(100)"
   ]
  },
  {
   "cell_type": "code",
   "execution_count": null,
   "id": "colored-complaint",
   "metadata": {},
   "outputs": [],
   "source": [
    "diffupc = len10.apply(lambda x : x['INVOICE_UPC_CASE'] if x['INVOICE_UPC_CASE'] != x['INVOICE_UPC_PACK'] else \"\", axis=1)"
   ]
  },
  {
   "cell_type": "code",
   "execution_count": null,
   "id": "immune-pilot",
   "metadata": {},
   "outputs": [],
   "source": [
    "sameupc = len10.loc[(len10['INVOICE_UPC_CASE'] == len10['INVOICE_UPC_PACK'])]\n"
   ]
  },
  {
   "cell_type": "code",
   "execution_count": null,
   "id": "cardiovascular-drilling",
   "metadata": {},
   "outputs": [],
   "source": [
    "len(sameupc) #339k same upc_case and upc_pack"
   ]
  },
  {
   "cell_type": "code",
   "execution_count": null,
   "id": "molecular-property",
   "metadata": {},
   "outputs": [],
   "source": [
    "diffupc = len10.loc[(len10['INVOICE_UPC_CASE'] != len10['INVOICE_UPC_PACK'])]"
   ]
  },
  {
   "cell_type": "code",
   "execution_count": null,
   "id": "marked-badge",
   "metadata": {},
   "outputs": [],
   "source": [
    "len(diffupc) #1.5 million differnt upc case and upc_pack"
   ]
  },
  {
   "cell_type": "code",
   "execution_count": null,
   "id": "resistant-violation",
   "metadata": {},
   "outputs": [],
   "source": [
    "samewith_omit_last_two = diffupc.loc[(diffupc['INVOICE_UPC_CASE'].str[:-2] == diffupc['INVOICE_UPC_PACK'].str[:-2])]"
   ]
  },
  {
   "cell_type": "code",
   "execution_count": null,
   "id": "color-somalia",
   "metadata": {},
   "outputs": [],
   "source": [
    "len(samewith_omit_last_two) # nuniquemoving last two digits, match count is only 58k"
   ]
  },
  {
   "cell_type": "code",
   "execution_count": null,
   "id": "upset-portfolio",
   "metadata": {},
   "outputs": [],
   "source": [
    "len(pd.unique(len10['INVOICE_UPC_CASE']))"
   ]
  },
  {
   "cell_type": "code",
   "execution_count": null,
   "id": "caring-mortgage",
   "metadata": {},
   "outputs": [],
   "source": [
    "len(pd.unique(len10['INVOICE_UPC_PACK']))"
   ]
  },
  {
   "cell_type": "code",
   "execution_count": null,
   "id": "collect-spotlight",
   "metadata": {},
   "outputs": [],
   "source": [
    "no_invoice_pack = len10[len10.isnull().any(axis=1)]"
   ]
  },
  {
   "cell_type": "code",
   "execution_count": null,
   "id": "cutting-treasurer",
   "metadata": {},
   "outputs": [],
   "source": [
    "len(no_invoice_pack) #843K doesn't have upc pack "
   ]
  },
  {
   "cell_type": "code",
   "execution_count": null,
   "id": "shared-destruction",
   "metadata": {},
   "outputs": [],
   "source": [
    "mapped.sort_values(by = 'PRODUCT_DESCRIPTION', inplace = True)\n"
   ]
  },
  {
   "cell_type": "code",
   "execution_count": null,
   "id": "pressing-costs",
   "metadata": {},
   "outputs": [],
   "source": [
    "noupc.sort_values(by = 'INVOICE_PACKAGE_DESCRIPTION', inplace = True)"
   ]
  },
  {
   "cell_type": "code",
   "execution_count": null,
   "id": "statewide-invasion",
   "metadata": {},
   "outputs": [],
   "source": [
    "mapped.columns"
   ]
  },
  {
   "cell_type": "code",
   "execution_count": null,
   "id": "formed-secretariat",
   "metadata": {},
   "outputs": [],
   "source": [
    "noupc.columns"
   ]
  },
  {
   "cell_type": "code",
   "execution_count": null,
   "id": "pediatric-integrity",
   "metadata": {},
   "outputs": [],
   "source": [
    "len10.head()"
   ]
  },
  {
   "cell_type": "code",
   "execution_count": null,
   "id": "dangerous-investing",
   "metadata": {},
   "outputs": [],
   "source": []
  },
  {
   "cell_type": "code",
   "execution_count": null,
   "id": "widespread-terrorism",
   "metadata": {},
   "outputs": [],
   "source": []
  },
  {
   "cell_type": "code",
   "execution_count": null,
   "id": "solved-objective",
   "metadata": {},
   "outputs": [],
   "source": []
  },
  {
   "cell_type": "code",
   "execution_count": 6,
   "id": "magnetic-viewer",
   "metadata": {
    "collapsed": true,
    "jupyter": {
     "outputs_hidden": true
    }
   },
   "outputs": [
    {
     "name": "stdout",
     "output_type": "stream",
     "text": [
      "CAYMUS CABERNET SAUVIGNON, NAPA VALLEY 0.5852813720703125\n",
      "BOTA BOX OLD VINE ZIN 0.4118354320526123\n",
      "UPTOWN COCKTAILS LIME MARGARITA 0.5523433685302734\n",
      "HUMMIN'BIRD BOTTLES 24 PER CASE(OUTSIDE BOTTLE SALES) 0.7231392860412598\n",
      "OAK LEAF MOSCATO WM 0.40786314010620117\n",
      "BOTA BOX CABERNET SAUV (3) 0.5904233455657959\n",
      "JOSEPHBRAU STOCKYARD OATMEAL STOUT 0.5975775718688965\n",
      "CUPCAKE CABERNET SAUVIGNON 0.46851015090942383\n",
      "GILBEYS GIN           80P 0.6399123668670654\n",
      "LOUIS JADOT BEAUJOLAIS VILLAGES 0.570549726486206\n",
      "FRANZIA WHT ZIN BIB 0.39963221549987793\n",
      "CASILLERO DEL DIABLO CARMENERE 0.7120151519775391\n",
      "BAREFOOT FRUITSCATO MOSCATO/MANGO 0.5901820659637451\n",
      "2 TOWNS CIDER C 2/12 VARIETY 0.5165209770202637\n",
      "BERINGER MAIN & VINE WZIN - CS6-1.5L 0.6063249111175537\n",
      "CHLOE PINOT GRIGIO 0.6060404777526855\n",
      "WOODBRIDGE CHARD 0.36553001403808594\n",
      "WH EMERGENCY DRINKING BEER 4/6/12CAN 0.6392128467559814\n",
      "LAZY BONES CAB FRANC 0.4327061176300049\n",
      "19 CRIMES CALI ROSE SNOOP DOGG 0.6142363548278809\n",
      "M CHEVALLIER BRUT CAVA 0.6722233295440674\n",
      "REBUTTEL CHARD CA 0.3843376636505127\n",
      "CASAMIGOS REPOSADO 0.4206564426422119\n",
      "BOTA BOX NGTHK BLK RED BLND 3PK BIB 0.573624849319458\n",
      "JIM BEAM LITER 0.3470456600189209\n",
      "SIMPLER TIMES PILSNER CANS 0.5613524913787842\n",
      "MILLER 64 CAN 24/12 0.6493463516235352\n",
      "BLACK STAR FARMS ARCTUROS LATE HARVEST RIESLING 0.8076820373535156\n",
      "DAILY'S BLUE HAWAIIAN 24CT 0.5849606990814209\n",
      "GNARLY HEAD 1924 CAB/SAU 0.5084726810455322\n",
      "MANISCHEWITZ BLACKBERRY 0.45816922187805176\n",
      "MCCORMICK VODKA 80 (1.75L) 0.5276055335998535\n",
      "SIERRA PALE ALE 2/12PK CAN - CS24-12Z 0.6170527935028076\n",
      "OAK LEAF SHIRAZ 0.3566896915435791\n",
      "****                            **** 1.034444808959961\n",
      "MOONX RED CA 0.320889949798584\n",
      "BOTA BOX SAUVIGNON BLANC (3) 0.5470964908599854\n",
      "BACARDI RUM PUNCH RTD - CAN 0.5247945785522461\n",
      "CROWN ROYAL REGAL APPLE (BAR) 0.5260124206542969\n",
      "5.0    PETER VELLA MERLOT 0.5300829410552979\n",
      "NOBLE VINES 667 PINOT NOIR 0.5357184410095215\n",
      "GL COM PERRY 4/6 PK CAN 0.463423490524292\n",
      "LINE 39 CHARDONNAY 0.43854737281799316\n",
      "14 HANDS MERLOT 0.3690962791442871\n",
      "JOSEPHBRAU PLZNR LAGER 0.8956832885742188\n",
      "3L     BOTA SAUVIGNON BLANC 0.5639913082122803\n",
      "BOTA BOX CHARDONNAY (3) 0.543022871017456\n",
      "BLANTONS 750ML 0.40488767623901367\n",
      "OSKAR BL DALES PALE ALE 6PK - CS24-12Z 0.6490006446838379\n",
      "PEARL-SNAP (50L) 0.42885732650756836\n"
     ]
    }
   ],
   "source": [
    "partial_ratio = []\n",
    "\n",
    "for i in noupc.iloc[750:800].itertuples():\n",
    "    outerstart = time.time()\n",
    "    for p in mapped.itertuples():\n",
    "        innerstart = time.time()\n",
    "        query = p.PRODUCT_DESCRIPTION\n",
    "        partial_ratio.append([p.PRODUCT_MASTER_CATALOG_KEY,i.INVOICE_PACKAGE_DESCRIPTION, fuzz.partial_ratio(i.INVOICE_PACKAGE_DESCRIPTION,query), p.PRODUCT_DESCRIPTION])\n",
    "#         token_set_ratio.append([i.INVOICE_PACKAGE_DESCRIPTION, fuzz.token_set_ratio(i.INVOICE_PACKAGE_DESCRIPTION,query), p.PRODUCT_DESCRIPTION])\n",
    "        inner_finish = time.time() - innerstart\n",
    "    outerfinish = time.time()-outerstart\n",
    "    print(i.INVOICE_PACKAGE_DESCRIPTION,outerfinish)\n",
    "\n",
    "\n",
    "# token_set_ratio = pd.DataFrame(token_set_ratio, columns=('attribute','set_score','target')).sort_values('set_score',ascending=False).reset_index()"
   ]
  },
  {
   "cell_type": "code",
   "execution_count": 7,
   "id": "surgical-european",
   "metadata": {},
   "outputs": [],
   "source": [
    "partial_ratio = pd.DataFrame(partial_ratio, columns=('key','attribute','partial_score','target')).sort_values('partial_score',ascending=False).reset_index()"
   ]
  },
  {
   "cell_type": "code",
   "execution_count": null,
   "id": "simple-baker",
   "metadata": {},
   "outputs": [],
   "source": []
  },
  {
   "cell_type": "code",
   "execution_count": null,
   "id": "brief-smoke",
   "metadata": {},
   "outputs": [],
   "source": []
  },
  {
   "cell_type": "code",
   "execution_count": null,
   "id": "dried-builder",
   "metadata": {},
   "outputs": [],
   "source": []
  },
  {
   "cell_type": "code",
   "execution_count": null,
   "id": "improved-amplifier",
   "metadata": {},
   "outputs": [],
   "source": []
  },
  {
   "cell_type": "code",
   "execution_count": null,
   "id": "pharmaceutical-secondary",
   "metadata": {},
   "outputs": [],
   "source": []
  },
  {
   "cell_type": "code",
   "execution_count": null,
   "id": "severe-federal",
   "metadata": {},
   "outputs": [],
   "source": []
  }
 ],
 "metadata": {
  "kernelspec": {
   "display_name": "Python 3",
   "language": "python",
   "name": "python3"
  },
  "language_info": {
   "codemirror_mode": {
    "name": "ipython",
    "version": 3
   },
   "file_extension": ".py",
   "mimetype": "text/x-python",
   "name": "python",
   "nbconvert_exporter": "python",
   "pygments_lexer": "ipython3",
   "version": "3.7.3"
  }
 },
 "nbformat": 4,
 "nbformat_minor": 5
}
