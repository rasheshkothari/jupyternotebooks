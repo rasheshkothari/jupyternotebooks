{
 "cells": [
  {
   "cell_type": "code",
   "execution_count": 1,
   "id": "stable-olympus",
   "metadata": {},
   "outputs": [],
   "source": [
    "import warnings\n",
    "warnings.filterwarnings('ignore')\n",
    "\n",
    "import pandas as pd\n",
    "import numpy as np\n",
    "import matplotlib.pyplot as plt\n",
    "import seaborn as sb\n",
    "from pylab import rcParams\n",
    "import os\n",
    "import re\n",
    "%matplotlib inline\n",
    "\n",
    "from rapidfuzz import fuzz, process, utils\n",
    "import jellyfish\n",
    "import snowflake.connector\n",
    "\n",
    "import time\n",
    "# from time import time\n",
    "\n",
    "import pandasql\n",
    "\n",
    "pd.options.display.max_colwidth = 10000\n",
    "pd.set_option('display.max_rows', 100000)\n"
   ]
  },
  {
   "cell_type": "code",
   "execution_count": 2,
   "id": "distinguished-vietnamese",
   "metadata": {},
   "outputs": [],
   "source": [
    "cnx = snowflake.connector.connect(user='rkothari', password='Fall19@123', account='FF80747.east-us-2.azure', warehouse='DASCI_WH_S', database='FDC_STAGE', schema='DASCI', role='DASCI_DEVELOPER')\n"
   ]
  },
  {
   "cell_type": "code",
   "execution_count": 3,
   "id": "fluid-literature",
   "metadata": {},
   "outputs": [],
   "source": [
    "q = \"\"\"SELECT * FROM FDC_PROD_LIVE.FDC02.ENTITY_INVOICE I\n",
    "WHERE  INVOICE_UPDATE_DATETIME BETWEEN '2021-08-10 13:00:00.000' AND '2021-08-10 14:00:00.000' \n",
    "\"\"\""
   ]
  },
  {
   "cell_type": "code",
   "execution_count": 4,
   "id": "remarkable-carolina",
   "metadata": {},
   "outputs": [],
   "source": [
    "ENTITY = pd.read_sql(q,cnx)"
   ]
  },
  {
   "cell_type": "code",
   "execution_count": 5,
   "id": "mexican-california",
   "metadata": {},
   "outputs": [
    {
     "data": {
      "text/plain": [
       "453455"
      ]
     },
     "execution_count": 5,
     "metadata": {},
     "output_type": "execute_result"
    }
   ],
   "source": [
    "len(ENTITY)"
   ]
  },
  {
   "cell_type": "code",
   "execution_count": 6,
   "id": "finished-circle",
   "metadata": {},
   "outputs": [],
   "source": [
    "ENTITY.to_csv(\"/home/rkothari/Downloads/ENTITY.csv\")"
   ]
  },
  {
   "cell_type": "code",
   "execution_count": 7,
   "id": "interim-evaluation",
   "metadata": {},
   "outputs": [],
   "source": [
    "q2 = \"\"\"  SELECT distinct INVOICE_UPC_CASE as PRODUCT_UPC_CASE ,GTIN,\n",
    "PRODUCT_DESCRIPTION from FDC_STAGE.DASCI.RK_PROD_CAT_MAPPED_TEMP\"\"\""
   ]
  },
  {
   "cell_type": "code",
   "execution_count": 8,
   "id": "intensive-sensitivity",
   "metadata": {},
   "outputs": [],
   "source": [
    "RK_PROD_CAT_MAPPED = pd.read_sql(q2,cnx)"
   ]
  },
  {
   "cell_type": "code",
   "execution_count": 9,
   "id": "fresh-ethnic",
   "metadata": {},
   "outputs": [],
   "source": [
    "RK_PROD_CAT_MAPPED.to_csv(\"/home/rkothari/Downloads/RK_PROD_CAT_MAPPED.csv\")"
   ]
  },
  {
   "cell_type": "code",
   "execution_count": 10,
   "id": "western-triangle",
   "metadata": {},
   "outputs": [],
   "source": [
    "data = pandasql.sqldf(\"SELECT DISTINCT DISTRIBUTOR_FDC_ID,DISTRIBUTOR_FTS_ID,INVOICE_UPDATE_DATETIME,INVOICE_UPC_CASE,INVOICE_UPC_PACK,INVOICE_PACKAGE_DESCRIPTION , GTIN, PRODUCT_DESCRIPTION FROM \\\n",
    "                      ENTITY,RK_PROD_CAT_MAPPED WHERE INVOICE_UPC_CASE = PRODUCT_UPC_CASE OR INVOICE_UPC_PACK = PRODUCT_UPC_CASE\")"
   ]
  },
  {
   "cell_type": "code",
   "execution_count": 11,
   "id": "cardiovascular-excuse",
   "metadata": {},
   "outputs": [],
   "source": [
    "data.to_csv(\"/home/rkothari/Downloads/master_data.csv\")"
   ]
  },
  {
   "cell_type": "code",
   "execution_count": 29,
   "id": "gorgeous-snapshot",
   "metadata": {},
   "outputs": [],
   "source": [
    "data2 = pandasql.sqldf(\"SELECT DISTINCT DISTRIBUTOR_FDC_ID,DISTRIBUTOR_FTS_ID,INVOICE_UPDATE_DATETIME,INVOICE_UPC_CASE,INVOICE_UPC_PACK,INVOICE_PACKAGE_DESCRIPTION , GTIN, PRODUCT_DESCRIPTION FROM \\\n",
    "                      ENTITY,RK_PROD_CAT_MAPPED WHERE INVOICE_UPC_CASE = PRODUCT_UPC_CASE \\\n",
    "                      union \\\n",
    "                    SELECT DISTINCT DISTRIBUTOR_FDC_ID,DISTRIBUTOR_FTS_ID,INVOICE_UPDATE_DATETIME,INVOICE_UPC_CASE,INVOICE_UPC_PACK,INVOICE_PACKAGE_DESCRIPTION , GTIN, PRODUCT_DESCRIPTION FROM \\\n",
    "                      ENTITY,RK_PROD_CAT_MAPPED WHERE  \\\n",
    "                       INVOICE_UPC_PACK = PRODUCT_UPC_CASE\")"
   ]
  },
  {
   "cell_type": "code",
   "execution_count": 30,
   "id": "delayed-remainder",
   "metadata": {},
   "outputs": [
    {
     "data": {
      "text/plain": [
       "573573"
      ]
     },
     "execution_count": 30,
     "metadata": {},
     "output_type": "execute_result"
    }
   ],
   "source": [
    "len(data2)"
   ]
  },
  {
   "cell_type": "code",
   "execution_count": 12,
   "id": "architectural-updating",
   "metadata": {},
   "outputs": [],
   "source": [
    "matched_description = data[data['INVOICE_PACKAGE_DESCRIPTION'] == data['PRODUCT_DESCRIPTION']]"
   ]
  },
  {
   "cell_type": "code",
   "execution_count": 13,
   "id": "stunning-medicine",
   "metadata": {},
   "outputs": [
    {
     "data": {
      "text/plain": [
       "1048"
      ]
     },
     "execution_count": 13,
     "metadata": {},
     "output_type": "execute_result"
    }
   ],
   "source": [
    "len(matched_description)"
   ]
  },
  {
   "cell_type": "code",
   "execution_count": 14,
   "id": "rubber-transfer",
   "metadata": {},
   "outputs": [
    {
     "data": {
      "text/plain": [
       "0.001827143188399733"
      ]
     },
     "execution_count": 14,
     "metadata": {},
     "output_type": "execute_result"
    }
   ],
   "source": [
    "# % Match\n",
    "len(matched_description)/len(data)"
   ]
  },
  {
   "cell_type": "code",
   "execution_count": 15,
   "id": "bibliographic-health",
   "metadata": {},
   "outputs": [
    {
     "data": {
      "text/plain": [
       "573573"
      ]
     },
     "execution_count": 15,
     "metadata": {},
     "output_type": "execute_result"
    }
   ],
   "source": [
    "len(data)"
   ]
  },
  {
   "cell_type": "code",
   "execution_count": 16,
   "id": "public-analyst",
   "metadata": {},
   "outputs": [],
   "source": [
    "filtered_data = data[~data['INVOICE_PACKAGE_DESCRIPTION'].isin(matched_description.INVOICE_PACKAGE_DESCRIPTION)]"
   ]
  },
  {
   "cell_type": "code",
   "execution_count": 17,
   "id": "valuable-legislature",
   "metadata": {},
   "outputs": [
    {
     "data": {
      "text/plain": [
       "571724"
      ]
     },
     "execution_count": 17,
     "metadata": {},
     "output_type": "execute_result"
    }
   ],
   "source": [
    "len(filtered_data)"
   ]
  },
  {
   "cell_type": "code",
   "execution_count": 18,
   "id": "front-medicare",
   "metadata": {},
   "outputs": [],
   "source": [
    "filtered_data['new_invoice_description'] = ''"
   ]
  },
  {
   "cell_type": "code",
   "execution_count": 19,
   "id": "worldwide-shuttle",
   "metadata": {},
   "outputs": [],
   "source": [
    "filtered_data.reset_index(inplace=True)"
   ]
  },
  {
   "cell_type": "code",
   "execution_count": 20,
   "id": "underlying-indication",
   "metadata": {},
   "outputs": [],
   "source": [
    "def calculate_soundex_ratio(x,y):\n",
    "    Xsoundex = jellyfish.soundex(x)\n",
    "    Ysoundex = jellyfish.soundex(y)\n",
    "    return calculate_fuzz_ratio(Xsoundex,Ysoundex)"
   ]
  },
  {
   "cell_type": "code",
   "execution_count": 21,
   "id": "romance-chest",
   "metadata": {},
   "outputs": [],
   "source": [
    "def calculate_fuzz_ratio(x,y):\n",
    "    return fuzz.partial_ratio(x,y)"
   ]
  },
  {
   "cell_type": "code",
   "execution_count": 22,
   "id": "sufficient-upper",
   "metadata": {},
   "outputs": [],
   "source": [
    "def mapping_logic(invoice_description,product_description, fuzzy_threshold, soundex_threshold):\n",
    "    flag = \"NEED TO INSPECT\"\n",
    "#Fuzzy call\n",
    "    fuzzy_ratio = calculate_fuzz_ratio(invoice_description ,product_description)\n",
    "\n",
    "    if fuzzy_ratio >= fuzzy_threshold:\n",
    "        \n",
    "        return product_description\n",
    "    else:\n",
    "#Soundex Call\n",
    "        soundex_fuzz_ratio = calculate_soundex_ratio(invoice_description ,product_description)\n",
    "        if soundex_fuzz_ratio >= soundex_threshold:\n",
    "            return product_description \n",
    "        else:\n",
    "            return flag\n"
   ]
  },
  {
   "cell_type": "code",
   "execution_count": 23,
   "id": "crucial-career",
   "metadata": {},
   "outputs": [],
   "source": [
    "def left(string, length):\n",
    "    return string[:length]\n",
    "\n",
    "def right(string, length):\n",
    "    return string[-length:]"
   ]
  },
  {
   "cell_type": "code",
   "execution_count": 24,
   "id": "pacific-treasurer",
   "metadata": {},
   "outputs": [],
   "source": [
    "GTIN_LENGTH =  [14,13,12,11,10]\n",
    "def mapping_function(data,i, match_upc, fuzzy_threshold, soundex_threshold):\n",
    "    flag = \"NEED TO INSPECT\"\n",
    "    invoice_description     = data['INVOICE_PACKAGE_DESCRIPTION'][i]\n",
    "    \n",
    "    product_description     = data['PRODUCT_DESCRIPTION'][i]\n",
    "#    invoice_product_is_id   = data['PRODUCT_IS_ID'][0]\n",
    "#    product_master_key      = data['PRODUCT_MASTER_CATALOG_KEY'][0]\n",
    "    GTIN                    = data['GTIN'][i]\n",
    "    \n",
    "    \n",
    "    \n",
    "    for N in GTIN_LENGTH:\n",
    "    \n",
    "        if len(GTIN) == 14:                                   #Length 14 \n",
    "                if invoice_description != product_description:    # if description doesn't not match\n",
    "                    return mapping_logic(invoice_description,product_description, fuzzy_threshold, soundex_threshold)        #Call mapping logic\n",
    "        elif right(GTIN,N) == match_upc and invoice_description != product_description:\n",
    "            \n",
    "            return mapping_logic(invoice_description,product_description, fuzzy_threshold, soundex_threshold) \n",
    "        elif left(GTIN,N) == match_upc and invoice_description != product_description:\n",
    "            \n",
    "            return mapping_logic(invoice_description,product_description, fuzzy_threshold, soundex_threshold) \n",
    "        else:\n",
    "            return flag\n",
    "\n",
    "\n",
    "\n",
    "            \n",
    "\n",
    "            \n",
    "        \n"
   ]
  },
  {
   "cell_type": "code",
   "execution_count": 25,
   "id": "statewide-scale",
   "metadata": {},
   "outputs": [],
   "source": [
    "\n",
    "for i in range(0,len(filtered_data)):\n",
    "\n",
    "    filtered_data['new_invoice_description'][i] = mapping_function(filtered_data,i,filtered_data['INVOICE_UPC_CASE'][i],50,70)\n",
    "\n",
    "\n",
    "for i in range(0,len(filtered_data)):\n",
    "    for n in GTIN_LENGTH:\n",
    "        if  filtered_data['new_invoice_description'][i] == \"NEED TO INSPECT\":\n",
    "            \n",
    "            filtered_data['new_invoice_description'][i] = mapping_function(filtered_data,i,filtered_data['INVOICE_UPC_PACK'][i],50,70)\n",
    "\n"
   ]
  },
  {
   "cell_type": "code",
   "execution_count": 27,
   "id": "respective-income",
   "metadata": {},
   "outputs": [],
   "source": [
    "need_to_inspect = filtered_data[filtered_data['new_invoice_description'] == 'NEED TO INSPECT']\n"
   ]
  },
  {
   "cell_type": "code",
   "execution_count": 28,
   "id": "attached-steel",
   "metadata": {},
   "outputs": [
    {
     "data": {
      "text/plain": [
       "17073"
      ]
     },
     "execution_count": 28,
     "metadata": {},
     "output_type": "execute_result"
    }
   ],
   "source": [
    "len(need_to_inspect)"
   ]
  },
  {
   "cell_type": "code",
   "execution_count": null,
   "id": "motivated-charter",
   "metadata": {},
   "outputs": [],
   "source": []
  },
  {
   "cell_type": "code",
   "execution_count": null,
   "id": "transparent-springfield",
   "metadata": {},
   "outputs": [],
   "source": []
  },
  {
   "cell_type": "code",
   "execution_count": null,
   "id": "caroline-bowling",
   "metadata": {},
   "outputs": [],
   "source": []
  },
  {
   "cell_type": "code",
   "execution_count": null,
   "id": "nervous-worthy",
   "metadata": {},
   "outputs": [],
   "source": []
  },
  {
   "cell_type": "code",
   "execution_count": null,
   "id": "educational-blink",
   "metadata": {},
   "outputs": [],
   "source": []
  },
  {
   "cell_type": "code",
   "execution_count": null,
   "id": "organic-spelling",
   "metadata": {},
   "outputs": [],
   "source": []
  }
 ],
 "metadata": {
  "kernelspec": {
   "display_name": "Python 3",
   "language": "python",
   "name": "python3"
  },
  "language_info": {
   "codemirror_mode": {
    "name": "ipython",
    "version": 3
   },
   "file_extension": ".py",
   "mimetype": "text/x-python",
   "name": "python",
   "nbconvert_exporter": "python",
   "pygments_lexer": "ipython3",
   "version": "3.7.3"
  }
 },
 "nbformat": 4,
 "nbformat_minor": 5
}
