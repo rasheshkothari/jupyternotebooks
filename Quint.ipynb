{
 "cells": [
  {
   "cell_type": "code",
   "execution_count": 1,
   "id": "maritime-integration",
   "metadata": {},
   "outputs": [],
   "source": [
    "\n",
    "\n",
    "import rapidfuzz\n",
    "from rapidfuzz import fuzz,process, utils\n",
    "\n",
    "import nltk\n",
    "from nltk.tokenize import word_tokenize\n",
    "from nltk.corpus import stopwords, wordnet\n",
    "from nltk.stem import WordNetLemmatizer\n",
    "from nltk.stem import WordNetLemmatizer\n",
    "from nltk.tokenize import RegexpTokenizer\n",
    "from nltk.corpus import stopwords\n",
    "# nltk.download('punkt')\n",
    "# nltk.download('stopwords') \n",
    "\n",
    "import pandasql\n",
    "\n",
    "\n",
    "\n",
    "import pandas as pd\n",
    "from pandas.core.common import flatten\n",
    "\n",
    "import timeit\n",
    "import time\n",
    "\n",
    "import numpy as np\n",
    "pd.options.display.max_colwidth = 10000\n",
    "pd.set_option('display.max_rows', 100000)"
   ]
  },
  {
   "cell_type": "code",
   "execution_count": 2,
   "id": "existing-piece",
   "metadata": {},
   "outputs": [],
   "source": [
    "\n",
    "\n",
    "#importing the file\n",
    "\n",
    "library = pd.read_csv('/home/rkothari/Downloads/quint_library_csv.csv')\n",
    "unmapped = pd.read_csv('/home/rkothari/Downloads/quint_unmapped_csv.csv')\n",
    "\n",
    "\n"
   ]
  },
  {
   "cell_type": "code",
   "execution_count": 3,
   "id": "ignored-julian",
   "metadata": {},
   "outputs": [],
   "source": [
    "library = library[library['CLIENT_ID'] == 67]"
   ]
  },
  {
   "cell_type": "code",
   "execution_count": 4,
   "id": "integrated-birth",
   "metadata": {},
   "outputs": [
    {
     "data": {
      "text/plain": [
       "3579"
      ]
     },
     "execution_count": 4,
     "metadata": {},
     "output_type": "execute_result"
    }
   ],
   "source": [
    "len(library)"
   ]
  },
  {
   "cell_type": "code",
   "execution_count": 5,
   "id": "colonial-archives",
   "metadata": {},
   "outputs": [
    {
     "data": {
      "text/plain": [
       "Index(['PRODUCT_LIBRARY_KEY', 'CLIENT_ID', 'PROVIDER_ID', 'PROVIDER_SOURCE_ID',\n",
       "       'PRODUCT_ID', 'PRODUCT_DESCRIPTION', 'SIZE_UOM', 'SIZE_RAW',\n",
       "       'SIZE_VALUE', 'SELLING_UOM', 'PACK_RAW', 'PACK', 'UNITS_PER_PALLET',\n",
       "       'EQUIV_VALUE', 'STRENGTH', 'UPC', 'SCC', 'EAN', 'MANUFACTURER_NAME',\n",
       "       'AUTOMAP_ID', 'CURRENT_FEED_FLAG', 'ACTIVE_FLAG', 'SOURCE_SYSTEM_ID',\n",
       "       'AUDIT_LOAD_KEY', 'FILE_KEY', 'CREATE_DATE', 'UPDATE_DATE',\n",
       "       'UPDATE_USER_ID', 'AGE'],\n",
       "      dtype='object')"
      ]
     },
     "execution_count": 5,
     "metadata": {},
     "output_type": "execute_result"
    }
   ],
   "source": [
    "library.columns"
   ]
  },
  {
   "cell_type": "code",
   "execution_count": 6,
   "id": "determined-marketing",
   "metadata": {},
   "outputs": [
    {
     "data": {
      "text/plain": [
       "Index(['ProductKey', 'PRODUCT_ID', 'PRODUCT_DESCRIPTION', 'SIZE_RAW',\n",
       "       'SIZE_VALUE', 'PACK_RAW', 'PACK', 'STRENGTH', 'PROVIDER_SOURCE_ID',\n",
       "       'PROVIDER_ID', 'CLIENT_ID', 'SOURCE_SYSTEM_ID', 'UNIVERSAL_PROD_CODE',\n",
       "       'ACTIVE_FLAG', 'CREATE_DATE', 'AUTOMAP_ID', 'MANUFACTURER_NAME',\n",
       "       'CATEGORY_LEVEL_LL_DESCR', 'BRAND_LEVEL_LL_DESCR'],\n",
       "      dtype='object')"
      ]
     },
     "execution_count": 6,
     "metadata": {},
     "output_type": "execute_result"
    }
   ],
   "source": [
    "unmapped.columns"
   ]
  },
  {
   "cell_type": "code",
   "execution_count": 7,
   "id": "south-input",
   "metadata": {},
   "outputs": [],
   "source": [
    "# data =  pd.merge(library[['PRODUCT_LIBRARY_KEY','CLIENT_ID','PRODUCT_DESCRIPTION','SIZE_RAW', 'SIZE_VALUE','PACK_RAW','AGE' ]],\n",
    "#                  unmapped[['ProductKey', 'PRODUCT_DESCRIPTION', 'SIZE_RAW','PACK_RAW']],\n",
    "#                  left_on='PRODUCT_LIBRARY_KEY', right_on = 'ProductKey', how='inner')\n",
    "# data.head()"
   ]
  },
  {
   "cell_type": "code",
   "execution_count": 8,
   "id": "independent-faith",
   "metadata": {},
   "outputs": [],
   "source": [
    "# data.to_csv(\"/home/rkothari/Downloads/Quint_joined.csv\")"
   ]
  },
  {
   "cell_type": "code",
   "execution_count": 9,
   "id": "secure-hearts",
   "metadata": {},
   "outputs": [],
   "source": [
    "# data= pandasql.sqldf(\"SELECT l.PRODUCT_LIBRARY_KEY, l.CLIENT_ID, l.PRODUCT_DESCRIPTION, l.SIZE_RAW, l.SIZE_VALUE, l.PACK_RAW, l.AGE, \\\n",
    "#                      u.ProductKey, u.PRODUCT_DESCRIPTION, u.SIZE_RAW,u.PACK_RAW from library l, unmapped u where \\\n",
    "#                      l.PRODUCT_LIBRARY_KEY = u.ProductKey\")"
   ]
  },
  {
   "cell_type": "code",
   "execution_count": 12,
   "id": "ceramic-store",
   "metadata": {},
   "outputs": [
    {
     "name": "stderr",
     "output_type": "stream",
     "text": [
      "/usr/local/lib/python3.7/dist-packages/ipykernel_launcher.py:2: SettingWithCopyWarning: \n",
      "A value is trying to be set on a copy of a slice from a DataFrame\n",
      "\n",
      "See the caveats in the documentation: https://pandas.pydata.org/pandas-docs/stable/user_guide/indexing.html#returning-a-view-versus-a-copy\n",
      "  \n",
      "/usr/local/lib/python3.7/dist-packages/ipykernel_launcher.py:3: SettingWithCopyWarning: \n",
      "A value is trying to be set on a copy of a slice from a DataFrame.\n",
      "Try using .loc[row_indexer,col_indexer] = value instead\n",
      "\n",
      "See the caveats in the documentation: https://pandas.pydata.org/pandas-docs/stable/user_guide/indexing.html#returning-a-view-versus-a-copy\n",
      "  This is separate from the ipykernel package so we can avoid doing imports until\n",
      "/usr/local/lib/python3.7/dist-packages/ipykernel_launcher.py:4: SettingWithCopyWarning: \n",
      "A value is trying to be set on a copy of a slice from a DataFrame.\n",
      "Try using .loc[row_indexer,col_indexer] = value instead\n",
      "\n",
      "See the caveats in the documentation: https://pandas.pydata.org/pandas-docs/stable/user_guide/indexing.html#returning-a-view-versus-a-copy\n",
      "  after removing the cwd from sys.path.\n"
     ]
    }
   ],
   "source": [
    "library_subset = library[[\"PRODUCT_LIBRARY_KEY\",\"PRODUCT_DESCRIPTION\",\"SIZE_VALUE\", \"PACK\",\"UPC\",\"AGE\"]]\n",
    "library_subset.dropna(subset=[\"PRODUCT_DESCRIPTION\"], inplace=True)\n",
    "library_subset[\"PRODUCT_DESCRIPTION\"] = library_subset[\"PRODUCT_DESCRIPTION\"] \n",
    "library_subset[\"all_details\"] = library_subset['AGE'].map(str) + \"| \" + library_subset[\"SIZE_VALUE\"].map(str) + \"| \" + library_subset[\"PACK\"].map(str) "
   ]
  },
  {
   "cell_type": "code",
   "execution_count": 13,
   "id": "seven-cosmetic",
   "metadata": {},
   "outputs": [
    {
     "name": "stderr",
     "output_type": "stream",
     "text": [
      "/usr/local/lib/python3.7/dist-packages/ipykernel_launcher.py:2: SettingWithCopyWarning: \n",
      "A value is trying to be set on a copy of a slice from a DataFrame.\n",
      "Try using .loc[row_indexer,col_indexer] = value instead\n",
      "\n",
      "See the caveats in the documentation: https://pandas.pydata.org/pandas-docs/stable/user_guide/indexing.html#returning-a-view-versus-a-copy\n",
      "  \n",
      "/usr/local/lib/python3.7/dist-packages/ipykernel_launcher.py:3: SettingWithCopyWarning: \n",
      "A value is trying to be set on a copy of a slice from a DataFrame.\n",
      "Try using .loc[row_indexer,col_indexer] = value instead\n",
      "\n",
      "See the caveats in the documentation: https://pandas.pydata.org/pandas-docs/stable/user_guide/indexing.html#returning-a-view-versus-a-copy\n",
      "  This is separate from the ipykernel package so we can avoid doing imports until\n"
     ]
    }
   ],
   "source": [
    "unmapped_subset = unmapped[[\"ProductKey\",\"PRODUCT_DESCRIPTION\",\"SIZE_VALUE\", \"PACK\"]]\n",
    "unmapped_subset[\"PRODUCT_DESCRIPTION\"] = unmapped_subset[\"PRODUCT_DESCRIPTION\"]\n",
    "unmapped_subset[\"all_details\"] = unmapped_subset[\"SIZE_VALUE\"].map(str) + \"| \" +unmapped_subset[\"PACK\"].map(str)"
   ]
  },
  {
   "cell_type": "code",
   "execution_count": 20,
   "id": "russian-connectivity",
   "metadata": {},
   "outputs": [],
   "source": [
    "ratio = []\n",
    "l = [3621,3623,3638,3639,3640,3648,3650,3672, 3673,3674,3675,3676,3677,3678,3679,3680,3681,3682,3683,3684,3685,3686]\n",
    "file1 = open(\"quintential_part1.csv\", \"a\") \n",
    "for i in unmapped_subset.index:\n",
    "#     start = time.time()\n",
    "    for j in library_subset.index:\n",
    "        if j not in l:\n",
    "           \n",
    "\n",
    "            ratio.append([unmapped_subset.loc[i,\"ProductKey\"],unmapped_subset.loc[i,'PRODUCT_DESCRIPTION'],unmapped_subset.loc[i,\"all_details\"],\n",
    "                          library_subset.loc[j,\"PRODUCT_LIBRARY_KEY\"],library_subset.loc[j,\"PRODUCT_DESCRIPTION\"],library_subset.loc[j,\"all_details\"],library_subset.loc[j,\"UPC\"], \n",
    "                          fuzz.partial_ratio(unmapped_subset.loc[i,\"PRODUCT_DESCRIPTION\"],library_subset.loc[j,\"PRODUCT_DESCRIPTION\"]), \n",
    "                          fuzz.token_set_ratio(unmapped_subset.loc[i,\"PRODUCT_DESCRIPTION\"],library_subset.loc[j,\"PRODUCT_DESCRIPTION\"])])\n",
    "            ratiox = pd.DataFrame(ratio, columns=('unmapped_ProductKey','unmapped_desc',\"all_details\",\"library_product_key\",'library_desc','all_details','UPC','partial_ratio_score','token_set_ratio')).sort_values('partial_ratio_score',ascending=False).groupby(\"unmapped_desc\").head(5).reset_index()\n",
    "            export_file = ratiox\n",
    "#     print(export_file)\n",
    "    export_file.to_csv(file1, header=False)\n",
    "#     end = time.time()\n",
    "#     print((end-start))                                           \n",
    "    ratio = []\n",
    "    del ratiox\n",
    "\n"
   ]
  },
  {
   "cell_type": "markdown",
   "id": "italian-omega",
   "metadata": {},
   "source": [
    " "
   ]
  },
  {
   "cell_type": "code",
   "execution_count": 21,
   "id": "hollywood-seller",
   "metadata": {},
   "outputs": [],
   "source": [
    "file1.close()\n"
   ]
  },
  {
   "cell_type": "code",
   "execution_count": null,
   "id": "unsigned-collector",
   "metadata": {},
   "outputs": [],
   "source": []
  }
 ],
 "metadata": {
  "kernelspec": {
   "display_name": "Python 3",
   "language": "python",
   "name": "python3"
  },
  "language_info": {
   "codemirror_mode": {
    "name": "ipython",
    "version": 3
   },
   "file_extension": ".py",
   "mimetype": "text/x-python",
   "name": "python",
   "nbconvert_exporter": "python",
   "pygments_lexer": "ipython3",
   "version": "3.7.3"
  }
 },
 "nbformat": 4,
 "nbformat_minor": 5
}
